<!DOCTYPE html>
<html lang="en-US">
  <head data-suburl="">
    <meta http-equiv="Content-Type" content="text/html; charset=UTF-8"/>
    <meta http-equiv="X-UA-Compatible" content="IE=edge"/>
    
    
      <meta name="viewport" content="width=device-width, initial-scale=1"/>
    
    <meta name="referrer" content="no-referrer"/>
    <meta name="_csrf" content="TFfGKLBat6ealDA-5PFXsC5DY246MTY4MDc2ODg5NDY3MDQ3MjE1OQ"/>
    <meta name="_suburl" content=""/>
    <meta name="_appversion" content="30de51cc3621464c0295db194fb481ae75e34800" />
    <meta name="_bareRepo" content="false"/>

    
    
  <script>(function(w, d, s, l, i) {
      w[l] = w[l] || [];
      w[l].push({
        'gtm.start':
          new Date().getTime(), event: 'gtm.js'
      });
      var f = d.getElementsByTagName(s)[0],
        j = d.createElement(s),
        dl = l != 'dataLayer' ? '&l=' + l : '';
      j.async = true;
      j.src =
        'https://www.googletagmanager.com/gtm.js?id=' + i + dl;
      f.parentNode.insertBefore(j, f);
    })(window, document, 'script', 'dataLayer', 'GTM-PGHTMDN');</script>

    

    
    
      
  <title>Omdena/HeartKinetics  - general | DagsHub</title>
  <meta name="description" content="Contribute to Omdena/HeartKinetics by creating an account on DagsHub. Where people create machine learning projects.">


<meta property="og:site_name" content="DAGsHub">
<meta property="og:type" content="object"/>
<meta property="og:title" content="Omdena/HeartKinetics">
<meta property="og:url" content="https://dagshub.com/Omdena/HeartKinetics"/>
<meta property="og:description"
      content="Contribute to Omdena/HeartKinetics by creating an account on DAGsHub.">
<meta property="og:image" content="https://dagshub.com/avatars/1059"/>

<meta property="twitter:site" content="@TheRealDAGsHub">
<meta property="twitter:card" content="summary">
<meta property="twitter:title" content="Omdena/HeartKinetics">
<meta property="twitter:description"
      content="Contribute to Omdena/HeartKinetics by creating an account on DAGsHub.">
<meta property="twitter:image:src" content="https://dagshub.com/avatars/1059">
<script type="application/ld+json">
{
  "@context": "https://www.schema.org",
  "@type": "SoftwareSourceCode",
  "codeRepository": "https://dagshub.com/Omdena/HeartKinetics",
  "name": "Omdena/HeartKinetics",
  "about": "Contribute to Omdena/HeartKinetics by creating an account on DAGsHub.",
  "author": {
    
      "@type": "Organization",
      "name": "Omdena",
      "url": "https://omdena.com/",
      "logo": {
        "@type": "ImageObject",
        "url": "https://dagshub.com/avatars/1059",
        "height": 140,
        "width": 140
      }
    
  },
  "url": "https://dagshub.com/Omdena/HeartKinetics",
  "image": "https://dagshub.com/avatars/1059"
}



</script>

    

    <link rel="shortcut icon" href="/img/favicon.png"/>

    <script src="/js/jquery-3.6.0.min.js"></script>
    
  <link rel="stylesheet" href="https://cdnjs.cloudflare.com/ajax/libs/font-awesome/5.15.3/css/all.css"
        integrity="sha512-3icgkoIO5qm2D4bGSUkPqeQ96LS8+ukJC7Eqhl1H5B2OJMEnFqLmNDxXVmtV/eq5M65tTDkUYS/Q0P4gvZv+yA=="
        crossorigin="anonymous"
        referrerpolicy="no-referrer" />


    <link rel="stylesheet" href="/assets/octicons-4.3.0/octicons.min.css">

    
    
      <script src="/plugins/notebookjs-0.4.2/notebook.min.js"></script>
      <script src="/plugins/marked-0.8.1/marked.min.js"></script>
    

    
      <link rel="stylesheet" href="/css/file_display/tabular_preview.css?v=30de51cc3621464c0295db194fb481ae75e34800"/>
<script type="text/javascript" src="/js/tabular_preview.js?v=30de51cc3621464c0295db194fb481ae75e34800"></script>

  <script src="https://cdn.jsdelivr.net/npm/ag-grid-community@25.0.1/dist/ag-grid-community.min.js"
          integrity="sha256-lPC7PcjHvZDc89k3mS7aKDLiAimkfio//HkFD5bnelg="
          crossorigin="anonymous"></script>
  


    

    

    

    

    

    

    
      <link rel="stylesheet" href="/plugins/simplemde-1.10.1/simplemde.min.css">
      <script src="/plugins/simplemde-1.10.1/simplemde.min.js"></script>
      <script src="/plugins/codemirror-5.17.0/addon/mode/loadmode.js"></script>
      <script src="/plugins/codemirror-5.17.0/mode/meta.js"></script>
      <script>
        CodeMirror.modeURL = "/plugins/codemirror-5.17.0/mode/%N/%N.js";
      </script>
      <script type="text/javascript" async
              src="https://cdnjs.cloudflare.com/ajax/libs/mathjax/2.7.7/latest.js?config=TeX-MML-AM_CHTML">
      </script>
      <script type="text/x-mathjax-config">
        MathJax.Hub.Config({
          tex2jax: {inlineMath: [['$','$']]},
          asciimath2jax: {
            delimiters: []
          }
        });
      </script>
    

    
    
    <link rel="preload" href="/css/themes/default/assets/fonts/brand-icons.woff2" as="font"
          type="font/woff2" crossorigin/>
    <link rel="preload" href="/css/themes/default/assets/fonts/icons.woff2" as="font" type="font/woff2"
          crossorigin/>
    <link rel="preload" href="/assets/fontawesome-5.15.3/webfonts/fa-solid-900.woff2" as="font"
          type="font/woff2" crossorigin/>

    
    <link rel="stylesheet" href="/css/semantic-2.4.2.min.css">

    
    <link rel="stylesheet" href="/css/build/dagshub.css?v=30de51cc3621464c0295db194fb481ae75e34800">
    <link rel="stylesheet" href="/css/gogs.css?v=30de51cc3621464c0295db194fb481ae75e34800">

    
    <link rel="preconnect" href="https://fonts.googleapis.com">
    <link rel="preconnect" href="https://fonts.gstatic.com" crossorigin>
    <link href="https://fonts.googleapis.com/css?family=Comfortaa|Lato:300,400,700,900|Jaldi|Open+Sans&display=swap" rel="stylesheet">

    <noscript>
      <style>
        .dropdown:hover > .menu {
          display: block;
        }

        .ui.secondary.menu .dropdown.item > .menu {
          margin-top: 0;
        }
      </style>
    </noscript>
    <script src="/js/semantic-2.4.2.min.js"></script>

    
    
      <link rel="stylesheet" href="/css/build/static_dagshub.css?v=30de51cc3621464c0295db194fb481ae75e34800">
      <link href="https://fonts.googleapis.com/css2?family=Inter:wght@300;400;500;600;700;900&display=swap" rel="stylesheet">
      <link href='https://fonts.googleapis.com/css?family=Fira Code:wght@300;400;500;600;700;900' rel='stylesheet'>
    

    <meta name="theme-color" content="#103037">

    
  <script src="https://www.google.com/recaptcha/api.js" async defer></script>



    
  </head>
  <body>

    
  <script> 
    window.dagsHubUserInfo = {
      id: "8304",
      name: "Bcopeland64",
      email: "bcopeland64@gmail.com",
      createdAt: "2022-03-25T21:35:07Z",
    };
  </script>




  <noscript>
    <iframe src="https://www.googletagmanager.com/ns.html?id=GTM-PGHTMDN"
            height="0" width="0" style="display:none;visibility:hidden"></iframe>
  </noscript>




<div class="ui tiny modal" id="contact-modal">
  <i class="close icon"></i>
  <div class="header">
    Contact us
  </div>
  <form id="contact-form" class="ui form content" action="contact_form" method="post">
    <input type="hidden" name="_csrf" value="TFfGKLBat6ealDA-5PFXsC5DY246MTY4MDc2ODg5NDY3MDQ3MjE1OQ">
    <div class="required field">
      <label for="user_name">Your email address</label>
      <input name="email" type="email" value="bcopeland64@gmail.com"
             placeholder="tony@stark-industries.com" required>
    </div>
    <div class="required field">
      <label for="subject">Subject</label>
      <input name="subject" value="Hi DAGsHub, let's talk" placeholder="What would you like to talk about?" required>
    </div>
    <div class="required field">
      <textarea class="autosize" name="body" rows="7"  autofocus ></textarea>
    </div>
    
      <script type="text/javascript">
        var myRecaptchaListeners = {
          callAllListeners: function(listeners) {
            return () => listeners.forEach((f) => f());
          },
          successListeners: [],
          expireListeners: [],
        };
        contactFormCaptchaCallback = myRecaptchaListeners.callAllListeners(myRecaptchaListeners.successListeners);
        contactFormCaptchaExpired = myRecaptchaListeners.callAllListeners(myRecaptchaListeners.expireListeners);
      </script>
      <div class="g-recaptcha field"
           data-sitekey="6Lf0Z7gUAAAAAKCsW1V-PqN58BcBNAUxe-oIU3nw"
           data-callback="contactFormCaptchaCallback"
           data-expired-callback="contactFormCaptchaExpired"></div>
    
    <input type="hidden" name="page"/>
    <input type="hidden" name="referring_page"/>
    <input type="hidden" name="referrer"/>
    <button class="ui positive center aligned labeled icon button" id="send-contact-request-btn">
      Send
      <i class="checkmark icon"></i>
    </button>
    
      <script type="text/javascript">
        (function() {
          const submitBtn = document.getElementById('send-contact-request-btn');
          onExpire = () => submitBtn.style.display = 'none';
          onExpire();
          myRecaptchaListeners.successListeners.push(() => {
            submitBtn.style.display = 'block';
          });
          myRecaptchaListeners.expireListeners.push(onExpire);
        })();
      </script>
    
    <div class="ui hidden dimmer inverted">
      <div class="ui loader"></div>
      <div class="ui hidden positive message">
        <p>Thank you! We'll be in touch ASAP.</p>
      </div>
      <div class="ui hidden negative message">
        <p>Something went wrong, please try again or contact us directly at <a
                  href="mailto:contact@dagshub.com">contact@dagshub.com</a></p>
      </div>
    </div>
  </form>
  <script>
    (function() {
      const $contactModal = $('#contact-modal');
      const $contactForm = $('#contact-form');
      const $dimmer = $contactForm.find('.dimmer');
      const $loader = $dimmer.find('.loader');
      const $okMsg = $dimmer.find('.positive');
      const $errorMsg = $dimmer.find('.negative');

      $contactForm.find('input[name=page]').val(document.URL);
      $contactForm.find('input[name=referring_page]').val(new URL(document.URL).searchParams.get('referring_page'));
      $contactForm.find('input[name=referrer]').val(document.referrer);

      
      $contactModal.modal({
        onShow: () => {
          $dimmer.dimmer('hide');
          $loader.transition('fade in', 0);
          $okMsg.transition('fade out', 0);
          $errorMsg.transition('fade out', 0);
        }
      });

      $contactForm.submit((e) => {
        e.preventDefault();

        $dimmer.dimmer('show');

        function hideModal() {
          setTimeout(() => {
            $contactModal.modal('hide');
          }, 3000);
        }

        
        const loaderToMessage = function(targetMsg = $okMsg, afterMsg = hideModal) {
          $loader.transition('fade out');
          targetMsg.transition('fade in');
          if (afterMsg) afterMsg();
        };

        $.ajax({
          url: $contactForm.attr('action'),
          method: 'post',
          data: $contactForm.serialize(),
          success: () => loaderToMessage(),
          error: e => {
            console.error(e);
            
            loaderToMessage($errorMsg, null);
          }
        });
        
        
        
        
      });
    })();
  </script>
  <div class="ui secondary segment">
    Or if you want, you can join our community at <a href="https://discord.com/invite/9gU36Y6"
                                                     class="ui basic discord icon"><i class="discord grey icon big"></i></a>
  </div>
</div>



    
      

<div class="mobile dagshub-navbar">
    <div class="line-divider"></div>




  
    <div class="subtitle">Profile</div>
    <div class="dropdown" style="margin-bottom: 10px;">
    <div class="profile-menu" tabindex="0">
       <div style="display: flex; align-items: center;">
          <img class="avatar" alt="Avatar" src="/avatars/8304">
          <div class="name">
              Brandon Copeland <br>
            <div class="username">@Bcopeland64</div>
          </div>
       </div>
      <img class="flip" src="/assets/chevron-icon.svg" height="10px" width="10px">
    </div>
    <div class="submenu" tabindex="0">
      <a href="/Bcopeland64">
          Your Profile
      </a>
      <a href="/user/settings/organizations">
        Your Organizations
      </a>
      <a href="/user/settings">
          Your Settings
      </a>
        
    </div>
  </div>
    <div class="dropdown" onclick="trackAnalyticsEvent('Create_Clicked')"
         data-content="Create...">
      <div class="primary button">
      Create
      <img src="/assets/plus-icon.svg">
      </div>
        <div class="submenu">
          <a href="/repo/create" onclick="trackAnalyticsEvent('Create_New_Clicked')">
            <img src="/assets/plus-icon.svg"> New Repository
          </a>
            
              <a href="/org/create" onclick="trackAnalyticsEvent('Create_Org_Clicked')">
                <img src="/assets/custom_icons/org-icon.svg"> New Organization
              </a>
            
        </div>
    </div>
  
  <div class="line-divider"></div>
  
    <div class="subtitle">Collaboration</div>
    <a class="navbar-item" href="/issues">Issues</a>
    <a class="navbar-item" href="/pulls">Pull Requests</a>
    <div class="line-divider"></div>
  
  <div class="subtitle">Resources</div>
  <a class="navbar-item"
     href="/docs" onclick="trackAnalyticsEvent('Resources_Docs_Clicked')">Docs</a>
  <a class="navbar-item" href="/blog" onclick="trackAnalyticsEvent('Resources_Blog_Clicked')">Blog</a>
  <div class="line-divider"></div>
  
    <a class="navbar-item" href="/pricing">Pricing</a>
    <a class="navbar-item" href="/datasets">Datasets</a>
  
  <a class="navbar-item" href="/explore/repos">Explore</a>
  <div class="line-divider"></div>
  <a class="navbar-item" href="https://discord.com/invite/9gU36Y6" onclick="trackAnalyticsEvent('DiscordIcon_Clicked')">
    <img src="/assets/social_icons/discord.svg" aria-label="Connect to our Discord channel">
    <span>Connect to our Discord channel</span>
  </a>
    
    <div class="line-divider"></div>
    <a class="navbar-item" href="/user/logout">
      <img src="/assets/logout-icon.svg"> Sign Out
    </a>
  
</div>
<div class="pusher">
<div class="ui full height">
  <noscript>This website works better with JavaScript</noscript>
  
    <div class=" navbar-container">
      <div id="menu-container" class="dagshub-navbar ">
        <div class="left-menu">
          <div class="fixed-content">
            <a href="/dashboard" tabindex="0">
              
              <img width="34" height="30" alt="DagsHub navbar logo" aria-label="DagsHub Home" class="navbar-logo"
                   src="/img/favicon.svg">
              
            </a>
            <form class="search-bar-container" action="/explore/repos">
                <input class="search-bar" name="q" value="" aria-label="Search public projects"
                       placeholder="Search public repositories..." tabindex="0" autocomplete="off">
            </form>
          </div>
          
            <a class="navbar-item" tabindex="0"
               href="/issues" onclick="trackAnalyticsEvent('IssuesTab_Clicked')">Issues</a>
            <a class="navbar-item" tabindex="0"
               href="/pulls" onclick="trackAnalyticsEvent('PullRequests_Clicked')">Pull Requests</a>
          
            <div class="dropdown navbar-item" tabindex="0">
              Resources &nbsp; <img class="flip" src="/assets/chevron-icon.svg">
                <div class="submenu">
                  <a href="/docs" tabindex="0" onclick="trackAnalyticsEvent('Resources_Docs_Clicked')">Docs</a>
                  <a href="/blog" tabindex="0" onclick="trackAnalyticsEvent('Resources_Blog_Clicked')">Blog</a>
                </div>
            </div>
          <a class="navbar-item" tabindex="0"
             href="/explore/repos" onclick="trackAnalyticsEvent('ExploreTab_Clicked')">Explore</a>
          
          <a class="navbar-item" tabindex="0" href="/pricing">Pricing</a>
          <a class="navbar-item" tabindex="0" href="/datasets">Datasets</a>
          
        </div>
        
          <input type="checkbox" id="menu-toggle" style="display: none;" tabindex="0">
          <label id="menu-toggle-label" for="menu-toggle"><img src="/assets/menu-open.svg"></label>
          <div id="menu-close-label" style="display: none;"><img src="/assets/x.svg"></div>
          <div id="menu-open-label" style="display: none;"><img src="/assets/menu-open.svg"></div>
        
        <div class="right-menu">
            <a aria-label="join our discord"
               class="navbar-icon dagshub-tooltip"
               tabindex="0"
               href="https://discord.com/invite/9gU36Y6" onclick="trackAnalyticsEvent('DiscordIcon_Clicked')">
              <img src="/assets/social_icons/discord.svg" aria-label="Connect to our Discord channel">
              <span>Connect to Dagshub Discord channel</span>
            </a>
            
              <div id="create_button" class="dropdown primary button" onclick="trackAnalyticsEvent('Create_Clicked')"
                   data-content="Create..."
                   style="position: relative;"
                   tabindex="0">
                 Create
                <img src="/assets/plus-icon.svg">
                <div class="right submenu">
                  <a tabindex="0" id="create_new_repo" href="/repo/create" onclick="trackAnalyticsEvent('Create_New_Clicked')">
                    <div class="icon-wrapper"><img src="/assets/plus-icon.svg"></div> New Repository
                  </a>
                  
                    <div class="line-divider"></div>
                    <a tabindex="0" href="/org/create" onclick="trackAnalyticsEvent('Create_Org_Clicked')">
                      <div class="icon-wrapper"><img src="/assets/custom_icons/org-icon.svg"></div> New Organization
                    </a>
                  
                </div>
              </div>
              <div class="dropdown profile-menu" tabindex="0"
                   data-content="User profile and more"
                   data-variation="tiny inverted">
                                <img class="avatar" alt="Avatar" src="/avatars/8304">
                                <span class="sr-only">User profile and more</span>
                                <img class="flip" src="/assets/chevron-icon.svg">
                <div class="right submenu">
                  <div class="name">
                    Brandon Copeland
                    <div class="username">@Bcopeland64</div>
                  </div>
                  <div class="line-divider"></div>
                  <a tabindex="0" href="/Bcopeland64">
                    Your Profile
                  </a>
                  <a tabindex="0" href="/user/settings/organizations">
                    Your Organizations
                  </a>
                  <a tabindex="0"
                     href="/user/settings">
                    Your Settings
                  </a>
                  

                  <div class="line-divider"></div>
                  <a tabindex="0" href="/user/logout">
                      Sign Out
                  </a>
                </div>
              </div>
            
        </div>
      </div>
    </div>
  

    


<div class="repository file list">
  
  
  <div id="branch-message" class="ui error transition bottom attached hidden message ">
    <i class="close icon"></i>
    <p></p>
  </div>
  <div class="header-wrapper">
  <div class="ui repo header container">
    
      <div class="head">
        <div class="ui header flex-spread">
          <h1 class="ui huge breadcrumb" style="align-self: baseline">
            
              <i class="mega-octicon octicon-lock"></i>
            
            <a href="/Omdena">Omdena</a>
             <div class="divider"> /</div>
            <a href="/Omdena/HeartKinetics">HeartKinetics</a>
            
            
          </h1>

          
            <div class="ui repo actions">
              <div class="ui labeled button" tabindex="0">
                <a class="ui basic button" rel="nofollow"
                   href="/Omdena/HeartKinetics/action/watch?redirect_to=%2fOmdena%2fHeartKinetics%2fsrc%2fgeneral%2ftask-3-modelling%2f1D_CNN.ipynb">
                  <i class="icon-dagshub far fa-eye"></i>Watch
                </a>
                <a class="ui basic label" href="/Omdena/HeartKinetics/watchers">
                  10
                </a>
              </div>
              <div id="star-button" class="ui labeled button star-counter" tabindex="0"
                   >
                <a class="ui basic button" rel="nofollow"
                   href="/Omdena/HeartKinetics/action/star?redirect_to=%2fOmdena%2fHeartKinetics%2fsrc%2fgeneral%2ftask-3-modelling%2f1D_CNN.ipynb">
                  <i class="star outline icon"></i>Star
                </a>
                <a class="ui basic label" href="/Omdena/HeartKinetics/stars">
                  
                    0
                  
                </a>
              </div>
              
                <div id="fork-button" class="ui labeled button" tabindex="0">
                  <a class="ui basic button " rel="nofollow"
                     href="/repo/fork/14439">
                    <i class="octicon octicon-repo-forked"></i>Fork
                  </a>
                  <a class="ui basic label" href="/Omdena/HeartKinetics/forks">
                    0
                  </a>
                </div>
              
            </div>
          
        </div>
      </div>
    
    
      <div class="ui fluid tabs">
        <div id="repository-tab-menu" class="ui pointing secondary menu navbar">
          
            <a class="active item" id="files-tab" href="/Omdena/HeartKinetics">
              <i class="octicon octicon-file-text"></i> Files
            </a>
          
          
            <a class=" item" id="experiments-tab" href="/Omdena/HeartKinetics/experiments" onclick="trackAnalyticsEvent('Project_ExperimentsTab_Clicked', { repo_id:  14439  })">
              <i class="octicon octicon-beaker"></i> Experiments <span
                      class="ui gray small label">0</span>
            </a>
          
          <div id="collaboration-menu" class="ui secondary tabular menu">
            <div id="collaboration-tab" class=" link item" data-tab="collaboration">
              <i class="users icon"></i>
                Collaboration &nbsp;
              <i id="angle-icon" class="fitted angle down icon"></i>
              
               <span class="ui blue small label">3</span>
            </div>
          </div>
          
          
            <a class=" item" id="annotations-tab" href="/Omdena/HeartKinetics/annotations" onclick="trackAnalyticsEvent('Project_AnnotationTab_Clicked', { repo_id:  14439  })">
              <img id="annotations-menu-icon" src="/assets/custom_icons/vector-square-hollow.svg" class="icon" style="border-radius: 0;"/>
              Annotations
            </a>
          
            
          
          <div id="mini-repository-menu" class="ui right dropdown hidden">
            <div id="repo-menu-kebab" class="text">
              <i class="fas fa-ellipsis-h"></i>
            </div>
            <div class="menu left">
            </div>
          </div>
        </div>
      </div>
    
    <div id="collaboration-tab-content" class="ui tab " data-tab="collaboration">
      <div class="ui fitted divider"></div>
      <div class="ui pointing secondary menu navbar" style="margin-top:auto;">
          
            <a class=" item" id="issues-tab" href="/Omdena/HeartKinetics/issues" onclick="trackAnalyticsEvent('Project_IssuesTab_Clicked', { repo_id:  14439  })" >
              <i class="octicon octicon-issue-opened"></i> Issues
                
                  <span class="ui gray small label">0</span>
                
            </a>
          
          
            <a class=" item" href="/Omdena/HeartKinetics/pulls" onclick="trackAnalyticsEvent('Project_PullRequestTab_Clicked', { repo_id:  14439  })">
              <i class="octicon octicon-git-pull-request"></i> Pull Requests <span
                class="ui blue small label">1</span>
            </a>
          
        <a class=" item" id="discussions-tab" href="/Omdena/HeartKinetics/discussions" onclick="trackAnalyticsEvent('Project_DiscussionsTab_Clicked', { repo_id:  14439  })">
          <i class="octicon octicon-comment-discussion"></i> Discussions
          <span class="ui blue small label">2</span>
        </a>
      </div>
    </div>
  </div>
  <div class="ui fluid tabs divider"></div>
</div>
<script>
  $(() => {
    const $angleIcon = $("#angle-icon");
    const $collaborationTab = $("#collaboration-tab,#collaboration-tab-content");

    $("#collaboration-menu").on("click", function(e) {
      if ($angleIcon.hasClass("up")) {
        $angleIcon.addClass("down");
        $angleIcon.removeClass("up");
        $collaborationTab.each(function(){$(this).removeClass("active")});
      } else {
        trackAnalyticsEvent("Project_CollaborationsTab_Opened", {repo_id:  14439 })
        $angleIcon.addClass("up");
        $angleIcon.removeClass("down");
        $collaborationTab.each(function(){$(this).addClass("active")});
      }
    });
  });
</script>

  <script>
    function autocollapse(menuSelector, dropdownMenuSelector) {
      function getItemsWidth(nav) {
        let navWidth = 0;
        nav.children('a.item').each(function() {
          navWidth += $(this).outerWidth();
        });
        return navWidth;
      }

      function getChildrenItems(nav) {
        return nav.children(' a.item');
      }

      function getCollapsed(dropdown) {
        return dropdown.children(' .menu').children('a.item');
      }

      const nav = $(menuSelector);
      const maxWidth = $(window).width() - 100;
      const dropDownMenu = $(dropdownMenuSelector);
      let navWidth = getItemsWidth(nav);

      while (navWidth < maxWidth) {
        
        const collapsed = getCollapsed(dropDownMenu);
        if (collapsed.length === 0) {
          dropDownMenu.hide();
          break;
        }
        const movingChild = $(collapsed[0]);
        const lastMenuElement = menuSelector + ' > a.right.item';
        const leftMostRightElement = $(lastMenuElement).length > 0 ? lastMenuElement : dropdownMenuSelector;

        
        movingChild.insertBefore(leftMostRightElement);
        navWidth += movingChild.outerWidth(true);
      }
      while (navWidth >= maxWidth) {
        dropDownMenu.show();
        
        const children = getChildrenItems(nav);
        const movingChild = $(children[children.length - 1]);
        navWidth -= movingChild.outerWidth(true);
        movingChild.prependTo(dropdownMenuSelector + ' .menu');
      }
    }; 
    $(function() {
      
      autocollapse('#repository-tab-menu', '#mini-repository-menu');

      
      $(window).on('resize', function() {
        autocollapse('#repository-tab-menu', '#mini-repository-menu');
      });
    });
  </script>


  <div class="ui container">
    


    
    <div id="topics">
      <input type="hidden" name="_max_repo_topics" value="10" />
      
      
    </div>
    <link rel="stylesheet" href="/css/topics.css?v=30de51cc3621464c0295db194fb481ae75e34800" />
    <form class="ui form topics topics-form" style="display:none" action="https://dagshub.com/Omdena/HeartKinetics/topics" method="POST">
      <input type="hidden" name="_csrf" value="TFfGKLBat6ealDA-5PFXsC5DY246MTY4MDc2ODg5NDY3MDQ3MjE1OQ">
      <input name="path" type="hidden" value="task-3-modelling/1D_CNN.ipynb" />
      <div class="fields">
        <div class="twelve wide field">
          <div class="ui fluid multiple search topics-dropdown selection dropdown">
            <input name="topics" type="hidden" value="" />
            <i class="dropdown icon"></i>
            <div class="default text">Topics</div>
            <div class="menu">
              
                <div class="item" data-value="dataset">
                  <span class="text">Type</span>
                  <span class="ui horizontal label topic category-type">dataset</span>
                </div>
              
                <div class="item" data-value="open-data-registry">
                  <span class="text">General</span>
                  <span class="ui horizontal label topic category-general">open-data-registry</span>
                </div>
              
                <div class="item" data-value="aws s3">
                  <span class="text">Integration</span>
                  <span class="ui horizontal label topic category-integration">aws s3</span>
                </div>
              
                <div class="item" data-value="aws-pds">
                  <span class="text">General</span>
                  <span class="ui horizontal label topic category-general">aws-pds</span>
                </div>
              
                <div class="item" data-value="sustainability">
                  <span class="text">General</span>
                  <span class="ui horizontal label topic category-general">sustainability</span>
                </div>
              
                <div class="item" data-value="earth observation">
                  <span class="text">General</span>
                  <span class="ui horizontal label topic category-general">earth observation</span>
                </div>
              
                <div class="item" data-value="agriculture">
                  <span class="text">General</span>
                  <span class="ui horizontal label topic category-general">agriculture</span>
                </div>
              
                <div class="item" data-value="geospatial">
                  <span class="text">General</span>
                  <span class="ui horizontal label topic category-general">geospatial</span>
                </div>
              
                <div class="item" data-value="life sciences">
                  <span class="text">General</span>
                  <span class="ui horizontal label topic category-general">life sciences</span>
                </div>
              
                <div class="item" data-value="climate">
                  <span class="text">General</span>
                  <span class="ui horizontal label topic category-general">climate</span>
                </div>
              
                <div class="item" data-value="genomic">
                  <span class="text">General</span>
                  <span class="ui horizontal label topic category-general">genomic</span>
                </div>
              
                <div class="item" data-value="weather">
                  <span class="text">General</span>
                  <span class="ui horizontal label topic category-general">weather</span>
                </div>
              
                <div class="item" data-value="meteorological">
                  <span class="text">General</span>
                  <span class="ui horizontal label topic category-general">meteorological</span>
                </div>
              
                <div class="item" data-value="satellite imagery">
                  <span class="text">General</span>
                  <span class="ui horizontal label topic category-general">satellite imagery</span>
                </div>
              
                <div class="item" data-value="genetic">
                  <span class="text">General</span>
                  <span class="ui horizontal label topic category-general">genetic</span>
                </div>
              
                <div class="item" data-value="biology">
                  <span class="text">General</span>
                  <span class="ui horizontal label topic category-general">biology</span>
                </div>
              
                <div class="item" data-value="environmental">
                  <span class="text">General</span>
                  <span class="ui horizontal label topic category-general">environmental</span>
                </div>
              
                <div class="item" data-value="machine learning">
                  <span class="text">General</span>
                  <span class="ui horizontal label topic category-general">machine learning</span>
                </div>
              
                <div class="item" data-value="disaster response">
                  <span class="text">Task</span>
                  <span class="ui horizontal label topic category-task">disaster response</span>
                </div>
              
                <div class="item" data-value="computer vision">
                  <span class="text">Data Domain</span>
                  <span class="ui horizontal label topic category-data_domain">computer vision</span>
                </div>
              
                <div class="item" data-value="bioinformatics">
                  <span class="text">General</span>
                  <span class="ui horizontal label topic category-general">bioinformatics</span>
                </div>
              
                <div class="item" data-value="model">
                  <span class="text">Type</span>
                  <span class="ui horizontal label topic category-type">model</span>
                </div>
              
                <div class="item" data-value="audio">
                  <span class="text">Data Domain</span>
                  <span class="ui horizontal label topic category-data_domain">audio</span>
                </div>
              
                <div class="item" data-value="natural resource">
                  <span class="text">General</span>
                  <span class="ui horizontal label topic category-general">natural resource</span>
                </div>
              
                <div class="item" data-value="imaging">
                  <span class="text">General</span>
                  <span class="ui horizontal label topic category-general">imaging</span>
                </div>
              
                <div class="item" data-value="cancer">
                  <span class="text">General</span>
                  <span class="ui horizontal label topic category-general">cancer</span>
                </div>
              
                <div class="item" data-value="natural language processing">
                  <span class="text">General</span>
                  <span class="ui horizontal label topic category-general">natural language processing</span>
                </div>
              
                <div class="item" data-value="hacktoberfest">
                  <span class="text">General</span>
                  <span class="ui horizontal label topic category-general">hacktoberfest</span>
                </div>
              
                <div class="item" data-value="deep learning">
                  <span class="text">General</span>
                  <span class="ui horizontal label topic category-general">deep learning</span>
                </div>
              
                <div class="item" data-value="oceans">
                  <span class="text">General</span>
                  <span class="ui horizontal label topic category-general">oceans</span>
                </div>
              
                <div class="item" data-value="mapping">
                  <span class="text">General</span>
                  <span class="ui horizontal label topic category-general">mapping</span>
                </div>
              
                <div class="item" data-value="whole genome sequencing">
                  <span class="text">General</span>
                  <span class="ui horizontal label topic category-general">whole genome sequencing</span>
                </div>
              
                <div class="item" data-value="coastal">
                  <span class="text">General</span>
                  <span class="ui horizontal label topic category-general">coastal</span>
                </div>
              
                <div class="item" data-value="image processing">
                  <span class="text">General</span>
                  <span class="ui horizontal label topic category-general">image processing</span>
                </div>
              
                <div class="item" data-value="biodiversity">
                  <span class="text">General</span>
                  <span class="ui horizontal label topic category-general">biodiversity</span>
                </div>
              
                <div class="item" data-value="health">
                  <span class="text">General</span>
                  <span class="ui horizontal label topic category-general">health</span>
                </div>
              
                <div class="item" data-value="nlp">
                  <span class="text">Data Domain</span>
                  <span class="ui horizontal label topic category-data_domain">nlp</span>
                </div>
              
                <div class="item" data-value="cog">
                  <span class="text">General</span>
                  <span class="ui horizontal label topic category-general">cog</span>
                </div>
              
                <div class="item" data-value="covid-19">
                  <span class="text">General</span>
                  <span class="ui horizontal label topic category-general">covid-19</span>
                </div>
              
                <div class="item" data-value="atmosphere">
                  <span class="text">General</span>
                  <span class="ui horizontal label topic category-general">atmosphere</span>
                </div>
              
                <div class="item" data-value="elevation">
                  <span class="text">General</span>
                  <span class="ui horizontal label topic category-general">elevation</span>
                </div>
              
                <div class="item" data-value="strides">
                  <span class="text">General</span>
                  <span class="ui horizontal label topic category-general">strides</span>
                </div>
              
                <div class="item" data-value="dvc">
                  <span class="text">Integration</span>
                  <span class="ui horizontal label topic category-integration">dvc</span>
                </div>
              
                <div class="item" data-value="global">
                  <span class="text">General</span>
                  <span class="ui horizontal label topic category-general">global</span>
                </div>
              
                <div class="item" data-value="cities">
                  <span class="text">General</span>
                  <span class="ui horizontal label topic category-general">cities</span>
                </div>
              
                <div class="item" data-value="coronavirus">
                  <span class="text">General</span>
                  <span class="ui horizontal label topic category-general">coronavirus</span>
                </div>
              
                <div class="item" data-value="neuroimaging">
                  <span class="text">General</span>
                  <span class="ui horizontal label topic category-general">neuroimaging</span>
                </div>
              
                <div class="item" data-value="lidar">
                  <span class="text">General</span>
                  <span class="ui horizontal label topic category-general">lidar</span>
                </div>
              
                <div class="item" data-value="neuroscience">
                  <span class="text">General</span>
                  <span class="ui horizontal label topic category-general">neuroscience</span>
                </div>
              
                <div class="item" data-value="git">
                  <span class="text">Integration</span>
                  <span class="ui horizontal label topic category-integration">git</span>
                </div>
              
                <div class="item" data-value="open source software">
                  <span class="text">General</span>
                  <span class="ui horizontal label topic category-general">open source software</span>
                </div>
              
                <div class="item" data-value="climate model">
                  <span class="text">General</span>
                  <span class="ui horizontal label topic category-general">climate model</span>
                </div>
              
                <div class="item" data-value="ecosystems">
                  <span class="text">General</span>
                  <span class="ui horizontal label topic category-general">ecosystems</span>
                </div>
              
                <div class="item" data-value="water">
                  <span class="text">General</span>
                  <span class="ui horizontal label topic category-general">water</span>
                </div>
              
                <div class="item" data-value="neurobiology">
                  <span class="text">General</span>
                  <span class="ui horizontal label topic category-general">neurobiology</span>
                </div>
              
                <div class="item" data-value="aerial imagery">
                  <span class="text">General</span>
                  <span class="ui horizontal label topic category-general">aerial imagery</span>
                </div>
              
                <div class="item" data-value="classification">
                  <span class="text">Task</span>
                  <span class="ui horizontal label topic category-task">classification</span>
                </div>
              
                <div class="item" data-value="land">
                  <span class="text">General</span>
                  <span class="ui horizontal label topic category-general">land</span>
                </div>
              
                <div class="item" data-value="archives">
                  <span class="text">General</span>
                  <span class="ui horizontal label topic category-general">archives</span>
                </div>
              
                <div class="item" data-value="air quality">
                  <span class="text">General</span>
                  <span class="ui horizontal label topic category-general">air quality</span>
                </div>
              
                <div class="item" data-value="transcriptomics">
                  <span class="text">General</span>
                  <span class="ui horizontal label topic category-general">transcriptomics</span>
                </div>
              
                <div class="item" data-value="astronomy">
                  <span class="text">General</span>
                  <span class="ui horizontal label topic category-general">astronomy</span>
                </div>
              
                <div class="item" data-value="tabular">
                  <span class="text">Data Domain</span>
                  <span class="ui horizontal label topic category-data_domain">tabular</span>
                </div>
              
                <div class="item" data-value="urban">
                  <span class="text">General</span>
                  <span class="ui horizontal label topic category-general">urban</span>
                </div>
              
                <div class="item" data-value="csv">
                  <span class="text">General</span>
                  <span class="ui horizontal label topic category-general">csv</span>
                </div>
              
                <div class="item" data-value="parquet">
                  <span class="text">General</span>
                  <span class="ui horizontal label topic category-general">parquet</span>
                </div>
              
                <div class="item" data-value="food security">
                  <span class="text">General</span>
                  <span class="ui horizontal label topic category-general">food security</span>
                </div>
              
                <div class="item" data-value="bam">
                  <span class="text">General</span>
                  <span class="ui horizontal label topic category-general">bam</span>
                </div>
              
                <div class="item" data-value="energy">
                  <span class="text">General</span>
                  <span class="ui horizontal label topic category-general">energy</span>
                </div>
              
                <div class="item" data-value="internet">
                  <span class="text">General</span>
                  <span class="ui horizontal label topic category-general">internet</span>
                </div>
              
                <div class="item" data-value="gps">
                  <span class="text">General</span>
                  <span class="ui horizontal label topic category-general">gps</span>
                </div>
              
                <div class="item" data-value="continuously operating reference station - cors">
                  <span class="text">General</span>
                  <span class="ui horizontal label topic category-general">continuously operating reference station - cors</span>
                </div>
              
                <div class="item" data-value="homo sapiens">
                  <span class="text">General</span>
                  <span class="ui horizontal label topic category-general">homo sapiens</span>
                </div>
              
                <div class="item" data-value="conservation">
                  <span class="text">General</span>
                  <span class="ui horizontal label topic category-general">conservation</span>
                </div>
              
                <div class="item" data-value="cell biology">
                  <span class="text">General</span>
                  <span class="ui horizontal label topic category-general">cell biology</span>
                </div>
              
                <div class="item" data-value="fastq">
                  <span class="text">General</span>
                  <span class="ui horizontal label topic category-general">fastq</span>
                </div>
              
                <div class="item" data-value="analytics">
                  <span class="text">General</span>
                  <span class="ui horizontal label topic category-general">analytics</span>
                </div>
              
                <div class="item" data-value="stac">
                  <span class="text">General</span>
                  <span class="ui horizontal label topic category-general">stac</span>
                </div>
              
                <div class="item" data-value="encyclopedic">
                  <span class="text">General</span>
                  <span class="ui horizontal label topic category-general">encyclopedic</span>
                </div>
              
                <div class="item" data-value="cell imaging">
                  <span class="text">General</span>
                  <span class="ui horizontal label topic category-general">cell imaging</span>
                </div>
              
                <div class="item" data-value="broadcast ephemeris">
                  <span class="text">General</span>
                  <span class="ui horizontal label topic category-general">broadcast ephemeris</span>
                </div>
              
                <div class="item" data-value="3d model">
                  <span class="text">Data Domain</span>
                  <span class="ui horizontal label topic category-data_domain">3d model</span>
                </div>
              
                <div class="item" data-value="medicine">
                  <span class="text">General</span>
                  <span class="ui horizontal label topic category-general">medicine</span>
                </div>
              
                <div class="item" data-value="gnss">
                  <span class="text">General</span>
                  <span class="ui horizontal label topic category-general">gnss</span>
                </div>
              
                <div class="item" data-value="census">
                  <span class="text">General</span>
                  <span class="ui horizontal label topic category-general">census</span>
                </div>
              
                <div class="item" data-value="gene expression">
                  <span class="text">General</span>
                  <span class="ui horizontal label topic category-general">gene expression</span>
                </div>
              
                <div class="item" data-value="nara">
                  <span class="text">General</span>
                  <span class="ui horizontal label topic category-general">nara</span>
                </div>
              
                <div class="item" data-value="infrastructure">
                  <span class="text">General</span>
                  <span class="ui horizontal label topic category-general">infrastructure</span>
                </div>
              
                <div class="item" data-value="solar">
                  <span class="text">General</span>
                  <span class="ui horizontal label topic category-general">solar</span>
                </div>
              
                <div class="item" data-value="json">
                  <span class="text">General</span>
                  <span class="ui horizontal label topic category-general">json</span>
                </div>
              
                <div class="item" data-value="earthquakes">
                  <span class="text">General</span>
                  <span class="ui horizontal label topic category-general">earthquakes</span>
                </div>
              
                <div class="item" data-value="robotics">
                  <span class="text">General</span>
                  <span class="ui horizontal label topic category-general">robotics</span>
                </div>
              
                <div class="item" data-value="chemistry">
                  <span class="text">General</span>
                  <span class="ui horizontal label topic category-general">chemistry</span>
                </div>
              
                <div class="item" data-value="mlflow">
                  <span class="text">Integration</span>
                  <span class="ui horizontal label topic category-integration">mlflow</span>
                </div>
              
                <div class="item" data-value="biotech blueprint">
                  <span class="text">General</span>
                  <span class="ui horizontal label topic category-general">biotech blueprint</span>
                </div>
              
                <div class="item" data-value="cyber security">
                  <span class="text">General</span>
                  <span class="ui horizontal label topic category-general">cyber security</span>
                </div>
              
                <div class="item" data-value="object detection">
                  <span class="text">Task</span>
                  <span class="ui horizontal label topic category-task">object detection</span>
                </div>
              
                <div class="item" data-value="tensorflow">
                  <span class="text">Framework</span>
                  <span class="ui horizontal label topic category-framework">tensorflow</span>
                </div>
              
                <div class="item" data-value="demography">
                  <span class="text">General</span>
                  <span class="ui horizontal label topic category-general">demography</span>
                </div>
              
                <div class="item" data-value="ice">
                  <span class="text">General</span>
                  <span class="ui horizontal label topic category-general">ice</span>
                </div>
              
                <div class="item" data-value="signal processing">
                  <span class="text">General</span>
                  <span class="ui horizontal label topic category-general">signal processing</span>
                </div>
              
                <div class="item" data-value="molecule">
                  <span class="text">General</span>
                  <span class="ui horizontal label topic category-general">molecule</span>
                </div>
              
                <div class="item" data-value="autonomous vehicles">
                  <span class="text">Task</span>
                  <span class="ui horizontal label topic category-task">autonomous vehicles</span>
                </div>
              
                <div class="item" data-value="protein">
                  <span class="text">General</span>
                  <span class="ui horizontal label topic category-general">protein</span>
                </div>
              
                <div class="item" data-value="pytorch">
                  <span class="text">Framework</span>
                  <span class="ui horizontal label topic category-framework">pytorch</span>
                </div>
              
                <div class="item" data-value="magnetic resonance imaging">
                  <span class="text">General</span>
                  <span class="ui horizontal label topic category-general">magnetic resonance imaging</span>
                </div>
              
                <div class="item" data-value="reference index">
                  <span class="text">General</span>
                  <span class="ui horizontal label topic category-general">reference index</span>
                </div>
              
                <div class="item" data-value="labeled">
                  <span class="text">General</span>
                  <span class="ui horizontal label topic category-general">labeled</span>
                </div>
              
                <div class="item" data-value="tutorial">
                  <span class="text">General</span>
                  <span class="ui horizontal label topic category-general">tutorial</span>
                </div>
              
                <div class="item" data-value="vcf">
                  <span class="text">General</span>
                  <span class="ui horizontal label topic category-general">vcf</span>
                </div>
              
                <div class="item" data-value="image classification">
                  <span class="text">Task</span>
                  <span class="ui horizontal label topic category-task">image classification</span>
                </div>
              
                <div class="item" data-value="data science">
                  <span class="text">General</span>
                  <span class="ui horizontal label topic category-general">data science</span>
                </div>
              
                <div class="item" data-value="mus musculus">
                  <span class="text">General</span>
                  <span class="ui horizontal label topic category-general">mus musculus</span>
                </div>
              
                <div class="item" data-value="python">
                  <span class="text">General</span>
                  <span class="ui horizontal label topic category-general">python</span>
                </div>
              
                <div class="item" data-value="vision">
                  <span class="text">Task</span>
                  <span class="ui horizontal label topic category-task">vision</span>
                </div>
              
                <div class="item" data-value="1940 census">
                  <span class="text">General</span>
                  <span class="ui horizontal label topic category-general">1940 census</span>
                </div>
              
                <div class="item" data-value="mlops">
                  <span class="text">General</span>
                  <span class="ui horizontal label topic category-general">mlops</span>
                </div>
              
                <div class="item" data-value="genetic maps">
                  <span class="text">General</span>
                  <span class="ui horizontal label topic category-general">genetic maps</span>
                </div>
              
                <div class="item" data-value="transportation">
                  <span class="text">General</span>
                  <span class="ui horizontal label topic category-general">transportation</span>
                </div>
              
                <div class="item" data-value="video">
                  <span class="text">General</span>
                  <span class="ui horizontal label topic category-general">video</span>
                </div>
              
                <div class="item" data-value="geoscience">
                  <span class="text">General</span>
                  <span class="ui horizontal label topic category-general">geoscience</span>
                </div>
              
                <div class="item" data-value="floods">
                  <span class="text">General</span>
                  <span class="ui horizontal label topic category-general">floods</span>
                </div>
              
                <div class="item" data-value="osm">
                  <span class="text">General</span>
                  <span class="ui horizontal label topic category-general">osm</span>
                </div>
              
                <div class="item" data-value="marine navigation">
                  <span class="text">General</span>
                  <span class="ui horizontal label topic category-general">marine navigation</span>
                </div>
              
                <div class="item" data-value="neurophysiology">
                  <span class="text">General</span>
                  <span class="ui horizontal label topic category-general">neurophysiology</span>
                </div>
              
                <div class="item" data-value="statistics">
                  <span class="text">General</span>
                  <span class="ui horizontal label topic category-general">statistics</span>
                </div>
              
                <div class="item" data-value="information retrieval">
                  <span class="text">Task</span>
                  <span class="ui horizontal label topic category-task">information retrieval</span>
                </div>
              
                <div class="item" data-value="microscopy">
                  <span class="text">General</span>
                  <span class="ui horizontal label topic category-general">microscopy</span>
                </div>
              
                <div class="item" data-value="planetary">
                  <span class="text">General</span>
                  <span class="ui horizontal label topic category-general">planetary</span>
                </div>
              
                <div class="item" data-value="computer security">
                  <span class="text">General</span>
                  <span class="ui horizontal label topic category-general">computer security</span>
                </div>
              
                <div class="item" data-value="regulatory">
                  <span class="text">General</span>
                  <span class="ui horizontal label topic category-general">regulatory</span>
                </div>
              
                <div class="item" data-value="fasta">
                  <span class="text">General</span>
                  <span class="ui horizontal label topic category-general">fasta</span>
                </div>
              
                <div class="item" data-value="multimedia">
                  <span class="text">General</span>
                  <span class="ui horizontal label topic category-general">multimedia</span>
                </div>
              
                <div class="item" data-value="biomolecular modeling">
                  <span class="text">General</span>
                  <span class="ui horizontal label topic category-general">biomolecular modeling</span>
                </div>
              
                <div class="item" data-value="electron microscopy">
                  <span class="text">General</span>
                  <span class="ui horizontal label topic category-general">electron microscopy</span>
                </div>
              
                <div class="item" data-value="chemical biology">
                  <span class="text">General</span>
                  <span class="ui horizontal label topic category-general">chemical biology</span>
                </div>
              
                <div class="item" data-value="population">
                  <span class="text">General</span>
                  <span class="ui horizontal label topic category-general">population</span>
                </div>
              
                <div class="item" data-value="population genetics">
                  <span class="text">General</span>
                  <span class="ui horizontal label topic category-general">population genetics</span>
                </div>
              
                <div class="item" data-value="genelab">
                  <span class="text">General</span>
                  <span class="ui horizontal label topic category-general">genelab</span>
                </div>
              
                <div class="item" data-value="digital preservation">
                  <span class="text">General</span>
                  <span class="ui horizontal label topic category-general">digital preservation</span>
                </div>
              
                <div class="item" data-value="scikit-learn">
                  <span class="text">Framework</span>
                  <span class="ui horizontal label topic category-framework">scikit-learn</span>
                </div>
              
                <div class="item" data-value="civic">
                  <span class="text">General</span>
                  <span class="ui horizontal label topic category-general">civic</span>
                </div>
              
                <div class="item" data-value="smd ai">
                  <span class="text">General</span>
                  <span class="ui horizontal label topic category-general">smd ai</span>
                </div>
              
                <div class="item" data-value="arxiv">
                  <span class="text">Integration</span>
                  <span class="ui horizontal label topic category-integration">arxiv</span>
                </div>
              
                <div class="item" data-value="reproducibility-challenge">
                  <span class="text">General</span>
                  <span class="ui horizontal label topic category-general">reproducibility-challenge</span>
                </div>
              
                <div class="item" data-value="survey">
                  <span class="text">General</span>
                  <span class="ui horizontal label topic category-general">survey</span>
                </div>
              
                <div class="item" data-value="market data">
                  <span class="text">General</span>
                  <span class="ui horizontal label topic category-general">market data</span>
                </div>
              
                <div class="item" data-value="sars">
                  <span class="text">General</span>
                  <span class="ui horizontal label topic category-general">sars</span>
                </div>
              
                <div class="item" data-value="financial markets">
                  <span class="text">General</span>
                  <span class="ui horizontal label topic category-general">financial markets</span>
                </div>
              
                <div class="item" data-value="machine translation">
                  <span class="text">Task</span>
                  <span class="ui horizontal label topic category-task">machine translation</span>
                </div>
              
                <div class="item" data-value="copyright monitoring">
                  <span class="text">General</span>
                  <span class="ui horizontal label topic category-general">copyright monitoring</span>
                </div>
              
                <div class="item" data-value="bathymetry">
                  <span class="text">General</span>
                  <span class="ui horizontal label topic category-general">bathymetry</span>
                </div>
              
                <div class="item" data-value="genome wide association study">
                  <span class="text">General</span>
                  <span class="ui horizontal label topic category-general">genome wide association study</span>
                </div>
              
                <div class="item" data-value="commerce">
                  <span class="text">General</span>
                  <span class="ui horizontal label topic category-general">commerce</span>
                </div>
              
                <div class="item" data-value="amino acid">
                  <span class="text">General</span>
                  <span class="ui horizontal label topic category-general">amino acid</span>
                </div>
              
                <div class="item" data-value="computer forensics">
                  <span class="text">General</span>
                  <span class="ui horizontal label topic category-general">computer forensics</span>
                </div>
              
                <div class="item" data-value="traffic">
                  <span class="text">General</span>
                  <span class="ui horizontal label topic category-general">traffic</span>
                </div>
              
                <div class="item" data-value="short read sequencing">
                  <span class="text">General</span>
                  <span class="ui horizontal label topic category-general">short read sequencing</span>
                </div>
              
                <div class="item" data-value="nifti">
                  <span class="text">General</span>
                  <span class="ui horizontal label topic category-general">nifti</span>
                </div>
              
                <div class="item" data-value="us-dc">
                  <span class="text">General</span>
                  <span class="ui horizontal label topic category-general">us-dc</span>
                </div>
              
                <div class="item" data-value="fast5">
                  <span class="text">General</span>
                  <span class="ui horizontal label topic category-general">fast5</span>
                </div>
              
                <div class="item" data-value="seismology">
                  <span class="text">General</span>
                  <span class="ui horizontal label topic category-general">seismology</span>
                </div>
              
                <div class="item" data-value="demographics">
                  <span class="text">General</span>
                  <span class="ui horizontal label topic category-general">demographics</span>
                </div>
              
                <div class="item" data-value="fluorescence imaging">
                  <span class="text">General</span>
                  <span class="ui horizontal label topic category-general">fluorescence imaging</span>
                </div>
              
                <div class="item" data-value="blockchain">
                  <span class="text">General</span>
                  <span class="ui horizontal label topic category-general">blockchain</span>
                </div>
              
                <div class="item" data-value="government records">
                  <span class="text">General</span>
                  <span class="ui horizontal label topic category-general">government records</span>
                </div>
              
                <div class="item" data-value="mers">
                  <span class="text">General</span>
                  <span class="ui horizontal label topic category-general">mers</span>
                </div>
              
                <div class="item" data-value="metadata">
                  <span class="text">General</span>
                  <span class="ui horizontal label topic category-general">metadata</span>
                </div>
              
                <div class="item" data-value="long read sequencing">
                  <span class="text">General</span>
                  <span class="ui horizontal label topic category-general">long read sequencing</span>
                </div>
              
                <div class="item" data-value="molecular docking">
                  <span class="text">General</span>
                  <span class="ui horizontal label topic category-general">molecular docking</span>
                </div>
              
                <div class="item" data-value="metagenomics">
                  <span class="text">General</span>
                  <span class="ui horizontal label topic category-general">metagenomics</span>
                </div>
              
                <div class="item" data-value="broadband">
                  <span class="text">General</span>
                  <span class="ui horizontal label topic category-general">broadband</span>
                </div>
              
                <div class="item" data-value="epigenomics">
                  <span class="text">General</span>
                  <span class="ui horizontal label topic category-general">epigenomics</span>
                </div>
              
                <div class="item" data-value="digital forensics">
                  <span class="text">General</span>
                  <span class="ui horizontal label topic category-general">digital forensics</span>
                </div>
              
                <div class="item" data-value="denoising">
                  <span class="text">Task</span>
                  <span class="ui horizontal label topic category-task">denoising</span>
                </div>
              
                <div class="item" data-value="anomaly detection">
                  <span class="text">Task</span>
                  <span class="ui horizontal label topic category-task">anomaly detection</span>
                </div>
              
                <div class="item" data-value="semantic segmentation">
                  <span class="text">Task</span>
                  <span class="ui horizontal label topic category-task">semantic segmentation</span>
                </div>
              
                <div class="item" data-value="electrophysiology">
                  <span class="text">General</span>
                  <span class="ui horizontal label topic category-general">electrophysiology</span>
                </div>
              
                <div class="item" data-value="music">
                  <span class="text">General</span>
                  <span class="ui horizontal label topic category-general">music</span>
                </div>
              
                <div class="item" data-value="ml pipelines">
                  <span class="text">General</span>
                  <span class="ui horizontal label topic category-general">ml pipelines</span>
                </div>
              
                <div class="item" data-value="events">
                  <span class="text">General</span>
                  <span class="ui horizontal label topic category-general">events</span>
                </div>
              
                <div class="item" data-value="datamanipulation">
                  <span class="text">General</span>
                  <span class="ui horizontal label topic category-general">datamanipulation</span>
                </div>
              
                <div class="item" data-value="time series forecasting">
                  <span class="text">Task</span>
                  <span class="ui horizontal label topic category-task">time series forecasting</span>
                </div>
              
                <div class="item" data-value="medical imaging">
                  <span class="text">Data Domain</span>
                  <span class="ui horizontal label topic category-data_domain">medical imaging</span>
                </div>
              
                <div class="item" data-value="deeplearning">
                  <span class="text">General</span>
                  <span class="ui horizontal label topic category-general">deeplearning</span>
                </div>
              
                <div class="item" data-value="complaints">
                  <span class="text">General</span>
                  <span class="ui horizontal label topic category-general">complaints</span>
                </div>
              
                <div class="item" data-value="space biology">
                  <span class="text">General</span>
                  <span class="ui horizontal label topic category-general">space biology</span>
                </div>
              
                <div class="item" data-value="research">
                  <span class="text">General</span>
                  <span class="ui horizontal label topic category-general">research</span>
                </div>
              
                <div class="item" data-value="speech processing">
                  <span class="text">General</span>
                  <span class="ui horizontal label topic category-general">speech processing</span>
                </div>
              
                <div class="item" data-value="covid">
                  <span class="text">General</span>
                  <span class="ui horizontal label topic category-general">covid</span>
                </div>
              
                <div class="item" data-value="free software">
                  <span class="text">General</span>
                  <span class="ui horizontal label topic category-general">free software</span>
                </div>
              
                <div class="item" data-value="music information retrieval">
                  <span class="text">Task</span>
                  <span class="ui horizontal label topic category-task">music information retrieval</span>
                </div>
              
                <div class="item" data-value="github">
                  <span class="text">Integration</span>
                  <span class="ui horizontal label topic category-integration">github</span>
                </div>
              
                <div class="item" data-value="xgboost">
                  <span class="text">General</span>
                  <span class="ui horizontal label topic category-general">xgboost</span>
                </div>
              
                <div class="item" data-value="source code">
                  <span class="text">General</span>
                  <span class="ui horizontal label topic category-general">source code</span>
                </div>
              
                <div class="item" data-value="workload analysis">
                  <span class="text">General</span>
                  <span class="ui horizontal label topic category-general">workload analysis</span>
                </div>
              
                <div class="item" data-value="virus">
                  <span class="text">General</span>
                  <span class="ui horizontal label topic category-general">virus</span>
                </div>
              
                <div class="item" data-value="protein folding">
                  <span class="text">General</span>
                  <span class="ui horizontal label topic category-general">protein folding</span>
                </div>
              
                <div class="item" data-value="precipitation">
                  <span class="text">General</span>
                  <span class="ui horizontal label topic category-general">precipitation</span>
                </div>
              
                <div class="item" data-value="data science project">
                  <span class="text">General</span>
                  <span class="ui horizontal label topic category-general">data science project</span>
                </div>
              
                <div class="item" data-value="openfold">
                  <span class="text">General</span>
                  <span class="ui horizontal label topic category-general">openfold</span>
                </div>
              
                <div class="item" data-value="near-surface specific humidity">
                  <span class="text">General</span>
                  <span class="ui horizontal label topic category-general">near-surface specific humidity</span>
                </div>
              
                <div class="item" data-value="national archives catalog">
                  <span class="text">General</span>
                  <span class="ui horizontal label topic category-general">national archives catalog</span>
                </div>
              
                <div class="item" data-value="data visualization">
                  <span class="text">General</span>
                  <span class="ui horizontal label topic category-general">data visualization</span>
                </div>
              
                <div class="item" data-value="hpc">
                  <span class="text">General</span>
                  <span class="ui horizontal label topic category-general">hpc</span>
                </div>
              
                <div class="item" data-value="microbiome">
                  <span class="text">General</span>
                  <span class="ui horizontal label topic category-general">microbiome</span>
                </div>
              
                <div class="item" data-value="organelle">
                  <span class="text">General</span>
                  <span class="ui horizontal label topic category-general">organelle</span>
                </div>
              
                <div class="item" data-value="art">
                  <span class="text">General</span>
                  <span class="ui horizontal label topic category-general">art</span>
                </div>
              
                <div class="item" data-value="computational fluid dynamics">
                  <span class="text">General</span>
                  <span class="ui horizontal label topic category-general">computational fluid dynamics</span>
                </div>
              
                <div class="item" data-value="x-ray tomography">
                  <span class="text">General</span>
                  <span class="ui horizontal label topic category-general">x-ray tomography</span>
                </div>
              
                <div class="item" data-value="cmip6">
                  <span class="text">General</span>
                  <span class="ui horizontal label topic category-general">cmip6</span>
                </div>
              
                <div class="item" data-value="loftee">
                  <span class="text">General</span>
                  <span class="ui horizontal label topic category-general">loftee</span>
                </div>
              
                <div class="item" data-value="csi">
                  <span class="text">General</span>
                  <span class="ui horizontal label topic category-general">csi</span>
                </div>
              
                <div class="item" data-value="ensemble learning">
                  <span class="text">General</span>
                  <span class="ui horizontal label topic category-general">ensemble learning</span>
                </div>
              
                <div class="item" data-value="marine">
                  <span class="text">General</span>
                  <span class="ui horizontal label topic category-general">marine</span>
                </div>
              
                <div class="item" data-value="fisheries">
                  <span class="text">General</span>
                  <span class="ui horizontal label topic category-general">fisheries</span>
                </div>
              
                <div class="item" data-value="trading">
                  <span class="text">General</span>
                  <span class="ui horizontal label topic category-general">trading</span>
                </div>
              
                <div class="item" data-value="alchemical free energy calculations">
                  <span class="text">General</span>
                  <span class="ui horizontal label topic category-general">alchemical free energy calculations</span>
                </div>
              
                <div class="item" data-value="emotion">
                  <span class="text">General</span>
                  <span class="ui horizontal label topic category-general">emotion</span>
                </div>
              
                <div class="item" data-value="forecast">
                  <span class="text">General</span>
                  <span class="ui horizontal label topic category-general">forecast</span>
                </div>
              
                <div class="item" data-value="vep">
                  <span class="text">General</span>
                  <span class="ui horizontal label topic category-general">vep</span>
                </div>
              
                <div class="item" data-value="cover song identification">
                  <span class="text">General</span>
                  <span class="ui horizontal label topic category-general">cover song identification</span>
                </div>
              
                <div class="item" data-value="ukraine">
                  <span class="text">General</span>
                  <span class="ui horizontal label topic category-general">ukraine</span>
                </div>
              
                <div class="item" data-value="sentiment analysis">
                  <span class="text">Task</span>
                  <span class="ui horizontal label topic category-task">sentiment analysis</span>
                </div>
              
                <div class="item" data-value="turbulence">
                  <span class="text">General</span>
                  <span class="ui horizontal label topic category-general">turbulence</span>
                </div>
              
                <div class="item" data-value="cell painting">
                  <span class="text">General</span>
                  <span class="ui horizontal label topic category-general">cell painting</span>
                </div>
              
                <div class="item" data-value="japanese">
                  <span class="text">General</span>
                  <span class="ui horizontal label topic category-general">japanese</span>
                </div>
              
                <div class="item" data-value="segmentation">
                  <span class="text">General</span>
                  <span class="ui horizontal label topic category-general">segmentation</span>
                </div>
              
                <div class="item" data-value="green aviation">
                  <span class="text">General</span>
                  <span class="ui horizontal label topic category-general">green aviation</span>
                </div>
              
                <div class="item" data-value="1950 census">
                  <span class="text">General</span>
                  <span class="ui horizontal label topic category-general">1950 census</span>
                </div>
              
                <div class="item" data-value="structural variation">
                  <span class="text">General</span>
                  <span class="ui horizontal label topic category-general">structural variation</span>
                </div>
              
                <div class="item" data-value="flask">
                  <span class="text">General</span>
                  <span class="ui horizontal label topic category-general">flask</span>
                </div>
              
                <div class="item" data-value="foldingathome">
                  <span class="text">General</span>
                  <span class="ui horizontal label topic category-general">foldingathome</span>
                </div>
              
                <div class="item" data-value="industrial">
                  <span class="text">General</span>
                  <span class="ui horizontal label topic category-general">industrial</span>
                </div>
              
                <div class="item" data-value="marine mammals">
                  <span class="text">General</span>
                  <span class="ui horizontal label topic category-general">marine mammals</span>
                </div>
              
                <div class="item" data-value="live song identification">
                  <span class="text">General</span>
                  <span class="ui horizontal label topic category-general">live song identification</span>
                </div>
              
                <div class="item" data-value="cram">
                  <span class="text">General</span>
                  <span class="ui horizontal label topic category-general">cram</span>
                </div>
              
                <div class="item" data-value="automatic speech recognition">
                  <span class="text">General</span>
                  <span class="ui horizontal label topic category-general">automatic speech recognition</span>
                </div>
              
                <div class="item" data-value="bitcoin">
                  <span class="text">General</span>
                  <span class="ui horizontal label topic category-general">bitcoin</span>
                </div>
              
                <div class="item" data-value="ransomware">
                  <span class="text">General</span>
                  <span class="ui horizontal label topic category-general">ransomware</span>
                </div>
              
                <div class="item" data-value="xml">
                  <span class="text">General</span>
                  <span class="ui horizontal label topic category-general">xml</span>
                </div>
              
                <div class="item" data-value="activity recognition">
                  <span class="text">Task</span>
                  <span class="ui horizontal label topic category-task">activity recognition</span>
                </div>
              
                <div class="item" data-value="network traffic">
                  <span class="text">General</span>
                  <span class="ui horizontal label topic category-general">network traffic</span>
                </div>
              
                <div class="item" data-value="whole exome sequencing">
                  <span class="text">General</span>
                  <span class="ui horizontal label topic category-general">whole exome sequencing</span>
                </div>
              
                <div class="item" data-value="recombination maps">
                  <span class="text">General</span>
                  <span class="ui horizontal label topic category-general">recombination maps</span>
                </div>
              
                <div class="item" data-value="history">
                  <span class="text">General</span>
                  <span class="ui horizontal label topic category-general">history</span>
                </div>
              
                <div class="item" data-value="near-surface air temperature">
                  <span class="text">General</span>
                  <span class="ui horizontal label topic category-general">near-surface air temperature</span>
                </div>
              
                <div class="item" data-value="timho">
                  <span class="text">General</span>
                  <span class="ui horizontal label topic category-general">timho</span>
                </div>
              
                <div class="item" data-value="cloud computing">
                  <span class="text">General</span>
                  <span class="ui horizontal label topic category-general">cloud computing</span>
                </div>
              
                <div class="item" data-value="language modelling">
                  <span class="text">Task</span>
                  <span class="ui horizontal label topic category-task">language modelling</span>
                </div>
              
                <div class="item" data-value="fewshot">
                  <span class="text">General</span>
                  <span class="ui horizontal label topic category-general">fewshot</span>
                </div>
              
                <div class="item" data-value="seafloor">
                  <span class="text">General</span>
                  <span class="ui horizontal label topic category-general">seafloor</span>
                </div>
              
                <div class="item" data-value="structural biology">
                  <span class="text">General</span>
                  <span class="ui horizontal label topic category-general">structural biology</span>
                </div>
              
                <div class="item" data-value="privacy">
                  <span class="text">General</span>
                  <span class="ui horizontal label topic category-general">privacy</span>
                </div>
              
                <div class="item" data-value="protein template">
                  <span class="text">General</span>
                  <span class="ui horizontal label topic category-general">protein template</span>
                </div>
              
                <div class="item" data-value="cmip5">
                  <span class="text">General</span>
                  <span class="ui horizontal label topic category-general">cmip5</span>
                </div>
              
                <div class="item" data-value="scholarly communication">
                  <span class="text">General</span>
                  <span class="ui horizontal label topic category-general">scholarly communication</span>
                </div>
              
                <div class="item" data-value="mixed file dataset">
                  <span class="text">General</span>
                  <span class="ui horizontal label topic category-general">mixed file dataset</span>
                </div>
              
                <div class="item" data-value="geothermal">
                  <span class="text">General</span>
                  <span class="ui horizontal label topic category-general">geothermal</span>
                </div>
              
                <div class="item" data-value="molecular dynamics">
                  <span class="text">General</span>
                  <span class="ui horizontal label topic category-general">molecular dynamics</span>
                </div>
              
                <div class="item" data-value="wildlife">
                  <span class="text">General</span>
                  <span class="ui horizontal label topic category-general">wildlife</span>
                </div>
              
                <div class="item" data-value="intrusion detection">
                  <span class="text">General</span>
                  <span class="ui horizontal label topic category-general">intrusion detection</span>
                </div>
              
                <div class="item" data-value="cultural preservation">
                  <span class="text">General</span>
                  <span class="ui horizontal label topic category-general">cultural preservation</span>
                </div>
              
                <div class="item" data-value="graph">
                  <span class="text">Data Domain</span>
                  <span class="ui horizontal label topic category-data_domain">graph</span>
                </div>
              
                <div class="item" data-value="meta learning">
                  <span class="text">General</span>
                  <span class="ui horizontal label topic category-general">meta learning</span>
                </div>
              
                <div class="item" data-value="pediatric">
                  <span class="text">General</span>
                  <span class="ui horizontal label topic category-general">pediatric</span>
                </div>
              
                <div class="item" data-value="msa">
                  <span class="text">General</span>
                  <span class="ui horizontal label topic category-general">msa</span>
                </div>
              
                <div class="item" data-value="benchmark">
                  <span class="text">General</span>
                  <span class="ui horizontal label topic category-general">benchmark</span>
                </div>
              
                <div class="item" data-value="music features dataset">
                  <span class="text">General</span>
                  <span class="ui horizontal label topic category-general">music features dataset</span>
                </div>
              
                <div class="item" data-value="malware">
                  <span class="text">General</span>
                  <span class="ui horizontal label topic category-general">malware</span>
                </div>
              
                <div class="item" data-value="datacenter">
                  <span class="text">General</span>
                  <span class="ui horizontal label topic category-general">datacenter</span>
                </div>
              
                <div class="item" data-value="pharmaceutical">
                  <span class="text">General</span>
                  <span class="ui horizontal label topic category-general">pharmaceutical</span>
                </div>
              
                <div class="item" data-value="hiring">
                  <span class="text">General</span>
                  <span class="ui horizontal label topic category-general">hiring</span>
                </div>
              
                <div class="item" data-value="radiation">
                  <span class="text">General</span>
                  <span class="ui horizontal label topic category-general">radiation</span>
                </div>
              
                <div class="item" data-value="geophysics">
                  <span class="text">General</span>
                  <span class="ui horizontal label topic category-general">geophysics</span>
                </div>
              
                <div class="item" data-value="alphafold">
                  <span class="text">General</span>
                  <span class="ui horizontal label topic category-general">alphafold</span>
                </div>
              
                <div class="item" data-value="high-throughput imaging">
                  <span class="text">General</span>
                  <span class="ui horizontal label topic category-general">high-throughput imaging</span>
                </div>
              
                <div class="item" data-value="simulations">
                  <span class="text">General</span>
                  <span class="ui horizontal label topic category-general">simulations</span>
                </div>
              
                <div class="item" data-value="text classification">
                  <span class="text">Task</span>
                  <span class="ui horizontal label topic category-task">text classification</span>
                </div>
              
                <div class="item" data-value="data assimilation">
                  <span class="text">General</span>
                  <span class="ui horizontal label topic category-general">data assimilation</span>
                </div>
              
                <div class="item" data-value="netcdf">
                  <span class="text">General</span>
                  <span class="ui horizontal label topic category-general">netcdf</span>
                </div>
              
                <div class="item" data-value="economics">
                  <span class="text">General</span>
                  <span class="ui horizontal label topic category-general">economics</span>
                </div>
              
                <div class="item" data-value="acoustics">
                  <span class="text">General</span>
                  <span class="ui horizontal label topic category-general">acoustics</span>
                </div>
              
                <div class="item" data-value="mining">
                  <span class="text">General</span>
                  <span class="ui horizontal label topic category-general">mining</span>
                </div>
              
                <div class="item" data-value="space weather">
                  <span class="text">General</span>
                  <span class="ui horizontal label topic category-general">space weather</span>
                </div>
              
                <div class="item" data-value="tertiary analysis">
                  <span class="text">General</span>
                  <span class="ui horizontal label topic category-general">tertiary analysis</span>
                </div>
              
                <div class="item" data-value="data analytics">
                  <span class="text">General</span>
                  <span class="ui horizontal label topic category-general">data analytics</span>
                </div>
              
                <div class="item" data-value="autism spectrum disorder">
                  <span class="text">General</span>
                  <span class="ui horizontal label topic category-general">autism spectrum disorder</span>
                </div>
              
                <div class="item" data-value="histopathology">
                  <span class="text">General</span>
                  <span class="ui horizontal label topic category-general">histopathology</span>
                </div>
              
                <div class="item" data-value="movies">
                  <span class="text">General</span>
                  <span class="ui horizontal label topic category-general">movies</span>
                </div>
              
                <div class="item" data-value="enzyme">
                  <span class="text">General</span>
                  <span class="ui horizontal label topic category-general">enzyme</span>
                </div>
              
                <div class="item" data-value="tiles">
                  <span class="text">General</span>
                  <span class="ui horizontal label topic category-general">tiles</span>
                </div>
              
                <div class="item" data-value="museum">
                  <span class="text">General</span>
                  <span class="ui horizontal label topic category-general">museum</span>
                </div>
              
                <div class="item" data-value="media">
                  <span class="text">General</span>
                  <span class="ui horizontal label topic category-general">media</span>
                </div>
              
                <div class="item" data-value="culture">
                  <span class="text">General</span>
                  <span class="ui horizontal label topic category-general">culture</span>
                </div>
              
                <div class="item" data-value="hydrography">
                  <span class="text">General</span>
                  <span class="ui horizontal label topic category-general">hydrography</span>
                </div>
              
                <div class="item" data-value="low-pressure turbine">
                  <span class="text">General</span>
                  <span class="ui horizontal label topic category-general">low-pressure turbine</span>
                </div>
              
                <div class="item" data-value="sqlite">
                  <span class="text">General</span>
                  <span class="ui horizontal label topic category-general">sqlite</span>
                </div>
              
                <div class="item" data-value="variant annotation">
                  <span class="text">General</span>
                  <span class="ui horizontal label topic category-general">variant annotation</span>
                </div>
              
                <div class="item" data-value="mining software repositories">
                  <span class="text">General</span>
                  <span class="ui horizontal label topic category-general">mining software repositories</span>
                </div>
              
                <div class="item" data-value="speaker identification">
                  <span class="text">General</span>
                  <span class="ui horizontal label topic category-general">speaker identification</span>
                </div>
              
                <div class="item" data-value="txt">
                  <span class="text">General</span>
                  <span class="ui horizontal label topic category-general">txt</span>
                </div>
              
                <div class="item" data-value="text analysis">
                  <span class="text">General</span>
                  <span class="ui horizontal label topic category-general">text analysis</span>
                </div>
              
                <div class="item" data-value="kaggle">
                  <span class="text">General</span>
                  <span class="ui horizontal label topic category-general">kaggle</span>
                </div>
              
                <div class="item" data-value="data cleaning">
                  <span class="text">General</span>
                  <span class="ui horizontal label topic category-general">data cleaning</span>
                </div>
              
                <div class="item" data-value="random forests">
                  <span class="text">General</span>
                  <span class="ui horizontal label topic category-general">random forests</span>
                </div>
              
                <div class="item" data-value="medical">
                  <span class="text">General</span>
                  <span class="ui horizontal label topic category-general">medical</span>
                </div>
              
                <div class="item" data-value="python library">
                  <span class="text">General</span>
                  <span class="ui horizontal label topic category-general">python library</span>
                </div>
              
                <div class="item" data-value="github actions">
                  <span class="text">General</span>
                  <span class="ui horizontal label topic category-general">github actions</span>
                </div>
              
                <div class="item" data-value="question answering">
                  <span class="text">Task</span>
                  <span class="ui horizontal label topic category-task">question answering</span>
                </div>
              
                <div class="item" data-value="education">
                  <span class="text">General</span>
                  <span class="ui horizontal label topic category-general">education</span>
                </div>
              
                <div class="item" data-value="data">
                  <span class="text">General</span>
                  <span class="ui horizontal label topic category-general">data</span>
                </div>
              
                <div class="item" data-value="noaa cors network - ncn">
                  <span class="text">General</span>
                  <span class="ui horizontal label topic category-general">noaa cors network - ncn</span>
                </div>
              
                <div class="item" data-value="artificial-intelligence">
                  <span class="text">General</span>
                  <span class="ui horizontal label topic category-general">artificial-intelligence</span>
                </div>
              
                <div class="item" data-value="huggingface transformers">
                  <span class="text">Framework</span>
                  <span class="ui horizontal label topic category-framework">huggingface transformers</span>
                </div>
              
                <div class="item" data-value="dagshub">
                  <span class="text">General</span>
                  <span class="ui horizontal label topic category-general">dagshub</span>
                </div>
              
                <div class="item" data-value="data pipelines">
                  <span class="text">General</span>
                  <span class="ui horizontal label topic category-general">data pipelines</span>
                </div>
              
                <div class="item" data-value="cml">
                  <span class="text">General</span>
                  <span class="ui horizontal label topic category-general">cml</span>
                </div>
              
                <div class="item" data-value="text-to-image generation">
                  <span class="text">Task</span>
                  <span class="ui horizontal label topic category-task">text-to-image generation</span>
                </div>
              
                <div class="item" data-value="label studio">
                  <span class="text">Integration</span>
                  <span class="ui horizontal label topic category-integration">label studio</span>
                </div>
              
                <div class="item" data-value="bitbucket">
                  <span class="text">Integration</span>
                  <span class="ui horizontal label topic category-integration">bitbucket</span>
                </div>
              
                <div class="item" data-value="continuous integration">
                  <span class="text">General</span>
                  <span class="ui horizontal label topic category-general">continuous integration</span>
                </div>
              
                <div class="item" data-value="mlflow-serving">
                  <span class="text">General</span>
                  <span class="ui horizontal label topic category-general">mlflow-serving</span>
                </div>
              
                <div class="item" data-value="depth estimation">
                  <span class="text">Task</span>
                  <span class="ui horizontal label topic category-task">depth estimation</span>
                </div>
              
                <div class="item" data-value="bias">
                  <span class="text">General</span>
                  <span class="ui horizontal label topic category-general">bias</span>
                </div>
              
                <div class="item" data-value="speech recognition">
                  <span class="text">Task</span>
                  <span class="ui horizontal label topic category-task">speech recognition</span>
                </div>
              
                <div class="item" data-value="snowflake">
                  <span class="text">General</span>
                  <span class="ui horizontal label topic category-general">snowflake</span>
                </div>
              
                <div class="item" data-value="julia">
                  <span class="text">General</span>
                  <span class="ui horizontal label topic category-general">julia</span>
                </div>
              
                <div class="item" data-value="gradient boosting">
                  <span class="text">General</span>
                  <span class="ui horizontal label topic category-general">gradient boosting</span>
                </div>
              
                <div class="item" data-value="reading comprehension">
                  <span class="text">Task</span>
                  <span class="ui horizontal label topic category-task">reading comprehension</span>
                </div>
              
                <div class="item" data-value="mnist">
                  <span class="text">General</span>
                  <span class="ui horizontal label topic category-general">mnist</span>
                </div>
              
                <div class="item" data-value="predictive analysis">
                  <span class="text">General</span>
                  <span class="ui horizontal label topic category-general">predictive analysis</span>
                </div>
              
                <div class="item" data-value="mammography">
                  <span class="text">General</span>
                  <span class="ui horizontal label topic category-general">mammography</span>
                </div>
              
                <div class="item" data-value="object classification">
                  <span class="text">Task</span>
                  <span class="ui horizontal label topic category-task">object classification</span>
                </div>
              
                <div class="item" data-value="python pakage">
                  <span class="text">General</span>
                  <span class="ui horizontal label topic category-general">python pakage</span>
                </div>
              
                <div class="item" data-value="x-ray">
                  <span class="text">General</span>
                  <span class="ui horizontal label topic category-general">x-ray</span>
                </div>
              
                <div class="item" data-value="gans">
                  <span class="text">General</span>
                  <span class="ui horizontal label topic category-general">gans</span>
                </div>
              
                <div class="item" data-value="keras">
                  <span class="text">General</span>
                  <span class="ui horizontal label topic category-general">keras</span>
                </div>
              
                <div class="item" data-value="real-time object detection">
                  <span class="text">Task</span>
                  <span class="ui horizontal label topic category-task">real-time object detection</span>
                </div>
              
                <div class="item" data-value="science">
                  <span class="text">General</span>
                  <span class="ui horizontal label topic category-general">science</span>
                </div>
              
                <div class="item" data-value="3d human pose estimation">
                  <span class="text">Task</span>
                  <span class="ui horizontal label topic category-task">3d human pose estimation</span>
                </div>
              
                <div class="item" data-value="zero-shot object detection">
                  <span class="text">Task</span>
                  <span class="ui horizontal label topic category-task">zero-shot object detection</span>
                </div>
              
                <div class="item" data-value="face recognition">
                  <span class="text">Task</span>
                  <span class="ui horizontal label topic category-task">face recognition</span>
                </div>
              
                <div class="item" data-value="bento ml">
                  <span class="text">General</span>
                  <span class="ui horizontal label topic category-general">bento ml</span>
                </div>
              
                <div class="item" data-value="projects">
                  <span class="text">General</span>
                  <span class="ui horizontal label topic category-general">projects</span>
                </div>
              
                <div class="item" data-value="streamlit">
                  <span class="text">General</span>
                  <span class="ui horizontal label topic category-general">streamlit</span>
                </div>
              
                <div class="item" data-value="fastai">
                  <span class="text">General</span>
                  <span class="ui horizontal label topic category-general">fastai</span>
                </div>
              
                <div class="item" data-value="codepeak">
                  <span class="text">General</span>
                  <span class="ui horizontal label topic category-general">codepeak</span>
                </div>
              
                <div class="item" data-value="best pune escorts">
                  <span class="text">General</span>
                  <span class="ui horizontal label topic category-general">best pune escorts</span>
                </div>
              
                <div class="item" data-value="movie">
                  <span class="text">General</span>
                  <span class="ui horizontal label topic category-general">movie</span>
                </div>
              
                <div class="item" data-value="type">
                  <span class="text">General</span>
                  <span class="ui horizontal label topic category-general">type</span>
                </div>
              
                <div class="item" data-value="edge detection">
                  <span class="text">Task</span>
                  <span class="ui horizontal label topic category-task">edge detection</span>
                </div>
              
                <div class="item" data-value="skimage">
                  <span class="text">General</span>
                  <span class="ui horizontal label topic category-general">skimage</span>
                </div>
              
                <div class="item" data-value="domain adaptation">
                  <span class="text">Task</span>
                  <span class="ui horizontal label topic category-task">domain adaptation</span>
                </div>
              
                <div class="item" data-value="orchest">
                  <span class="text">General</span>
                  <span class="ui horizontal label topic category-general">orchest</span>
                </div>
              
                <div class="item" data-value="dialogpt bot">
                  <span class="text">General</span>
                  <span class="ui horizontal label topic category-general">dialogpt bot</span>
                </div>
              
                <div class="item" data-value="salient object detection">
                  <span class="text">Task</span>
                  <span class="ui horizontal label topic category-task">salient object detection</span>
                </div>
              
                <div class="item" data-value="individuals">
                  <span class="text">General</span>
                  <span class="ui horizontal label topic category-general">individuals</span>
                </div>
              
                <div class="item" data-value="video object segmentation">
                  <span class="text">Task</span>
                  <span class="ui horizontal label topic category-task">video object segmentation</span>
                </div>
              
                <div class="item" data-value="scw">
                  <span class="text">General</span>
                  <span class="ui horizontal label topic category-general">scw</span>
                </div>
              
                <div class="item" data-value="titanic">
                  <span class="text">General</span>
                  <span class="ui horizontal label topic category-general">titanic</span>
                </div>
              
                <div class="item" data-value="face identification">
                  <span class="text">Task</span>
                  <span class="ui horizontal label topic category-task">face identification</span>
                </div>
              
                <div class="item" data-value="shap">
                  <span class="text">General</span>
                  <span class="ui horizontal label topic category-general">shap</span>
                </div>
              
                <div class="item" data-value="transformers">
                  <span class="text">General</span>
                  <span class="ui horizontal label topic category-general">transformers</span>
                </div>
              
                <div class="item" data-value="natural language understanding">
                  <span class="text">Task</span>
                  <span class="ui horizontal label topic category-task">natural language understanding</span>
                </div>
              
                <div class="item" data-value="singapore">
                  <span class="text">General</span>
                  <span class="ui horizontal label topic category-general">singapore</span>
                </div>
              
                <div class="item" data-value="deployment">
                  <span class="text">General</span>
                  <span class="ui horizontal label topic category-general">deployment</span>
                </div>
              
                <div class="item" data-value="news classification">
                  <span class="text">Task</span>
                  <span class="ui horizontal label topic category-task">news classification</span>
                </div>
              
                <div class="item" data-value="mri">
                  <span class="text">General</span>
                  <span class="ui horizontal label topic category-general">mri</span>
                </div>
              
                <div class="item" data-value="torchdata">
                  <span class="text">General</span>
                  <span class="ui horizontal label topic category-general">torchdata</span>
                </div>
              
                <div class="item" data-value="face detection">
                  <span class="text">Task</span>
                  <span class="ui horizontal label topic category-task">face detection</span>
                </div>
              
                <div class="item" data-value="supermarket website scraping">
                  <span class="text">General</span>
                  <span class="ui horizontal label topic category-general">supermarket website scraping</span>
                </div>
              
                <div class="item" data-value="tactical decision">
                  <span class="text">General</span>
                  <span class="ui horizontal label topic category-general">tactical decision</span>
                </div>
              
                <div class="item" data-value="social good">
                  <span class="text">General</span>
                  <span class="ui horizontal label topic category-general">social good</span>
                </div>
              
                <div class="item" data-value="face reconstruction">
                  <span class="text">Task</span>
                  <span class="ui horizontal label topic category-task">face reconstruction</span>
                </div>
              
                <div class="item" data-value="mouse">
                  <span class="text">General</span>
                  <span class="ui horizontal label topic category-general">mouse</span>
                </div>
              
                <div class="item" data-value="corpus">
                  <span class="text">General</span>
                  <span class="ui horizontal label topic category-general">corpus</span>
                </div>
              
                <div class="item" data-value="medical terminology">
                  <span class="text">General</span>
                  <span class="ui horizontal label topic category-general">medical terminology</span>
                </div>
              
                <div class="item" data-value="vsdvsdvsdvssf">
                  <span class="text">General</span>
                  <span class="ui horizontal label topic category-general">vsdvsdvsdvssf</span>
                </div>
              
                <div class="item" data-value="reinforcement learning">
                  <span class="text">Data Domain</span>
                  <span class="ui horizontal label topic category-data_domain">reinforcement learning</span>
                </div>
              
                <div class="item" data-value="reviewer recommendation">
                  <span class="text">General</span>
                  <span class="ui horizontal label topic category-general">reviewer recommendation</span>
                </div>
              
                <div class="item" data-value="visualization">
                  <span class="text">General</span>
                  <span class="ui horizontal label topic category-general">visualization</span>
                </div>
              
                <div class="item" data-value="test">
                  <span class="text">General</span>
                  <span class="ui horizontal label topic category-general">test</span>
                </div>
              
                <div class="item" data-value="license plate recognition">
                  <span class="text">Task</span>
                  <span class="ui horizontal label topic category-task">license plate recognition</span>
                </div>
              
                <div class="item" data-value="diabetes">
                  <span class="text">General</span>
                  <span class="ui horizontal label topic category-general">diabetes</span>
                </div>
              
                <div class="item" data-value="sad">
                  <span class="text">General</span>
                  <span class="ui horizontal label topic category-general">sad</span>
                </div>
              
                <div class="item" data-value="nltk">
                  <span class="text">General</span>
                  <span class="ui horizontal label topic category-general">nltk</span>
                </div>
              
                <div class="item" data-value="neutral">
                  <span class="text">General</span>
                  <span class="ui horizontal label topic category-general">neutral</span>
                </div>
              
                <div class="item" data-value="document image">
                  <span class="text">General</span>
                  <span class="ui horizontal label topic category-general">document image</span>
                </div>
              
                <div class="item" data-value="dataframe">
                  <span class="text">General</span>
                  <span class="ui horizontal label topic category-general">dataframe</span>
                </div>
              
                <div class="item" data-value="dsd">
                  <span class="text">General</span>
                  <span class="ui horizontal label topic category-general">dsd</span>
                </div>
              
                <div class="item" data-value="table detection">
                  <span class="text">Task</span>
                  <span class="ui horizontal label topic category-task">table detection</span>
                </div>
              
                <div class="item" data-value="malware detection">
                  <span class="text">General</span>
                  <span class="ui horizontal label topic category-general">malware detection</span>
                </div>
              
                <div class="item" data-value="interpretability">
                  <span class="text">General</span>
                  <span class="ui horizontal label topic category-general">interpretability</span>
                </div>
              
                <div class="item" data-value="object detection in aerial images">
                  <span class="text">Task</span>
                  <span class="ui horizontal label topic category-task">object detection in aerial images</span>
                </div>
              
                <div class="item" data-value="imporoving logistics and optimizing routing">
                  <span class="text">General</span>
                  <span class="ui horizontal label topic category-general">imporoving logistics and optimizing routing</span>
                </div>
              
                <div class="item" data-value="face verification">
                  <span class="text">Task</span>
                  <span class="ui horizontal label topic category-task">face verification</span>
                </div>
              
                <div class="item" data-value="vaccine">
                  <span class="text">General</span>
                  <span class="ui horizontal label topic category-general">vaccine</span>
                </div>
              
                <div class="item" data-value="explainable artificial intelligence">
                  <span class="text">Task</span>
                  <span class="ui horizontal label topic category-task">explainable artificial intelligence</span>
                </div>
              
                <div class="item" data-value="multi-label text classification">
                  <span class="text">Task</span>
                  <span class="ui horizontal label topic category-task">multi-label text classification</span>
                </div>
              
                <div class="item" data-value="2022 data science related notes">
                  <span class="text">General</span>
                  <span class="ui horizontal label topic category-general">2022 data science related notes</span>
                </div>
              
                <div class="item" data-value="product webscraping on food systesms">
                  <span class="text">General</span>
                  <span class="ui horizontal label topic category-general">product webscraping on food systesms</span>
                </div>
              
                <div class="item" data-value="adsadad asdsadsa -dsadsadsadasdasdasdasdasd">
                  <span class="text">General</span>
                  <span class="ui horizontal label topic category-general">adsadad asdsadsa -dsadsadsadasdasdasdasdasd</span>
                </div>
              
                <div class="item" data-value="obesity">
                  <span class="text">General</span>
                  <span class="ui horizontal label topic category-general">obesity</span>
                </div>
              
                <div class="item" data-value="moez">
                  <span class="text">General</span>
                  <span class="ui horizontal label topic category-general">moez</span>
                </div>
              
                <div class="item" data-value="code review">
                  <span class="text">General</span>
                  <span class="ui horizontal label topic category-general">code review</span>
                </div>
              
                <div class="item" data-value="named entity recognition">
                  <span class="text">Task</span>
                  <span class="ui horizontal label topic category-task">named entity recognition</span>
                </div>
              
                <div class="item" data-value="jigsaw">
                  <span class="text">General</span>
                  <span class="ui horizontal label topic category-general">jigsaw</span>
                </div>
              
                <div class="item" data-value="omdena-milan chapter mirrored from github repo">
                  <span class="text">General</span>
                  <span class="ui horizontal label topic category-general">omdena-milan chapter mirrored from github repo</span>
                </div>
              
                <div class="item" data-value="baseline">
                  <span class="text">General</span>
                  <span class="ui horizontal label topic category-general">baseline</span>
                </div>
              
                <div class="item" data-value="numeric arrays">
                  <span class="text">General</span>
                  <span class="ui horizontal label topic category-general">numeric arrays</span>
                </div>
              
                <div class="item" data-value="heroku">
                  <span class="text">General</span>
                  <span class="ui horizontal label topic category-general">heroku</span>
                </div>
              
                <div class="item" data-value="cnn">
                  <span class="text">General</span>
                  <span class="ui horizontal label topic category-general">cnn</span>
                </div>
              
                <div class="item" data-value="tim ho">
                  <span class="text">General</span>
                  <span class="ui horizontal label topic category-general">tim ho</span>
                </div>
              
                <div class="item" data-value="medical image segmentation">
                  <span class="text">Task</span>
                  <span class="ui horizontal label topic category-task">medical image segmentation</span>
                </div>
              
                <div class="item" data-value="nextjs">
                  <span class="text">General</span>
                  <span class="ui horizontal label topic category-general">nextjs</span>
                </div>
              
                <div class="item" data-value="pytest">
                  <span class="text">General</span>
                  <span class="ui horizontal label topic category-general">pytest</span>
                </div>
              
                <div class="item" data-value="alzheimers">
                  <span class="text">General</span>
                  <span class="ui horizontal label topic category-general">alzheimers</span>
                </div>
              
                <div class="item" data-value="text-to-speech synthesis">
                  <span class="text">Task</span>
                  <span class="ui horizontal label topic category-task">text-to-speech synthesis</span>
                </div>
              
                <div class="item" data-value="discord">
                  <span class="text">General</span>
                  <span class="ui horizontal label topic category-general">discord</span>
                </div>
              
                <div class="item" data-value="few-shot learning">
                  <span class="text">Task</span>
                  <span class="ui horizontal label topic category-task">few-shot learning</span>
                </div>
              
                <div class="item" data-value="feature engineering">
                  <span class="text">Task</span>
                  <span class="ui horizontal label topic category-task">feature engineering</span>
                </div>
              
                <div class="item" data-value="dagshub as a my favourite data science tool">
                  <span class="text">General</span>
                  <span class="ui horizontal label topic category-general">dagshub as a my favourite data science tool</span>
                </div>
              
                <div class="item" data-value="weather impacts">
                  <span class="text">General</span>
                  <span class="ui horizontal label topic category-general">weather impacts</span>
                </div>
              
                <div class="item" data-value="covid19 vaccine">
                  <span class="text">General</span>
                  <span class="ui horizontal label topic category-general">covid19 vaccine</span>
                </div>
              
                <div class="item" data-value="object recognition">
                  <span class="text">Task</span>
                  <span class="ui horizontal label topic category-task">object recognition</span>
                </div>
              
                <div class="item" data-value="master">
                  <span class="text">General</span>
                  <span class="ui horizontal label topic category-general">master</span>
                </div>
              
                <div class="item" data-value="jax">
                  <span class="text">Framework</span>
                  <span class="ui horizontal label topic category-framework">jax</span>
                </div>
              
                <div class="item" data-value="colorization">
                  <span class="text">Task</span>
                  <span class="ui horizontal label topic category-task">colorization</span>
                </div>
              
                <div class="item" data-value="unet">
                  <span class="text">General</span>
                  <span class="ui horizontal label topic category-general">unet</span>
                </div>
              
                <div class="item" data-value="image generation">
                  <span class="text">Task</span>
                  <span class="ui horizontal label topic category-task">image generation</span>
                </div>
              
                <div class="item" data-value="disease">
                  <span class="text">General</span>
                  <span class="ui horizontal label topic category-general">disease</span>
                </div>
              
                <div class="item" data-value="neural network">
                  <span class="text">General</span>
                  <span class="ui horizontal label topic category-general">neural network</span>
                </div>
              
                <div class="item" data-value="aws">
                  <span class="text">General</span>
                  <span class="ui horizontal label topic category-general">aws</span>
                </div>
              
                <div class="item" data-value="news">
                  <span class="text">General</span>
                  <span class="ui horizontal label topic category-general">news</span>
                </div>
              
                <div class="item" data-value="text generation">
                  <span class="text">Task</span>
                  <span class="ui horizontal label topic category-task">text generation</span>
                </div>
              
                <div class="item" data-value="video-object-segmentatino">
                  <span class="text">General</span>
                  <span class="ui horizontal label topic category-general">video-object-segmentatino</span>
                </div>
              
                <div class="item" data-value="food">
                  <span class="text">General</span>
                  <span class="ui horizontal label topic category-general">food</span>
                </div>
              
                <div class="item" data-value="domain generalization">
                  <span class="text">Task</span>
                  <span class="ui horizontal label topic category-task">domain generalization</span>
                </div>
              
                <div class="item" data-value="automl">
                  <span class="text">Task</span>
                  <span class="ui horizontal label topic category-task">automl</span>
                </div>
              
                <div class="item" data-value="machine">
                  <span class="text">General</span>
                  <span class="ui horizontal label topic category-general">machine</span>
                </div>
              
                <div class="item" data-value="snails">
                  <span class="text">General</span>
                  <span class="ui horizontal label topic category-general">snails</span>
                </div>
              
                <div class="item" data-value="face reenactment">
                  <span class="text">Task</span>
                  <span class="ui horizontal label topic category-task">face reenactment</span>
                </div>
              
                <div class="item" data-value="jitter click test">
                  <span class="text">General</span>
                  <span class="ui horizontal label topic category-general">jitter click test</span>
                </div>
              
                <div class="item" data-value="scorecard">
                  <span class="text">General</span>
                  <span class="ui horizontal label topic category-general">scorecard</span>
                </div>
              
                <div class="item" data-value="ditmodel">
                  <span class="text">General</span>
                  <span class="ui horizontal label topic category-general">ditmodel</span>
                </div>
              
                <div class="item" data-value="object skeleton detection">
                  <span class="text">Task</span>
                  <span class="ui horizontal label topic category-task">object skeleton detection</span>
                </div>
              
                <div class="item" data-value="time series">
                  <span class="text">Task</span>
                  <span class="ui horizontal label topic category-task">time series</span>
                </div>
              
                <div class="item" data-value="remote working file system">
                  <span class="text">General</span>
                  <span class="ui horizontal label topic category-general">remote working file system</span>
                </div>
              
                <div class="item" data-value="fdffwfwf">
                  <span class="text">General</span>
                  <span class="ui horizontal label topic category-general">fdffwfwf</span>
                </div>
              
                <div class="item" data-value="prevention">
                  <span class="text">General</span>
                  <span class="ui horizontal label topic category-general">prevention</span>
                </div>
              
                <div class="item" data-value="extract mfccs">
                  <span class="text">General</span>
                  <span class="ui horizontal label topic category-general">extract mfccs</span>
                </div>
              
                <div class="item" data-value="olympics">
                  <span class="text">General</span>
                  <span class="ui horizontal label topic category-general">olympics</span>
                </div>
              
                <div class="item" data-value="unit testing">
                  <span class="text">General</span>
                  <span class="ui horizontal label topic category-general">unit testing</span>
                </div>
              
                <div class="item" data-value="fine-grained image classification">
                  <span class="text">Task</span>
                  <span class="ui horizontal label topic category-task">fine-grained image classification</span>
                </div>
              
                <div class="item" data-value="quantitative">
                  <span class="text">General</span>
                  <span class="ui horizontal label topic category-general">quantitative</span>
                </div>
              
                <div class="item" data-value="transfer learning">
                  <span class="text">Task</span>
                  <span class="ui horizontal label topic category-task">transfer learning</span>
                </div>
              
                <div class="item" data-value="new upcoming data science projects for 2020">
                  <span class="text">General</span>
                  <span class="ui horizontal label topic category-general">new upcoming data science projects for 2020</span>
                </div>
              
                <div class="item" data-value="object counting">
                  <span class="text">Task</span>
                  <span class="ui horizontal label topic category-task">object counting</span>
                </div>
              
                <div class="item" data-value="pune escorts services">
                  <span class="text">General</span>
                  <span class="ui horizontal label topic category-general">pune escorts services</span>
                </div>
              
                <div class="item" data-value="toy">
                  <span class="text">General</span>
                  <span class="ui horizontal label topic category-general">toy</span>
                </div>
              
                <div class="item" data-value="catboost">
                  <span class="text">General</span>
                  <span class="ui horizontal label topic category-general">catboost</span>
                </div>
              
                <div class="item" data-value="preverified">
                  <span class="text">General</span>
                  <span class="ui horizontal label topic category-general">preverified</span>
                </div>
              
                <div class="item" data-value="video-object-segmentation">
                  <span class="text">General</span>
                  <span class="ui horizontal label topic category-general">video-object-segmentation</span>
                </div>
              
                <div class="item" data-value="food recognition">
                  <span class="text">Task</span>
                  <span class="ui horizontal label topic category-task">food recognition</span>
                </div>
              
                <div class="item" data-value="wordle">
                  <span class="text">General</span>
                  <span class="ui horizontal label topic category-general">wordle</span>
                </div>
              
                <div class="item" data-value="fdfwsf">
                  <span class="text">General</span>
                  <span class="ui horizontal label topic category-general">fdfwsf</span>
                </div>
              
                <div class="item" data-value="face sketch synthesis">
                  <span class="text">Task</span>
                  <span class="ui horizontal label topic category-task">face sketch synthesis</span>
                </div>
              
                <div class="item" data-value="pil">
                  <span class="text">General</span>
                  <span class="ui horizontal label topic category-general">pil</span>
                </div>
              
                <div class="item" data-value="fastapi">
                  <span class="text">General</span>
                  <span class="ui horizontal label topic category-general">fastapi</span>
                </div>
              
                <div class="item" data-value="active learning">
                  <span class="text">Task</span>
                  <span class="ui horizontal label topic category-task">active learning</span>
                </div>
              
                <div class="item" data-value="africa">
                  <span class="text">General</span>
                  <span class="ui horizontal label topic category-general">africa</span>
                </div>
              
                <div class="item" data-value="sdw">
                  <span class="text">General</span>
                  <span class="ui horizontal label topic category-general">sdw</span>
                </div>
              
                <div class="item" data-value="albumentations">
                  <span class="text">General</span>
                  <span class="ui horizontal label topic category-general">albumentations</span>
                </div>
              
                <div class="item" data-value="face model">
                  <span class="text">Task</span>
                  <span class="ui horizontal label topic category-task">face model</span>
                </div>
              
                <div class="item" data-value="search">
                  <span class="text">General</span>
                  <span class="ui horizontal label topic category-general">search</span>
                </div>
              
                <div class="item" data-value="speech enhancement">
                  <span class="text">Task</span>
                  <span class="ui horizontal label topic category-task">speech enhancement</span>
                </div>
              
                <div class="item" data-value="ai4 sustainable agri-food">
                  <span class="text">General</span>
                  <span class="ui horizontal label topic category-general">ai4 sustainable agri-food</span>
                </div>
              
                <div class="item" data-value="triathlon">
                  <span class="text">General</span>
                  <span class="ui horizontal label topic category-general">triathlon</span>
                </div>
              
                <div class="item" data-value="gradio">
                  <span class="text">General</span>
                  <span class="ui horizontal label topic category-general">gradio</span>
                </div>
              
                <div class="item" data-value="pose estimation">
                  <span class="text">Task</span>
                  <span class="ui horizontal label topic category-task">pose estimation</span>
                </div>
              
                <div class="item" data-value="huggingface">
                  <span class="text">General</span>
                  <span class="ui horizontal label topic category-general">huggingface</span>
                </div>
              
                <div class="item" data-value="production optimization">
                  <span class="text">General</span>
                  <span class="ui horizontal label topic category-general">production optimization</span>
                </div>
              
                <div class="item" data-value="seo">
                  <span class="text">General</span>
                  <span class="ui horizontal label topic category-general">seo</span>
                </div>
              
                <div class="item" data-value="azure">
                  <span class="text">General</span>
                  <span class="ui horizontal label topic category-general">azure</span>
                </div>
              
                <div class="item" data-value="animals">
                  <span class="text">General</span>
                  <span class="ui horizontal label topic category-general">animals</span>
                </div>
              
                <div class="item" data-value="number recognition">
                  <span class="text">General</span>
                  <span class="ui horizontal label topic category-general">number recognition</span>
                </div>
              
                <div class="item" data-value="visual tracking">
                  <span class="text">Task</span>
                  <span class="ui horizontal label topic category-task">visual tracking</span>
                </div>
              
                <div class="item" data-value="awesome list">
                  <span class="text">General</span>
                  <span class="ui horizontal label topic category-general">awesome list</span>
                </div>
              
                <div class="item" data-value="bot">
                  <span class="text">General</span>
                  <span class="ui horizontal label topic category-general">bot</span>
                </div>
              
                <div class="item" data-value="happy">
                  <span class="text">General</span>
                  <span class="ui horizontal label topic category-general">happy</span>
                </div>
              
                <div class="item" data-value="cps">
                  <span class="text">General</span>
                  <span class="ui horizontal label topic category-general">cps</span>
                </div>
              
                <div class="item" data-value="wdl">
                  <span class="text">General</span>
                  <span class="ui horizontal label topic category-general">wdl</span>
                </div>
              
                <div class="item" data-value="autonomous driving">
                  <span class="text">Task</span>
                  <span class="ui horizontal label topic category-task">autonomous driving</span>
                </div>
              
                <div class="item" data-value="sea">
                  <span class="text">General</span>
                  <span class="ui horizontal label topic category-general">sea</span>
                </div>
              
                <div class="item" data-value="wav">
                  <span class="text">General</span>
                  <span class="ui horizontal label topic category-general">wav</span>
                </div>
              
                <div class="item" data-value="jenkins">
                  <span class="text">Integration</span>
                  <span class="ui horizontal label topic category-integration">jenkins</span>
                </div>
              
                <div class="item" data-value="engine">
                  <span class="text">General</span>
                  <span class="ui horizontal label topic category-general">engine</span>
                </div>
              
                <div class="item" data-value="hebrew">
                  <span class="text">General</span>
                  <span class="ui horizontal label topic category-general">hebrew</span>
                </div>
              
                <div class="item" data-value="recipe">
                  <span class="text">General</span>
                  <span class="ui horizontal label topic category-general">recipe</span>
                </div>
              
                <div class="item" data-value="sdsd">
                  <span class="text">General</span>
                  <span class="ui horizontal label topic category-general">sdsd</span>
                </div>
              
                <div class="item" data-value="http traffic data">
                  <span class="text">General</span>
                  <span class="ui horizontal label topic category-general">http traffic data</span>
                </div>
              
                <div class="item" data-value="data review">
                  <span class="text">General</span>
                  <span class="ui horizontal label topic category-general">data review</span>
                </div>
              
                <div class="item" data-value="sequence-to-sequence language modeling">
                  <span class="text">Task</span>
                  <span class="ui horizontal label topic category-task">sequence-to-sequence language modeling</span>
                </div>
              
                <div class="item" data-value="eda">
                  <span class="text">General</span>
                  <span class="ui horizontal label topic category-general">eda</span>
                </div>
              
                <div class="item" data-value="flax">
                  <span class="text">Framework</span>
                  <span class="ui horizontal label topic category-framework">flax</span>
                </div>
              
                <div class="item" data-value="asv">
                  <span class="text">General</span>
                  <span class="ui horizontal label topic category-general">asv</span>
                </div>
              
                <div class="item" data-value="2023 data science collection repo">
                  <span class="text">General</span>
                  <span class="ui horizontal label topic category-general">2023 data science collection repo</span>
                </div>
              
                <div class="item" data-value="ai planning">
                  <span class="text">General</span>
                  <span class="ui horizontal label topic category-general">ai planning</span>
                </div>
              
                <div class="item" data-value="tutorials">
                  <span class="text">General</span>
                  <span class="ui horizontal label topic category-general">tutorials</span>
                </div>
              
                <div class="item" data-value="image-to-image translation">
                  <span class="text">Task</span>
                  <span class="ui horizontal label topic category-task">image-to-image translation</span>
                </div>
              
                <div class="item" data-value="video prediction">
                  <span class="text">Task</span>
                  <span class="ui horizontal label topic category-task">video prediction</span>
                </div>
              
                <div class="item" data-value="lesion classification">
                  <span class="text">Task</span>
                  <span class="ui horizontal label topic category-task">lesion classification</span>
                </div>
              
                <div class="item" data-value="unsupervised domain adaptation">
                  <span class="text">Task</span>
                  <span class="ui horizontal label topic category-task">unsupervised domain adaptation</span>
                </div>
              
                <div class="item" data-value="video description">
                  <span class="text">Task</span>
                  <span class="ui horizontal label topic category-task">video description</span>
                </div>
              
                <div class="item" data-value="graph matching">
                  <span class="text">Task</span>
                  <span class="ui horizontal label topic category-task">graph matching</span>
                </div>
              
                <div class="item" data-value="low-light image enhancement">
                  <span class="text">Task</span>
                  <span class="ui horizontal label topic category-task">low-light image enhancement</span>
                </div>
              
                <div class="item" data-value="opinion mining">
                  <span class="text">Task</span>
                  <span class="ui horizontal label topic category-task">opinion mining</span>
                </div>
              
                <div class="item" data-value="weather forecasting">
                  <span class="text">Task</span>
                  <span class="ui horizontal label topic category-task">weather forecasting</span>
                </div>
              
                <div class="item" data-value="common sense reasoning">
                  <span class="text">Task</span>
                  <span class="ui horizontal label topic category-task">common sense reasoning</span>
                </div>
              
                <div class="item" data-value="skeleton based action recognition">
                  <span class="text">Task</span>
                  <span class="ui horizontal label topic category-task">skeleton based action recognition</span>
                </div>
              
                <div class="item" data-value="real-time strategy games">
                  <span class="text">Task</span>
                  <span class="ui horizontal label topic category-task">real-time strategy games</span>
                </div>
              
                <div class="item" data-value="compositional zero-shot learning">
                  <span class="text">Task</span>
                  <span class="ui horizontal label topic category-task">compositional zero-shot learning</span>
                </div>
              
                <div class="item" data-value="robot navigation">
                  <span class="text">Task</span>
                  <span class="ui horizontal label topic category-task">robot navigation</span>
                </div>
              
                <div class="item" data-value="transliteration">
                  <span class="text">Task</span>
                  <span class="ui horizontal label topic category-task">transliteration</span>
                </div>
              
                <div class="item" data-value="cross-lingual question answering">
                  <span class="text">Task</span>
                  <span class="ui horizontal label topic category-task">cross-lingual question answering</span>
                </div>
              
                <div class="item" data-value="scene classification">
                  <span class="text">Task</span>
                  <span class="ui horizontal label topic category-task">scene classification</span>
                </div>
              
                <div class="item" data-value="text style transfer">
                  <span class="text">Task</span>
                  <span class="ui horizontal label topic category-task">text style transfer</span>
                </div>
              
                <div class="item" data-value="dependency parsing">
                  <span class="text">Task</span>
                  <span class="ui horizontal label topic category-task">dependency parsing</span>
                </div>
              
                <div class="item" data-value="video-based person re-identification">
                  <span class="text">Task</span>
                  <span class="ui horizontal label topic category-task">video-based person re-identification</span>
                </div>
              
                <div class="item" data-value="optical character recognition">
                  <span class="text">Task</span>
                  <span class="ui horizontal label topic category-task">optical character recognition</span>
                </div>
              
                <div class="item" data-value="graph classification">
                  <span class="text">Task</span>
                  <span class="ui horizontal label topic category-task">graph classification</span>
                </div>
              
                <div class="item" data-value="trajectory prediction">
                  <span class="text">Task</span>
                  <span class="ui horizontal label topic category-task">trajectory prediction</span>
                </div>
              
                <div class="item" data-value="text-image retrieval">
                  <span class="text">Task</span>
                  <span class="ui horizontal label topic category-task">text-image retrieval</span>
                </div>
              
                <div class="item" data-value="interactive segmentation">
                  <span class="text">Task</span>
                  <span class="ui horizontal label topic category-task">interactive segmentation</span>
                </div>
              
                <div class="item" data-value="semantic correspondence">
                  <span class="text">Task</span>
                  <span class="ui horizontal label topic category-task">semantic correspondence</span>
                </div>
              
                <div class="item" data-value="single image dehazing">
                  <span class="text">Task</span>
                  <span class="ui horizontal label topic category-task">single image dehazing</span>
                </div>
              
                <div class="item" data-value="gitlab">
                  <span class="text">Integration</span>
                  <span class="ui horizontal label topic category-integration">gitlab</span>
                </div>
              
                <div class="item" data-value="google cloud storage">
                  <span class="text">Integration</span>
                  <span class="ui horizontal label topic category-integration">google cloud storage</span>
                </div>
              
                <div class="item" data-value="action spotting">
                  <span class="text">Task</span>
                  <span class="ui horizontal label topic category-task">action spotting</span>
                </div>
              
                <div class="item" data-value="machine reading comprehension">
                  <span class="text">Task</span>
                  <span class="ui horizontal label topic category-task">machine reading comprehension</span>
                </div>
              
                <div class="item" data-value="scientific document summarization">
                  <span class="text">Task</span>
                  <span class="ui horizontal label topic category-task">scientific document summarization</span>
                </div>
              
                <div class="item" data-value="music modeling">
                  <span class="text">Task</span>
                  <span class="ui horizontal label topic category-task">music modeling</span>
                </div>
              
                <div class="item" data-value="visual object tracking">
                  <span class="text">Task</span>
                  <span class="ui horizontal label topic category-task">visual object tracking</span>
                </div>
              
                <div class="item" data-value="weakly supervised action localization">
                  <span class="text">Task</span>
                  <span class="ui horizontal label topic category-task">weakly supervised action localization</span>
                </div>
              
                <div class="item" data-value="video salient object detection">
                  <span class="text">Task</span>
                  <span class="ui horizontal label topic category-task">video salient object detection</span>
                </div>
              
                <div class="item" data-value="human detection">
                  <span class="text">Task</span>
                  <span class="ui horizontal label topic category-task">human detection</span>
                </div>
              
                <div class="item" data-value="graph representation learning">
                  <span class="text">Task</span>
                  <span class="ui horizontal label topic category-task">graph representation learning</span>
                </div>
              
                <div class="item" data-value="network embedding">
                  <span class="text">Task</span>
                  <span class="ui horizontal label topic category-task">network embedding</span>
                </div>
              
                <div class="item" data-value="3d point cloud classification">
                  <span class="text">Task</span>
                  <span class="ui horizontal label topic category-task">3d point cloud classification</span>
                </div>
              
                <div class="item" data-value="trajectory forecasting">
                  <span class="text">Task</span>
                  <span class="ui horizontal label topic category-task">trajectory forecasting</span>
                </div>
              
                <div class="item" data-value="variational inference">
                  <span class="text">Task</span>
                  <span class="ui horizontal label topic category-task">variational inference</span>
                </div>
              
                <div class="item" data-value="color image denoising">
                  <span class="text">Task</span>
                  <span class="ui horizontal label topic category-task">color image denoising</span>
                </div>
              
                <div class="item" data-value="multimodal activity recognition">
                  <span class="text">Task</span>
                  <span class="ui horizontal label topic category-task">multimodal activity recognition</span>
                </div>
              
                <div class="item" data-value="adversarial attack">
                  <span class="text">Task</span>
                  <span class="ui horizontal label topic category-task">adversarial attack</span>
                </div>
              
                <div class="item" data-value="3d object detection">
                  <span class="text">Task</span>
                  <span class="ui horizontal label topic category-task">3d object detection</span>
                </div>
              
                <div class="item" data-value="chunking">
                  <span class="text">Task</span>
                  <span class="ui horizontal label topic category-task">chunking</span>
                </div>
              
                <div class="item" data-value="deepfake detection">
                  <span class="text">Task</span>
                  <span class="ui horizontal label topic category-task">deepfake detection</span>
                </div>
              
                <div class="item" data-value="rectification">
                  <span class="text">Task</span>
                  <span class="ui horizontal label topic category-task">rectification</span>
                </div>
              
                <div class="item" data-value="head pose estimation">
                  <span class="text">Task</span>
                  <span class="ui horizontal label topic category-task">head pose estimation</span>
                </div>
              
                <div class="item" data-value="genre classification">
                  <span class="text">Task</span>
                  <span class="ui horizontal label topic category-task">genre classification</span>
                </div>
              
                <div class="item" data-value="video captioning">
                  <span class="text">Task</span>
                  <span class="ui horizontal label topic category-task">video captioning</span>
                </div>
              
                <div class="item" data-value="density estimation">
                  <span class="text">Task</span>
                  <span class="ui horizontal label topic category-task">density estimation</span>
                </div>
              
                <div class="item" data-value="knowledge base question answering">
                  <span class="text">Task</span>
                  <span class="ui horizontal label topic category-task">knowledge base question answering</span>
                </div>
              
                <div class="item" data-value="open information extraction">
                  <span class="text">Task</span>
                  <span class="ui horizontal label topic category-task">open information extraction</span>
                </div>
              
                <div class="item" data-value="multi-future trajectory prediction">
                  <span class="text">Task</span>
                  <span class="ui horizontal label topic category-task">multi-future trajectory prediction</span>
                </div>
              
                <div class="item" data-value="slot filling">
                  <span class="text">Task</span>
                  <span class="ui horizontal label topic category-task">slot filling</span>
                </div>
              
                <div class="item" data-value="starcraft">
                  <span class="text">Task</span>
                  <span class="ui horizontal label topic category-task">starcraft</span>
                </div>
              
                <div class="item" data-value="3d instance segmentation">
                  <span class="text">Task</span>
                  <span class="ui horizontal label topic category-task">3d instance segmentation</span>
                </div>
              
                <div class="item" data-value="3d pose estimation using rgbd">
                  <span class="text">Task</span>
                  <span class="ui horizontal label topic category-task">3d pose estimation using rgbd</span>
                </div>
              
                <div class="item" data-value="general reinforcement learning">
                  <span class="text">Task</span>
                  <span class="ui horizontal label topic category-task">general reinforcement learning</span>
                </div>
              
                <div class="item" data-value="visual dialog">
                  <span class="text">Task</span>
                  <span class="ui horizontal label topic category-task">visual dialog</span>
                </div>
              
                <div class="item" data-value="cross-modal retrieval">
                  <span class="text">Task</span>
                  <span class="ui horizontal label topic category-task">cross-modal retrieval</span>
                </div>
              
                <div class="item" data-value="new relic">
                  <span class="text">Integration</span>
                  <span class="ui horizontal label topic category-integration">new relic</span>
                </div>
              
                <div class="item" data-value="audio tagging">
                  <span class="text">Task</span>
                  <span class="ui horizontal label topic category-task">audio tagging</span>
                </div>
              
                <div class="item" data-value="drug discovery">
                  <span class="text">Task</span>
                  <span class="ui horizontal label topic category-task">drug discovery</span>
                </div>
              
                <div class="item" data-value="partial domain adaptation">
                  <span class="text">Task</span>
                  <span class="ui horizontal label topic category-task">partial domain adaptation</span>
                </div>
              
                <div class="item" data-value="fine-grained visual categorization">
                  <span class="text">Task</span>
                  <span class="ui horizontal label topic category-task">fine-grained visual categorization</span>
                </div>
              
                <div class="item" data-value="aspect-based sentiment analysis">
                  <span class="text">Task</span>
                  <span class="ui horizontal label topic category-task">aspect-based sentiment analysis</span>
                </div>
              
                <div class="item" data-value="community question answering">
                  <span class="text">Task</span>
                  <span class="ui horizontal label topic category-task">community question answering</span>
                </div>
              
                <div class="item" data-value="visual localization">
                  <span class="text">Task</span>
                  <span class="ui horizontal label topic category-task">visual localization</span>
                </div>
              
                <div class="item" data-value="continual learning">
                  <span class="text">Task</span>
                  <span class="ui horizontal label topic category-task">continual learning</span>
                </div>
              
                <div class="item" data-value="stereo matching">
                  <span class="text">Task</span>
                  <span class="ui horizontal label topic category-task">stereo matching</span>
                </div>
              
                <div class="item" data-value="code generation">
                  <span class="text">Task</span>
                  <span class="ui horizontal label topic category-task">code generation</span>
                </div>
              
                <div class="item" data-value="topic models">
                  <span class="text">Task</span>
                  <span class="ui horizontal label topic category-task">topic models</span>
                </div>
              
                <div class="item" data-value="face alignment">
                  <span class="text">Task</span>
                  <span class="ui horizontal label topic category-task">face alignment</span>
                </div>
              
                <div class="item" data-value="link prediction">
                  <span class="text">Task</span>
                  <span class="ui horizontal label topic category-task">link prediction</span>
                </div>
              
                <div class="item" data-value="abuse detection">
                  <span class="text">Task</span>
                  <span class="ui horizontal label topic category-task">abuse detection</span>
                </div>
              
                <div class="item" data-value="constituency parsing">
                  <span class="text">Task</span>
                  <span class="ui horizontal label topic category-task">constituency parsing</span>
                </div>
              
                <div class="item" data-value="visual reasoning">
                  <span class="text">Task</span>
                  <span class="ui horizontal label topic category-task">visual reasoning</span>
                </div>
              
                <div class="item" data-value="gaussian processes">
                  <span class="text">Task</span>
                  <span class="ui horizontal label topic category-task">gaussian processes</span>
                </div>
              
                <div class="item" data-value="3d pose estimation using rgb">
                  <span class="text">Task</span>
                  <span class="ui horizontal label topic category-task">3d pose estimation using rgb</span>
                </div>
              
                <div class="item" data-value="dialogue understanding">
                  <span class="text">Task</span>
                  <span class="ui horizontal label topic category-task">dialogue understanding</span>
                </div>
              
                <div class="item" data-value="tokenization">
                  <span class="text">Task</span>
                  <span class="ui horizontal label topic category-task">tokenization</span>
                </div>
              
                <div class="item" data-value="gaze estimation">
                  <span class="text">Task</span>
                  <span class="ui horizontal label topic category-task">gaze estimation</span>
                </div>
              
                <div class="item" data-value="lane detection">
                  <span class="text">Task</span>
                  <span class="ui horizontal label topic category-task">lane detection</span>
                </div>
              
                <div class="item" data-value="semantic parsing">
                  <span class="text">Task</span>
                  <span class="ui horizontal label topic category-task">semantic parsing</span>
                </div>
              
                <div class="item" data-value="scene text recognition">
                  <span class="text">Task</span>
                  <span class="ui horizontal label topic category-task">scene text recognition</span>
                </div>
              
                <div class="item" data-value="point cloud registration">
                  <span class="text">Task</span>
                  <span class="ui horizontal label topic category-task">point cloud registration</span>
                </div>
              
                <div class="item" data-value="time series analysis">
                  <span class="text">Task</span>
                  <span class="ui horizontal label topic category-task">time series analysis</span>
                </div>
              
                <div class="item" data-value="music source separation">
                  <span class="text">Task</span>
                  <span class="ui horizontal label topic category-task">music source separation</span>
                </div>
              
                <div class="item" data-value="online multi-object tracking">
                  <span class="text">Task</span>
                  <span class="ui horizontal label topic category-task">online multi-object tracking</span>
                </div>
              
                <div class="item" data-value="click-through rate prediction">
                  <span class="text">Task</span>
                  <span class="ui horizontal label topic category-task">click-through rate prediction</span>
                </div>
              
                <div class="item" data-value="spoken language understanding">
                  <span class="text">Task</span>
                  <span class="ui horizontal label topic category-task">spoken language understanding</span>
                </div>
              
                <div class="item" data-value="chinese reading comprehension">
                  <span class="text">Task</span>
                  <span class="ui horizontal label topic category-task">chinese reading comprehension</span>
                </div>
              
                <div class="item" data-value="emotion recognition in conversation">
                  <span class="text">Task</span>
                  <span class="ui horizontal label topic category-task">emotion recognition in conversation</span>
                </div>
              
                <div class="item" data-value="tumor segmentation">
                  <span class="text">Task</span>
                  <span class="ui horizontal label topic category-task">tumor segmentation</span>
                </div>
              
                <div class="item" data-value="visual place recognition">
                  <span class="text">Task</span>
                  <span class="ui horizontal label topic category-task">visual place recognition</span>
                </div>
              
                <div class="item" data-value="saliency prediction">
                  <span class="text">Task</span>
                  <span class="ui horizontal label topic category-task">saliency prediction</span>
                </div>
              
                <div class="item" data-value="image stitching">
                  <span class="text">Task</span>
                  <span class="ui horizontal label topic category-task">image stitching</span>
                </div>
              
                <div class="item" data-value="3d absolute human pose estimation">
                  <span class="text">Task</span>
                  <span class="ui horizontal label topic category-task">3d absolute human pose estimation</span>
                </div>
              
                <div class="item" data-value="sarcasm detection">
                  <span class="text">Task</span>
                  <span class="ui horizontal label topic category-task">sarcasm detection</span>
                </div>
              
                <div class="item" data-value="structure from motion">
                  <span class="text">Task</span>
                  <span class="ui horizontal label topic category-task">structure from motion</span>
                </div>
              
                <div class="item" data-value="decision making">
                  <span class="text">Task</span>
                  <span class="ui horizontal label topic category-task">decision making</span>
                </div>
              
                <div class="item" data-value="sentence classification">
                  <span class="text">Task</span>
                  <span class="ui horizontal label topic category-task">sentence classification</span>
                </div>
              
                <div class="item" data-value="face swapping">
                  <span class="text">Task</span>
                  <span class="ui horizontal label topic category-task">face swapping</span>
                </div>
              
                <div class="item" data-value="hand gesture recognition">
                  <span class="text">Task</span>
                  <span class="ui horizontal label topic category-task">hand gesture recognition</span>
                </div>
              
                <div class="item" data-value="3d human reconstruction">
                  <span class="text">Task</span>
                  <span class="ui horizontal label topic category-task">3d human reconstruction</span>
                </div>
              
                <div class="item" data-value="imitation learning">
                  <span class="text">Task</span>
                  <span class="ui horizontal label topic category-task">imitation learning</span>
                </div>
              
                <div class="item" data-value="super-resolution">
                  <span class="text">Task</span>
                  <span class="ui horizontal label topic category-task">super-resolution</span>
                </div>
              
                <div class="item" data-value="conversational response selection">
                  <span class="text">Task</span>
                  <span class="ui horizontal label topic category-task">conversational response selection</span>
                </div>
              
                <div class="item" data-value="boundary detection">
                  <span class="text">Task</span>
                  <span class="ui horizontal label topic category-task">boundary detection</span>
                </div>
              
                <div class="item" data-value="core set discovery">
                  <span class="text">Task</span>
                  <span class="ui horizontal label topic category-task">core set discovery</span>
                </div>
              
                <div class="item" data-value="document layout analysis">
                  <span class="text">Task</span>
                  <span class="ui horizontal label topic category-task">document layout analysis</span>
                </div>
              
                <div class="item" data-value="node classification">
                  <span class="text">Task</span>
                  <span class="ui horizontal label topic category-task">node classification</span>
                </div>
              
                <div class="item" data-value="abstractive text summarization">
                  <span class="text">Task</span>
                  <span class="ui horizontal label topic category-task">abstractive text summarization</span>
                </div>
              
                <div class="item" data-value="point cloud">
                  <span class="text">Data Domain</span>
                  <span class="ui horizontal label topic category-data_domain">point cloud</span>
                </div>
              
                <div class="item" data-value="classification with binary neural network">
                  <span class="text">Task</span>
                  <span class="ui horizontal label topic category-task">classification with binary neural network</span>
                </div>
              
                <div class="item" data-value="task-oriented dialogue systems">
                  <span class="text">Task</span>
                  <span class="ui horizontal label topic category-task">task-oriented dialogue systems</span>
                </div>
              
                <div class="item" data-value="egocentric activity recognition">
                  <span class="text">Task</span>
                  <span class="ui horizontal label topic category-task">egocentric activity recognition</span>
                </div>
              
                <div class="item" data-value="keypoint detection">
                  <span class="text">Task</span>
                  <span class="ui horizontal label topic category-task">keypoint detection</span>
                </div>
              
                <div class="item" data-value="robust object detection">
                  <span class="text">Task</span>
                  <span class="ui horizontal label topic category-task">robust object detection</span>
                </div>
              
                <div class="item" data-value="video summarization">
                  <span class="text">Task</span>
                  <span class="ui horizontal label topic category-task">video summarization</span>
                </div>
              
                <div class="item" data-value="region proposal">
                  <span class="text">Task</span>
                  <span class="ui horizontal label topic category-task">region proposal</span>
                </div>
              
                <div class="item" data-value="learning-to-rank">
                  <span class="text">Task</span>
                  <span class="ui horizontal label topic category-task">learning-to-rank</span>
                </div>
              
                <div class="item" data-value="product recommendation">
                  <span class="text">Task</span>
                  <span class="ui horizontal label topic category-task">product recommendation</span>
                </div>
              
                <div class="item" data-value="audio generation">
                  <span class="text">Task</span>
                  <span class="ui horizontal label topic category-task">audio generation</span>
                </div>
              
                <div class="item" data-value="relation classification">
                  <span class="text">Task</span>
                  <span class="ui horizontal label topic category-task">relation classification</span>
                </div>
              
                <div class="item" data-value="spacy">
                  <span class="text">Framework</span>
                  <span class="ui horizontal label topic category-framework">spacy</span>
                </div>
              
                <div class="item" data-value="rgb-d salient object detection">
                  <span class="text">Task</span>
                  <span class="ui horizontal label topic category-task">rgb-d salient object detection</span>
                </div>
              
                <div class="item" data-value="action quality assessment">
                  <span class="text">Task</span>
                  <span class="ui horizontal label topic category-task">action quality assessment</span>
                </div>
              
                <div class="item" data-value="unsupervised video object segmentation">
                  <span class="text">Task</span>
                  <span class="ui horizontal label topic category-task">unsupervised video object segmentation</span>
                </div>
              
                <div class="item" data-value="sound event detection">
                  <span class="text">Task</span>
                  <span class="ui horizontal label topic category-task">sound event detection</span>
                </div>
              
                <div class="item" data-value="source code summarization">
                  <span class="text">Task</span>
                  <span class="ui horizontal label topic category-task">source code summarization</span>
                </div>
              
                <div class="item" data-value="3d object recognition">
                  <span class="text">Task</span>
                  <span class="ui horizontal label topic category-task">3d object recognition</span>
                </div>
              
                <div class="item" data-value="speech separation">
                  <span class="text">Task</span>
                  <span class="ui horizontal label topic category-task">speech separation</span>
                </div>
              
                <div class="item" data-value="curriculum learning">
                  <span class="text">Task</span>
                  <span class="ui horizontal label topic category-task">curriculum learning</span>
                </div>
              
                <div class="item" data-value="3d object tracking">
                  <span class="text">Task</span>
                  <span class="ui horizontal label topic category-task">3d object tracking</span>
                </div>
              
                <div class="item" data-value="entity linking">
                  <span class="text">Task</span>
                  <span class="ui horizontal label topic category-task">entity linking</span>
                </div>
              
                <div class="item" data-value="audio source separation">
                  <span class="text">Task</span>
                  <span class="ui horizontal label topic category-task">audio source separation</span>
                </div>
              
                <div class="item" data-value="abnormal event detection in video">
                  <span class="text">Task</span>
                  <span class="ui horizontal label topic category-task">abnormal event detection in video</span>
                </div>
              
                <div class="item" data-value="object localization">
                  <span class="text">Task</span>
                  <span class="ui horizontal label topic category-task">object localization</span>
                </div>
              
                <div class="item" data-value="fairness">
                  <span class="text">Task</span>
                  <span class="ui horizontal label topic category-task">fairness</span>
                </div>
              
                <div class="item" data-value="scene flow estimation">
                  <span class="text">Task</span>
                  <span class="ui horizontal label topic category-task">scene flow estimation</span>
                </div>
              
                <div class="item" data-value="image cropping">
                  <span class="text">Task</span>
                  <span class="ui horizontal label topic category-task">image cropping</span>
                </div>
              
                <div class="item" data-value="video inpainting">
                  <span class="text">Task</span>
                  <span class="ui horizontal label topic category-task">video inpainting</span>
                </div>
              
                <div class="item" data-value="multimodal unsupervised image-to-image translation">
                  <span class="text">Task</span>
                  <span class="ui horizontal label topic category-task">multimodal unsupervised image-to-image translation</span>
                </div>
              
                <div class="item" data-value="multi-person pose estimation">
                  <span class="text">Task</span>
                  <span class="ui horizontal label topic category-task">multi-person pose estimation</span>
                </div>
              
                <div class="item" data-value="scene understanding">
                  <span class="text">Task</span>
                  <span class="ui horizontal label topic category-task">scene understanding</span>
                </div>
              
                <div class="item" data-value="graph embedding">
                  <span class="text">Task</span>
                  <span class="ui horizontal label topic category-task">graph embedding</span>
                </div>
              
                <div class="item" data-value="panoptic segmentation">
                  <span class="text">Task</span>
                  <span class="ui horizontal label topic category-task">panoptic segmentation</span>
                </div>
              
                <div class="item" data-value="optical flow estimation">
                  <span class="text">Task</span>
                  <span class="ui horizontal label topic category-task">optical flow estimation</span>
                </div>
              
                <div class="item" data-value="content-based image retrieval">
                  <span class="text">Task</span>
                  <span class="ui horizontal label topic category-task">content-based image retrieval</span>
                </div>
              
                <div class="item" data-value="monocular depth estimation">
                  <span class="text">Task</span>
                  <span class="ui horizontal label topic category-task">monocular depth estimation</span>
                </div>
              
                <div class="item" data-value="lipreading">
                  <span class="text">Task</span>
                  <span class="ui horizontal label topic category-task">lipreading</span>
                </div>
              
                <div class="item" data-value="multiple object tracking">
                  <span class="text">Task</span>
                  <span class="ui horizontal label topic category-task">multiple object tracking</span>
                </div>
              
                <div class="item" data-value="entity typing">
                  <span class="text">Task</span>
                  <span class="ui horizontal label topic category-task">entity typing</span>
                </div>
              
                <div class="item" data-value="temporal action localization">
                  <span class="text">Task</span>
                  <span class="ui horizontal label topic category-task">temporal action localization</span>
                </div>
              
                <div class="item" data-value="colorectal polyps characterization">
                  <span class="text">Task</span>
                  <span class="ui horizontal label topic category-task">colorectal polyps characterization</span>
                </div>
              
                <div class="item" data-value="outlier detection">
                  <span class="text">Task</span>
                  <span class="ui horizontal label topic category-task">outlier detection</span>
                </div>
              
                <div class="item" data-value="human robot interaction">
                  <span class="text">Task</span>
                  <span class="ui horizontal label topic category-task">human robot interaction</span>
                </div>
              
                <div class="item" data-value="document classification">
                  <span class="text">Task</span>
                  <span class="ui horizontal label topic category-task">document classification</span>
                </div>
              
                <div class="item" data-value="dense video captioning">
                  <span class="text">Task</span>
                  <span class="ui horizontal label topic category-task">dense video captioning</span>
                </div>
              
                <div class="item" data-value="facial landmark detection">
                  <span class="text">Task</span>
                  <span class="ui horizontal label topic category-task">facial landmark detection</span>
                </div>
              
                <div class="item" data-value="abusive language">
                  <span class="text">Task</span>
                  <span class="ui horizontal label topic category-task">abusive language</span>
                </div>
              
                <div class="item" data-value="table-to-text generation">
                  <span class="text">Task</span>
                  <span class="ui horizontal label topic category-task">table-to-text generation</span>
                </div>
              
                <div class="item" data-value="chinese named entity recognition">
                  <span class="text">Task</span>
                  <span class="ui horizontal label topic category-task">chinese named entity recognition</span>
                </div>
              
                <div class="item" data-value="continuous control">
                  <span class="text">Task</span>
                  <span class="ui horizontal label topic category-task">continuous control</span>
                </div>
              
                <div class="item" data-value="multimodal machine translation">
                  <span class="text">Task</span>
                  <span class="ui horizontal label topic category-task">multimodal machine translation</span>
                </div>
              
                <div class="item" data-value="3d action recognition">
                  <span class="text">Task</span>
                  <span class="ui horizontal label topic category-task">3d action recognition</span>
                </div>
              
                <div class="item" data-value="action anticipation">
                  <span class="text">Task</span>
                  <span class="ui horizontal label topic category-task">action anticipation</span>
                </div>
              
                <div class="item" data-value="lexical entailment">
                  <span class="text">Task</span>
                  <span class="ui horizontal label topic category-task">lexical entailment</span>
                </div>
              
                <div class="item" data-value="image/document clustering">
                  <span class="text">Task</span>
                  <span class="ui horizontal label topic category-task">image/document clustering</span>
                </div>
              
                <div class="item" data-value="patch matching">
                  <span class="text">Task</span>
                  <span class="ui horizontal label topic category-task">patch matching</span>
                </div>
              
                <div class="item" data-value="bias detection">
                  <span class="text">Task</span>
                  <span class="ui horizontal label topic category-task">bias detection</span>
                </div>
              
                <div class="item" data-value="activity detection">
                  <span class="text">Task</span>
                  <span class="ui horizontal label topic category-task">activity detection</span>
                </div>
              
                <div class="item" data-value="image clustering">
                  <span class="text">Task</span>
                  <span class="ui horizontal label topic category-task">image clustering</span>
                </div>
              
                <div class="item" data-value="grasp contact prediction">
                  <span class="text">Task</span>
                  <span class="ui horizontal label topic category-task">grasp contact prediction</span>
                </div>
              
                <div class="item" data-value="stance detection">
                  <span class="text">Task</span>
                  <span class="ui horizontal label topic category-task">stance detection</span>
                </div>
              
                <div class="item" data-value="automatic post-editing">
                  <span class="text">Task</span>
                  <span class="ui horizontal label topic category-task">automatic post-editing</span>
                </div>
              
                <div class="item" data-value="dictionary learning">
                  <span class="text">Task</span>
                  <span class="ui horizontal label topic category-task">dictionary learning</span>
                </div>
              
                <div class="item" data-value="motion prediction">
                  <span class="text">Task</span>
                  <span class="ui horizontal label topic category-task">motion prediction</span>
                </div>
              
                <div class="item" data-value="remote sensing image classification">
                  <span class="text">Task</span>
                  <span class="ui horizontal label topic category-task">remote sensing image classification</span>
                </div>
              
                <div class="item" data-value="small data image classification">
                  <span class="text">Task</span>
                  <span class="ui horizontal label topic category-task">small data image classification</span>
                </div>
              
                <div class="item" data-value="face presentation attack detection">
                  <span class="text">Task</span>
                  <span class="ui horizontal label topic category-task">face presentation attack detection</span>
                </div>
              
                <div class="item" data-value="video understanding">
                  <span class="text">Task</span>
                  <span class="ui horizontal label topic category-task">video understanding</span>
                </div>
              
                <div class="item" data-value="brain tumor segmentation">
                  <span class="text">Task</span>
                  <span class="ui horizontal label topic category-task">brain tumor segmentation</span>
                </div>
              
                <div class="item" data-value="3d face animation">
                  <span class="text">Task</span>
                  <span class="ui horizontal label topic category-task">3d face animation</span>
                </div>
              
                <div class="item" data-value="dimensionality reduction">
                  <span class="text">Task</span>
                  <span class="ui horizontal label topic category-task">dimensionality reduction</span>
                </div>
              
                <div class="item" data-value="word sense disambiguation">
                  <span class="text">Task</span>
                  <span class="ui horizontal label topic category-task">word sense disambiguation</span>
                </div>
              
                <div class="item" data-value="answer selection">
                  <span class="text">Task</span>
                  <span class="ui horizontal label topic category-task">answer selection</span>
                </div>
              
                <div class="item" data-value="binarization">
                  <span class="text">Task</span>
                  <span class="ui horizontal label topic category-task">binarization</span>
                </div>
              
                <div class="item" data-value="unsupervised object segmentation">
                  <span class="text">Task</span>
                  <span class="ui horizontal label topic category-task">unsupervised object segmentation</span>
                </div>
              
                <div class="item" data-value="image matting">
                  <span class="text">Task</span>
                  <span class="ui horizontal label topic category-task">image matting</span>
                </div>
              
                <div class="item" data-value="classification with binary weight network">
                  <span class="text">Task</span>
                  <span class="ui horizontal label topic category-task">classification with binary weight network</span>
                </div>
              
                <div class="item" data-value="pycaret">
                  <span class="text">Framework</span>
                  <span class="ui horizontal label topic category-framework">pycaret</span>
                </div>
              
                <div class="item" data-value="one-shot learning">
                  <span class="text">Task</span>
                  <span class="ui horizontal label topic category-task">one-shot learning</span>
                </div>
              
                <div class="item" data-value="clustering algorithms evaluation">
                  <span class="text">Task</span>
                  <span class="ui horizontal label topic category-task">clustering algorithms evaluation</span>
                </div>
              
                <div class="item" data-value="text summarization">
                  <span class="text">Task</span>
                  <span class="ui horizontal label topic category-task">text summarization</span>
                </div>
              
                <div class="item" data-value="deblurring">
                  <span class="text">Task</span>
                  <span class="ui horizontal label topic category-task">deblurring</span>
                </div>
              
                <div class="item" data-value="video frame interpolation">
                  <span class="text">Task</span>
                  <span class="ui horizontal label topic category-task">video frame interpolation</span>
                </div>
              
                <div class="item" data-value="automated theorem proving">
                  <span class="text">Task</span>
                  <span class="ui horizontal label topic category-task">automated theorem proving</span>
                </div>
              
                <div class="item" data-value="chatbot">
                  <span class="text">Task</span>
                  <span class="ui horizontal label topic category-task">chatbot</span>
                </div>
              
                <div class="item" data-value="human action generation">
                  <span class="text">Task</span>
                  <span class="ui horizontal label topic category-task">human action generation</span>
                </div>
              
                <div class="item" data-value="retinal vessel segmentation">
                  <span class="text">Task</span>
                  <span class="ui horizontal label topic category-task">retinal vessel segmentation</span>
                </div>
              
                <div class="item" data-value="emotion recognition">
                  <span class="text">Task</span>
                  <span class="ui horizontal label topic category-task">emotion recognition</span>
                </div>
              
                <div class="item" data-value="scene text">
                  <span class="text">Task</span>
                  <span class="ui horizontal label topic category-task">scene text</span>
                </div>
              
                <div class="item" data-value="action detection">
                  <span class="text">Task</span>
                  <span class="ui horizontal label topic category-task">action detection</span>
                </div>
              
                <div class="item" data-value="cross-lingual transfer">
                  <span class="text">Task</span>
                  <span class="ui horizontal label topic category-task">cross-lingual transfer</span>
                </div>
              
                <div class="item" data-value="feature selection">
                  <span class="text">Task</span>
                  <span class="ui horizontal label topic category-task">feature selection</span>
                </div>
              
                <div class="item" data-value="3d multi-person pose estimation">
                  <span class="text">Task</span>
                  <span class="ui horizontal label topic category-task">3d multi-person pose estimation</span>
                </div>
              
                <div class="item" data-value="music generation">
                  <span class="text">Task</span>
                  <span class="ui horizontal label topic category-task">music generation</span>
                </div>
              
                <div class="item" data-value="misinformation">
                  <span class="text">Task</span>
                  <span class="ui horizontal label topic category-task">misinformation</span>
                </div>
              
                <div class="item" data-value="adversarial defense">
                  <span class="text">Task</span>
                  <span class="ui horizontal label topic category-task">adversarial defense</span>
                </div>
              
                <div class="item" data-value="depression detection">
                  <span class="text">Task</span>
                  <span class="ui horizontal label topic category-task">depression detection</span>
                </div>
              
                <div class="item" data-value="event-based vision">
                  <span class="text">Task</span>
                  <span class="ui horizontal label topic category-task">event-based vision</span>
                </div>
              
                <div class="item" data-value="image compression">
                  <span class="text">Task</span>
                  <span class="ui horizontal label topic category-task">image compression</span>
                </div>
              
                <div class="item" data-value="natural language inference">
                  <span class="text">Task</span>
                  <span class="ui horizontal label topic category-task">natural language inference</span>
                </div>
              
                <div class="item" data-value="motion capture">
                  <span class="text">Task</span>
                  <span class="ui horizontal label topic category-task">motion capture</span>
                </div>
              
                <div class="item" data-value="scientific results extraction">
                  <span class="text">Task</span>
                  <span class="ui horizontal label topic category-task">scientific results extraction</span>
                </div>
              
                <div class="item" data-value="multi-label classification">
                  <span class="text">Task</span>
                  <span class="ui horizontal label topic category-task">multi-label classification</span>
                </div>
              
                <div class="item" data-value="fact verification">
                  <span class="text">Task</span>
                  <span class="ui horizontal label topic category-task">fact verification</span>
                </div>
              
                <div class="item" data-value="scene text detection">
                  <span class="text">Task</span>
                  <span class="ui horizontal label topic category-task">scene text detection</span>
                </div>
              
                <div class="item" data-value="computed tomography (ct)">
                  <span class="text">Task</span>
                  <span class="ui horizontal label topic category-task">computed tomography (ct)</span>
                </div>
              
                <div class="item" data-value="human part segmentation">
                  <span class="text">Task</span>
                  <span class="ui horizontal label topic category-task">human part segmentation</span>
                </div>
              
                <div class="item" data-value="video super-resolution">
                  <span class="text">Task</span>
                  <span class="ui horizontal label topic category-task">video super-resolution</span>
                </div>
              
                <div class="item" data-value="homography estimation">
                  <span class="text">Task</span>
                  <span class="ui horizontal label topic category-task">homography estimation</span>
                </div>
              
                <div class="item" data-value="change point detection">
                  <span class="text">Task</span>
                  <span class="ui horizontal label topic category-task">change point detection</span>
                </div>
              
                <div class="item" data-value="image denoising">
                  <span class="text">Task</span>
                  <span class="ui horizontal label topic category-task">image denoising</span>
                </div>
              
                <div class="item" data-value="offline rl">
                  <span class="text">Task</span>
                  <span class="ui horizontal label topic category-task">offline rl</span>
                </div>
              
                <div class="item" data-value="graph generation">
                  <span class="text">Task</span>
                  <span class="ui horizontal label topic category-task">graph generation</span>
                </div>
              
                <div class="item" data-value="video generation">
                  <span class="text">Task</span>
                  <span class="ui horizontal label topic category-task">video generation</span>
                </div>
              
                <div class="item" data-value="3d pose estimation">
                  <span class="text">Task</span>
                  <span class="ui horizontal label topic category-task">3d pose estimation</span>
                </div>
              
                <div class="item" data-value="video object detection">
                  <span class="text">Task</span>
                  <span class="ui horizontal label topic category-task">video object detection</span>
                </div>
              
                <div class="item" data-value="paraphrase identification">
                  <span class="text">Task</span>
                  <span class="ui horizontal label topic category-task">paraphrase identification</span>
                </div>
              
                <div class="item" data-value="goal-oriented dialog">
                  <span class="text">Task</span>
                  <span class="ui horizontal label topic category-task">goal-oriented dialog</span>
                </div>
              
                <div class="item" data-value="handwriting recognition">
                  <span class="text">Task</span>
                  <span class="ui horizontal label topic category-task">handwriting recognition</span>
                </div>
              
                <div class="item" data-value="referring expression segmentation">
                  <span class="text">Task</span>
                  <span class="ui horizontal label topic category-task">referring expression segmentation</span>
                </div>
              
                <div class="item" data-value="morphological analysis">
                  <span class="text">Task</span>
                  <span class="ui horizontal label topic category-task">morphological analysis</span>
                </div>
              
                <div class="item" data-value="gesture recognition">
                  <span class="text">Task</span>
                  <span class="ui horizontal label topic category-task">gesture recognition</span>
                </div>
              
                <div class="item" data-value="person search">
                  <span class="text">Task</span>
                  <span class="ui horizontal label topic category-task">person search</span>
                </div>
              
                <div class="item" data-value="disparity estimation">
                  <span class="text">Task</span>
                  <span class="ui horizontal label topic category-task">disparity estimation</span>
                </div>
              
                <div class="item" data-value="neural architecture search">
                  <span class="text">Task</span>
                  <span class="ui horizontal label topic category-task">neural architecture search</span>
                </div>
              
                <div class="item" data-value="semi-supervised image classification">
                  <span class="text">Task</span>
                  <span class="ui horizontal label topic category-task">semi-supervised image classification</span>
                </div>
              
                <div class="item" data-value="hyperspectral image classification">
                  <span class="text">Task</span>
                  <span class="ui horizontal label topic category-task">hyperspectral image classification</span>
                </div>
              
                <div class="item" data-value="sketch-based image retrieval">
                  <span class="text">Task</span>
                  <span class="ui horizontal label topic category-task">sketch-based image retrieval</span>
                </div>
              
                <div class="item" data-value="imputation">
                  <span class="text">Task</span>
                  <span class="ui horizontal label topic category-task">imputation</span>
                </div>
              
                <div class="item" data-value="text matching">
                  <span class="text">Task</span>
                  <span class="ui horizontal label topic category-task">text matching</span>
                </div>
              
                <div class="item" data-value="semantic similarity">
                  <span class="text">Task</span>
                  <span class="ui horizontal label topic category-task">semantic similarity</span>
                </div>
              
                <div class="item" data-value="relational reasoning">
                  <span class="text">Task</span>
                  <span class="ui horizontal label topic category-task">relational reasoning</span>
                </div>
              
                <div class="item" data-value="multimodal sentiment analysis">
                  <span class="text">Task</span>
                  <span class="ui horizontal label topic category-task">multimodal sentiment analysis</span>
                </div>
              
                <div class="item" data-value="clique prediction">
                  <span class="text">Task</span>
                  <span class="ui horizontal label topic category-task">clique prediction</span>
                </div>
              
                <div class="item" data-value="graph regression">
                  <span class="text">Task</span>
                  <span class="ui horizontal label topic category-task">graph regression</span>
                </div>
              
                <div class="item" data-value="weakly supervised object detection">
                  <span class="text">Task</span>
                  <span class="ui horizontal label topic category-task">weakly supervised object detection</span>
                </div>
              
                <div class="item" data-value="image restoration">
                  <span class="text">Task</span>
                  <span class="ui horizontal label topic category-task">image restoration</span>
                </div>
              
                <div class="item" data-value="video segmentation">
                  <span class="text">Task</span>
                  <span class="ui horizontal label topic category-task">video segmentation</span>
                </div>
              
                <div class="item" data-value="scene segmentation">
                  <span class="text">Task</span>
                  <span class="ui horizontal label topic category-task">scene segmentation</span>
                </div>
              
                <div class="item" data-value="vision-language navigation">
                  <span class="text">Task</span>
                  <span class="ui horizontal label topic category-task">vision-language navigation</span>
                </div>
              
                <div class="item" data-value="dialogue state tracking">
                  <span class="text">Task</span>
                  <span class="ui horizontal label topic category-task">dialogue state tracking</span>
                </div>
              
                <div class="item" data-value="language identification">
                  <span class="text">Task</span>
                  <span class="ui horizontal label topic category-task">language identification</span>
                </div>
              
                <div class="item" data-value="stereo matching hand">
                  <span class="text">Task</span>
                  <span class="ui horizontal label topic category-task">stereo matching hand</span>
                </div>
              
                <div class="item" data-value="probabilistic deep learning">
                  <span class="text">Task</span>
                  <span class="ui horizontal label topic category-task">probabilistic deep learning</span>
                </div>
              
                <div class="item" data-value="line segment detection">
                  <span class="text">Task</span>
                  <span class="ui horizontal label topic category-task">line segment detection</span>
                </div>
              
                <div class="item" data-value="generalized zero-shot learning">
                  <span class="text">Task</span>
                  <span class="ui horizontal label topic category-task">generalized zero-shot learning</span>
                </div>
              
                <div class="item" data-value="network intrusion detection">
                  <span class="text">Task</span>
                  <span class="ui horizontal label topic category-task">network intrusion detection</span>
                </div>
              
                <div class="item" data-value="age estimation">
                  <span class="text">Task</span>
                  <span class="ui horizontal label topic category-task">age estimation</span>
                </div>
              
                <div class="item" data-value="fake news detection">
                  <span class="text">Task</span>
                  <span class="ui horizontal label topic category-task">fake news detection</span>
                </div>
              
                <div class="item" data-value="person re-identification">
                  <span class="text">Task</span>
                  <span class="ui horizontal label topic category-task">person re-identification</span>
                </div>
              
                <div class="item" data-value="multi-task learning">
                  <span class="text">Task</span>
                  <span class="ui horizontal label topic category-task">multi-task learning</span>
                </div>
              
                <div class="item" data-value="video semantic segmentation">
                  <span class="text">Task</span>
                  <span class="ui horizontal label topic category-task">video semantic segmentation</span>
                </div>
              
                <div class="item" data-value="aesthetics quality assessment">
                  <span class="text">Task</span>
                  <span class="ui horizontal label topic category-task">aesthetics quality assessment</span>
                </div>
              
                <div class="item" data-value="knowledge graphs">
                  <span class="text">Task</span>
                  <span class="ui horizontal label topic category-task">knowledge graphs</span>
                </div>
              
                <div class="item" data-value="human-object interaction detection">
                  <span class="text">Task</span>
                  <span class="ui horizontal label topic category-task">human-object interaction detection</span>
                </div>
              
                <div class="item" data-value="multivariate time series forecasting">
                  <span class="text">Task</span>
                  <span class="ui horizontal label topic category-task">multivariate time series forecasting</span>
                </div>
              
                <div class="item" data-value="sentence embedding">
                  <span class="text">Task</span>
                  <span class="ui horizontal label topic category-task">sentence embedding</span>
                </div>
              
                <div class="item" data-value="anomaly detection in surveillance videos">
                  <span class="text">Task</span>
                  <span class="ui horizontal label topic category-task">anomaly detection in surveillance videos</span>
                </div>
              
                <div class="item" data-value="3d reconstruction">
                  <span class="text">Task</span>
                  <span class="ui horizontal label topic category-task">3d reconstruction</span>
                </div>
              
                <div class="item" data-value="incremental learning">
                  <span class="text">Task</span>
                  <span class="ui horizontal label topic category-task">incremental learning</span>
                </div>
              
                <div class="item" data-value="cross-view image-to-image translation">
                  <span class="text">Task</span>
                  <span class="ui horizontal label topic category-task">cross-view image-to-image translation</span>
                </div>
              
                <div class="item" data-value="causal inference">
                  <span class="text">Task</span>
                  <span class="ui horizontal label topic category-task">causal inference</span>
                </div>
              
                <div class="item" data-value="novel view synthesis">
                  <span class="text">Task</span>
                  <span class="ui horizontal label topic category-task">novel view synthesis</span>
                </div>
              
                <div class="item" data-value="kg-to-text generation">
                  <span class="text">Task</span>
                  <span class="ui horizontal label topic category-task">kg-to-text generation</span>
                </div>
              
                <div class="item" data-value="image quality assessment">
                  <span class="text">Task</span>
                  <span class="ui horizontal label topic category-task">image quality assessment</span>
                </div>
              
                <div class="item" data-value="intent detection">
                  <span class="text">Task</span>
                  <span class="ui horizontal label topic category-task">intent detection</span>
                </div>
              
                <div class="item" data-value="quantization">
                  <span class="text">Task</span>
                  <span class="ui horizontal label topic category-task">quantization</span>
                </div>
              
                <div class="item" data-value="rgb salient object detection">
                  <span class="text">Task</span>
                  <span class="ui horizontal label topic category-task">rgb salient object detection</span>
                </div>
              
                <div class="item" data-value="pedestrian detection">
                  <span class="text">Task</span>
                  <span class="ui horizontal label topic category-task">pedestrian detection</span>
                </div>
              
                <div class="item" data-value="compressive sensing">
                  <span class="text">Task</span>
                  <span class="ui horizontal label topic category-task">compressive sensing</span>
                </div>
              
                <div class="item" data-value="crowd counting">
                  <span class="text">Task</span>
                  <span class="ui horizontal label topic category-task">crowd counting</span>
                </div>
              
                <div class="item" data-value="open-domain question answering">
                  <span class="text">Task</span>
                  <span class="ui horizontal label topic category-task">open-domain question answering</span>
                </div>
              
                <div class="item" data-value="object tracking">
                  <span class="text">Task</span>
                  <span class="ui horizontal label topic category-task">object tracking</span>
                </div>
              
                <div class="item" data-value="action localization">
                  <span class="text">Task</span>
                  <span class="ui horizontal label topic category-task">action localization</span>
                </div>
              
                <div class="item" data-value="latent variable models">
                  <span class="text">Task</span>
                  <span class="ui horizontal label topic category-task">latent variable models</span>
                </div>
              
                <div class="item" data-value="hand segmentation">
                  <span class="text">Task</span>
                  <span class="ui horizontal label topic category-task">hand segmentation</span>
                </div>
              
                <div class="item" data-value="newreposistory for to learning - how dagshub works">
                  <span class="text">General</span>
                  <span class="ui horizontal label topic category-general">newreposistory for to learning - how dagshub works</span>
                </div>
              
                <div class="item" data-value="multi-object tracking">
                  <span class="text">Task</span>
                  <span class="ui horizontal label topic category-task">multi-object tracking</span>
                </div>
              
                <div class="item" data-value="acoustic scene classification">
                  <span class="text">Task</span>
                  <span class="ui horizontal label topic category-task">acoustic scene classification</span>
                </div>
              
                <div class="item" data-value="self-supervised action recognition">
                  <span class="text">Task</span>
                  <span class="ui horizontal label topic category-task">self-supervised action recognition</span>
                </div>
              
                <div class="item" data-value="passage retrieval">
                  <span class="text">Task</span>
                  <span class="ui horizontal label topic category-task">passage retrieval</span>
                </div>
              
                <div class="item" data-value="mathematical question answering">
                  <span class="text">Task</span>
                  <span class="ui horizontal label topic category-task">mathematical question answering</span>
                </div>
              
                <div class="item" data-value="multiple instance learning">
                  <span class="text">Task</span>
                  <span class="ui horizontal label topic category-task">multiple instance learning</span>
                </div>
              
                <div class="item" data-value="matrix completion">
                  <span class="text">Task</span>
                  <span class="ui horizontal label topic category-task">matrix completion</span>
                </div>
              
                <div class="item" data-value="3d hand pose estimation">
                  <span class="text">Task</span>
                  <span class="ui horizontal label topic category-task">3d hand pose estimation</span>
                </div>
              
                <div class="item" data-value="unsupervised facial landmark detection">
                  <span class="text">Task</span>
                  <span class="ui horizontal label topic category-task">unsupervised facial landmark detection</span>
                </div>
              
                <div class="item" data-value="scene graph detection">
                  <span class="text">Task</span>
                  <span class="ui horizontal label topic category-task">scene graph detection</span>
                </div>
              
                <div class="item" data-value="color constancy">
                  <span class="text">Task</span>
                  <span class="ui horizontal label topic category-task">color constancy</span>
                </div>
              
                <div class="item" data-value="instance segmentation">
                  <span class="text">Task</span>
                  <span class="ui horizontal label topic category-task">instance segmentation</span>
                </div>
              
                <div class="item" data-value="out-of-distribution detection">
                  <span class="text">Task</span>
                  <span class="ui horizontal label topic category-task">out-of-distribution detection</span>
                </div>
              
                <div class="item" data-value="action unit detection">
                  <span class="text">Task</span>
                  <span class="ui horizontal label topic category-task">action unit detection</span>
                </div>
              
                <div class="item" data-value="stochastic optimization">
                  <span class="text">Task</span>
                  <span class="ui horizontal label topic category-task">stochastic optimization</span>
                </div>
              
                <div class="item" data-value="pedestrian attribute recognition">
                  <span class="text">Task</span>
                  <span class="ui horizontal label topic category-task">pedestrian attribute recognition</span>
                </div>
              
                <div class="item" data-value="sentence embeddings">
                  <span class="text">Task</span>
                  <span class="ui horizontal label topic category-task">sentence embeddings</span>
                </div>
              
                <div class="item" data-value="joint entity and relation extraction">
                  <span class="text">Task</span>
                  <span class="ui horizontal label topic category-task">joint entity and relation extraction</span>
                </div>
              
                <div class="item" data-value="motion segmentation">
                  <span class="text">Task</span>
                  <span class="ui horizontal label topic category-task">motion segmentation</span>
                </div>
              
                <div class="item" data-value="vision and language navigation">
                  <span class="text">Task</span>
                  <span class="ui horizontal label topic category-task">vision and language navigation</span>
                </div>
              
                <div class="item" data-value="speech synthesis">
                  <span class="text">Task</span>
                  <span class="ui horizontal label topic category-task">speech synthesis</span>
                </div>
              
                <div class="item" data-value="image super-resolution">
                  <span class="text">Task</span>
                  <span class="ui horizontal label topic category-task">image super-resolution</span>
                </div>
              
                <div class="item" data-value="emotion classification">
                  <span class="text">Task</span>
                  <span class="ui horizontal label topic category-task">emotion classification</span>
                </div>
              
                <div class="item" data-value="fact checking">
                  <span class="text">Task</span>
                  <span class="ui horizontal label topic category-task">fact checking</span>
                </div>
              
                <div class="item" data-value="saliency detection">
                  <span class="text">Task</span>
                  <span class="ui horizontal label topic category-task">saliency detection</span>
                </div>
              
                <div class="item" data-value="few-shot image classification">
                  <span class="text">Task</span>
                  <span class="ui horizontal label topic category-task">few-shot image classification</span>
                </div>
              
                <div class="item" data-value="dense pixel correspondence estimation">
                  <span class="text">Task</span>
                  <span class="ui horizontal label topic category-task">dense pixel correspondence estimation</span>
                </div>
              
                <div class="item" data-value="image enhancement">
                  <span class="text">Task</span>
                  <span class="ui horizontal label topic category-task">image enhancement</span>
                </div>
              
                <div class="item" data-value="hand pose estimation">
                  <span class="text">Task</span>
                  <span class="ui horizontal label topic category-task">hand pose estimation</span>
                </div>
              
                <div class="item" data-value="3d shape reconstruction">
                  <span class="text">Task</span>
                  <span class="ui horizontal label topic category-task">3d shape reconstruction</span>
                </div>
              
                <div class="item" data-value="3d shape representation">
                  <span class="text">Task</span>
                  <span class="ui horizontal label topic category-task">3d shape representation</span>
                </div>
              
                <div class="item" data-value="scene generation">
                  <span class="text">Task</span>
                  <span class="ui horizontal label topic category-task">scene generation</span>
                </div>
              
                <div class="item" data-value="grammatical error correction">
                  <span class="text">Task</span>
                  <span class="ui horizontal label topic category-task">grammatical error correction</span>
                </div>
              
                <div class="item" data-value="minecraft">
                  <span class="text">Task</span>
                  <span class="ui horizontal label topic category-task">minecraft</span>
                </div>
              
                <div class="item" data-value="video recognition">
                  <span class="text">Task</span>
                  <span class="ui horizontal label topic category-task">video recognition</span>
                </div>
              
                <div class="item" data-value="music transcription">
                  <span class="text">Task</span>
                  <span class="ui horizontal label topic category-task">music transcription</span>
                </div>
              
                <div class="item" data-value="vehicle re-identification">
                  <span class="text">Task</span>
                  <span class="ui horizontal label topic category-task">vehicle re-identification</span>
                </div>
              
                <div class="item" data-value="text-to-sql">
                  <span class="text">Task</span>
                  <span class="ui horizontal label topic category-task">text-to-sql</span>
                </div>
              
                <div class="item" data-value="hate speech detection">
                  <span class="text">Task</span>
                  <span class="ui horizontal label topic category-task">hate speech detection</span>
                </div>
              
                <div class="item" data-value="whole slide images">
                  <span class="text">Task</span>
                  <span class="ui horizontal label topic category-task">whole slide images</span>
                </div>
              
                <div class="item" data-value="action recognition">
                  <span class="text">Task</span>
                  <span class="ui horizontal label topic category-task">action recognition</span>
                </div>
              
                <div class="item" data-value="meta-learning">
                  <span class="text">Task</span>
                  <span class="ui horizontal label topic category-task">meta-learning</span>
                </div>
              
                <div class="item" data-value="self-supervised learning">
                  <span class="text">Task</span>
                  <span class="ui horizontal label topic category-task">self-supervised learning</span>
                </div>
              
                <div class="item" data-value="unsupervised image classification">
                  <span class="text">Task</span>
                  <span class="ui horizontal label topic category-task">unsupervised image classification</span>
                </div>
              
                <div class="item" data-value="image registration">
                  <span class="text">Task</span>
                  <span class="ui horizontal label topic category-task">image registration</span>
                </div>
              
                <div class="item" data-value="tf lite">
                  <span class="text">Framework</span>
                  <span class="ui horizontal label topic category-framework">tf lite</span>
                </div>
              
                <div class="item" data-value="math word problem solving">
                  <span class="text">Task</span>
                  <span class="ui horizontal label topic category-task">math word problem solving</span>
                </div>
              
                <div class="item" data-value="weakly-supervised semantic segmentation">
                  <span class="text">Task</span>
                  <span class="ui horizontal label topic category-task">weakly-supervised semantic segmentation</span>
                </div>
              
                <div class="item" data-value="intent classification">
                  <span class="text">Task</span>
                  <span class="ui horizontal label topic category-task">intent classification</span>
                </div>
              
                <div class="item" data-value="data-to-text generation">
                  <span class="text">Task</span>
                  <span class="ui horizontal label topic category-task">data-to-text generation</span>
                </div>
              
                <div class="item" data-value="video retrieval">
                  <span class="text">Task</span>
                  <span class="ui horizontal label topic category-task">video retrieval</span>
                </div>
              
                <div class="item" data-value="long-tail learning">
                  <span class="text">Task</span>
                  <span class="ui horizontal label topic category-task">long-tail learning</span>
                </div>
              
                <div class="item" data-value="semi-supervised video object segmentation">
                  <span class="text">Task</span>
                  <span class="ui horizontal label topic category-task">semi-supervised video object segmentation</span>
                </div>
              
                <div class="item" data-value="nested named entity recognition">
                  <span class="text">Task</span>
                  <span class="ui horizontal label topic category-task">nested named entity recognition</span>
                </div>
              
                <div class="item" data-value="sign language recognition">
                  <span class="text">Task</span>
                  <span class="ui horizontal label topic category-task">sign language recognition</span>
                </div>
              
                <div class="item" data-value="entity disambiguation">
                  <span class="text">Task</span>
                  <span class="ui horizontal label topic category-task">entity disambiguation</span>
                </div>
              
                <div class="item" data-value="visual navigation">
                  <span class="text">Task</span>
                  <span class="ui horizontal label topic category-task">visual navigation</span>
                </div>
              
                <div class="item" data-value="eeg">
                  <span class="text">Task</span>
                  <span class="ui horizontal label topic category-task">eeg</span>
                </div>
              
                <div class="item" data-value="action segmentation">
                  <span class="text">Task</span>
                  <span class="ui horizontal label topic category-task">action segmentation</span>
                </div>
              
                <div class="item" data-value="event extraction">
                  <span class="text">Task</span>
                  <span class="ui horizontal label topic category-task">event extraction</span>
                </div>
              
                <div class="item" data-value="unsupervised anomaly detection">
                  <span class="text">Task</span>
                  <span class="ui horizontal label topic category-task">unsupervised anomaly detection</span>
                </div>
              
                <div class="item" data-value="simultaneous localization and mapping">
                  <span class="text">Task</span>
                  <span class="ui horizontal label topic category-task">simultaneous localization and mapping</span>
                </div>
              
                <div class="item" data-value="image captioning">
                  <span class="text">Task</span>
                  <span class="ui horizontal label topic category-task">image captioning</span>
                </div>
              
                <div class="item" data-value="structured prediction">
                  <span class="text">Task</span>
                  <span class="ui horizontal label topic category-task">structured prediction</span>
                </div>
              
                <div class="item" data-value="keyword spotting">
                  <span class="text">Task</span>
                  <span class="ui horizontal label topic category-task">keyword spotting</span>
                </div>
              
                <div class="item" data-value="jpeg artifact correction">
                  <span class="text">Task</span>
                  <span class="ui horizontal label topic category-task">jpeg artifact correction</span>
                </div>
              
                <div class="item" data-value="image dehazing">
                  <span class="text">Task</span>
                  <span class="ui horizontal label topic category-task">image dehazing</span>
                </div>
              
                <div class="item" data-value="robotic grasping">
                  <span class="text">Task</span>
                  <span class="ui horizontal label topic category-task">robotic grasping</span>
                </div>
              
                <div class="item" data-value="discourse parsing">
                  <span class="text">Task</span>
                  <span class="ui horizontal label topic category-task">discourse parsing</span>
                </div>
              
                <div class="item" data-value="program repair">
                  <span class="text">Task</span>
                  <span class="ui horizontal label topic category-task">program repair</span>
                </div>
              
                <div class="item" data-value="face anti-spoofing">
                  <span class="text">Task</span>
                  <span class="ui horizontal label topic category-task">face anti-spoofing</span>
                </div>
              
                <div class="item" data-value="covid- diagnosis">
                  <span class="text">Task</span>
                  <span class="ui horizontal label topic category-task">covid- diagnosis</span>
                </div>
              
                <div class="item" data-value="atari games">
                  <span class="text">Task</span>
                  <span class="ui horizontal label topic category-task">atari games</span>
                </div>
              
                <div class="item" data-value="multi-class classification">
                  <span class="text">Task</span>
                  <span class="ui horizontal label topic category-task">multi-class classification</span>
                </div>
              
                <div class="item" data-value="action classification">
                  <span class="text">Task</span>
                  <span class="ui horizontal label topic category-task">action classification</span>
                </div>
              
                <div class="item" data-value="synthetic-to-real translation">
                  <span class="text">Task</span>
                  <span class="ui horizontal label topic category-task">synthetic-to-real translation</span>
                </div>
              
                <div class="item" data-value="federated learning">
                  <span class="text">Task</span>
                  <span class="ui horizontal label topic category-task">federated learning</span>
                </div>
              
                <div class="item" data-value="image retrieval">
                  <span class="text">Task</span>
                  <span class="ui horizontal label topic category-task">image retrieval</span>
                </div>
              
                <div class="item" data-value="zero-shot learning">
                  <span class="text">Task</span>
                  <span class="ui horizontal label topic category-task">zero-shot learning</span>
                </div>
              
                <div class="item" data-value="s3 compatible storage">
                  <span class="text">Integration</span>
                  <span class="ui horizontal label topic category-integration">s3 compatible storage</span>
                </div>
              
                <div class="item" data-value="defect detection">
                  <span class="text">Task</span>
                  <span class="ui horizontal label topic category-task">defect detection</span>
                </div>
              
                <div class="item" data-value="style transfer">
                  <span class="text">Task</span>
                  <span class="ui horizontal label topic category-task">style transfer</span>
                </div>
              
                <div class="item" data-value="sign language translation">
                  <span class="text">Task</span>
                  <span class="ui horizontal label topic category-task">sign language translation</span>
                </div>
              
                <div class="item" data-value="3d semantic segmentation">
                  <span class="text">Task</span>
                  <span class="ui horizontal label topic category-task">3d semantic segmentation</span>
                </div>
              
                <div class="item" data-value="knowledge graph completion">
                  <span class="text">Task</span>
                  <span class="ui horizontal label topic category-task">knowledge graph completion</span>
                </div>
              
                <div class="item" data-value="conditional image generation">
                  <span class="text">Task</span>
                  <span class="ui horizontal label topic category-task">conditional image generation</span>
                </div>
              
                <div class="item" data-value="speaker diarization">
                  <span class="text">Task</span>
                  <span class="ui horizontal label topic category-task">speaker diarization</span>
                </div>
              
                <div class="item" data-value="unsupervised machine translation">
                  <span class="text">Task</span>
                  <span class="ui horizontal label topic category-task">unsupervised machine translation</span>
                </div>
              
                <div class="item" data-value="traffic sign recognition">
                  <span class="text">Task</span>
                  <span class="ui horizontal label topic category-task">traffic sign recognition</span>
                </div>
              
                <div class="item" data-value="self-driving cars">
                  <span class="text">Task</span>
                  <span class="ui horizontal label topic category-task">self-driving cars</span>
                </div>
              
                <div class="item" data-value="biomedical information retrieval">
                  <span class="text">Task</span>
                  <span class="ui horizontal label topic category-task">biomedical information retrieval</span>
                </div>
              
                <div class="item" data-value="document summarization">
                  <span class="text">Task</span>
                  <span class="ui horizontal label topic category-task">document summarization</span>
                </div>
              
                <div class="item" data-value="audio classification">
                  <span class="text">Task</span>
                  <span class="ui horizontal label topic category-task">audio classification</span>
                </div>
              
                <div class="item" data-value="weakly-supervised named entity recognition">
                  <span class="text">Task</span>
                  <span class="ui horizontal label topic category-task">weakly-supervised named entity recognition</span>
                </div>
              
                <div class="item" data-value="keyword extraction">
                  <span class="text">Task</span>
                  <span class="ui horizontal label topic category-task">keyword extraction</span>
                </div>
              
                <div class="item" data-value="motion estimation">
                  <span class="text">Task</span>
                  <span class="ui horizontal label topic category-task">motion estimation</span>
                </div>
              
                <div class="item" data-value="word embeddings">
                  <span class="text">Task</span>
                  <span class="ui horizontal label topic category-task">word embeddings</span>
                </div>
              
                <div class="item" data-value="depth completion">
                  <span class="text">Task</span>
                  <span class="ui horizontal label topic category-task">depth completion</span>
                </div>
              
                <div class="item" data-value="document ranking">
                  <span class="text">Task</span>
                  <span class="ui horizontal label topic category-task">document ranking</span>
                </div>
              
                <div class="item" data-value="real-time semantic segmentation">
                  <span class="text">Task</span>
                  <span class="ui horizontal label topic category-task">real-time semantic segmentation</span>
                </div>
              
                <div class="item" data-value="visual odometry">
                  <span class="text">Task</span>
                  <span class="ui horizontal label topic category-task">visual odometry</span>
                </div>
              
                <div class="item" data-value="part-of-speech tagging">
                  <span class="text">Task</span>
                  <span class="ui horizontal label topic category-task">part-of-speech tagging</span>
                </div>
              
                <div class="item" data-value="metric learning">
                  <span class="text">Task</span>
                  <span class="ui horizontal label topic category-task">metric learning</span>
                </div>
              
                <div class="item" data-value="paraphrase generation">
                  <span class="text">Task</span>
                  <span class="ui horizontal label topic category-task">paraphrase generation</span>
                </div>
              
                <div class="item" data-value="animal pose estimation">
                  <span class="text">Task</span>
                  <span class="ui horizontal label topic category-task">animal pose estimation</span>
                </div>
              
                <div class="item" data-value="relation extraction">
                  <span class="text">Task</span>
                  <span class="ui horizontal label topic category-task">relation extraction</span>
                </div>
              
                <div class="item" data-value="recommendation systems">
                  <span class="text">Task</span>
                  <span class="ui horizontal label topic category-task">recommendation systems</span>
                </div>
              
                <div class="item" data-value="semantic textual similarity">
                  <span class="text">Task</span>
                  <span class="ui horizontal label topic category-task">semantic textual similarity</span>
                </div>
              
                <div class="item" data-value="network pruning">
                  <span class="text">Task</span>
                  <span class="ui horizontal label topic category-task">network pruning</span>
                </div>
              
                <div class="item" data-value="ssim">
                  <span class="text">Task</span>
                  <span class="ui horizontal label topic category-task">ssim</span>
                </div>
              
                <div class="item" data-value="coreference resolution">
                  <span class="text">Task</span>
                  <span class="ui horizontal label topic category-task">coreference resolution</span>
                </div>
              
                <div class="item" data-value="feature importance">
                  <span class="text">Task</span>
                  <span class="ui horizontal label topic category-task">feature importance</span>
                </div>
              
                <div class="item" data-value="music classification">
                  <span class="text">Task</span>
                  <span class="ui horizontal label topic category-task">music classification</span>
                </div>
              
                <div class="item" data-value="scene recognition">
                  <span class="text">Task</span>
                  <span class="ui horizontal label topic category-task">scene recognition</span>
                </div>
              
                <div class="item" data-value="lesion segmentation">
                  <span class="text">Task</span>
                  <span class="ui horizontal label topic category-task">lesion segmentation</span>
                </div>
              
                <div class="item" data-value="contrastive learning">
                  <span class="text">Task</span>
                  <span class="ui horizontal label topic category-task">contrastive learning</span>
                </div>
              
                <div class="item" data-value="3d multi-object tracking">
                  <span class="text">Task</span>
                  <span class="ui horizontal label topic category-task">3d multi-object tracking</span>
                </div>
              
                <div class="item" data-value="image inpainting">
                  <span class="text">Task</span>
                  <span class="ui horizontal label topic category-task">image inpainting</span>
                </div>
              
                <div class="item" data-value="eye tracking">
                  <span class="text">Task</span>
                  <span class="ui horizontal label topic category-task">eye tracking</span>
                </div>
              
                <div class="item" data-value="code search">
                  <span class="text">Task</span>
                  <span class="ui horizontal label topic category-task">code search</span>
                </div>
              
                <div class="item" data-value="node clustering">
                  <span class="text">Task</span>
                  <span class="ui horizontal label topic category-task">node clustering</span>
                </div>
              
                <div class="item" data-value="question generation">
                  <span class="text">Task</span>
                  <span class="ui horizontal label topic category-task">question generation</span>
                </div>
              
                <div class="item" data-value="monocular 3d object detection">
                  <span class="text">Task</span>
                  <span class="ui horizontal label topic category-task">monocular 3d object detection</span>
                </div>
              
                <div class="item" data-value="action recognition in videos">
                  <span class="text">Task</span>
                  <span class="ui horizontal label topic category-task">action recognition in videos</span>
                </div>
              
                <div class="item" data-value="multi-document summarization">
                  <span class="text">Task</span>
                  <span class="ui horizontal label topic category-task">multi-document summarization</span>
                </div>
              
                <div class="item" data-value="video reconstruction">
                  <span class="text">Task</span>
                  <span class="ui horizontal label topic category-task">video reconstruction</span>
                </div>
              
                <div class="item" data-value="cross-lingual ner">
                  <span class="text">Task</span>
                  <span class="ui horizontal label topic category-task">cross-lingual ner</span>
                </div>
              
                <div class="item" data-value="video question answering">
                  <span class="text">Task</span>
                  <span class="ui horizontal label topic category-task">video question answering</span>
                </div>
              
                <div class="item" data-value="multi-agent reinforcement learning">
                  <span class="text">Task</span>
                  <span class="ui horizontal label topic category-task">multi-agent reinforcement learning</span>
                </div>
              
                <div class="item" data-value="graph clustering">
                  <span class="text">Task</span>
                  <span class="ui horizontal label topic category-task">graph clustering</span>
                </div>
              
                <div class="item" data-value="virtual try-on">
                  <span class="text">Task</span>
                  <span class="ui horizontal label topic category-task">virtual try-on</span>
                </div>
              
                <div class="item" data-value="dialogue generation">
                  <span class="text">Task</span>
                  <span class="ui horizontal label topic category-task">dialogue generation</span>
                </div>
              
                <div class="item" data-value="facial expression recognition">
                  <span class="text">Task</span>
                  <span class="ui horizontal label topic category-task">facial expression recognition</span>
                </div>
              
                <div class="item" data-value="semantic role labeling">
                  <span class="text">Task</span>
                  <span class="ui horizontal label topic category-task">semantic role labeling</span>
                </div>
              
                <div class="item" data-value="handwriting generation">
                  <span class="text">Task</span>
                  <span class="ui horizontal label topic category-task">handwriting generation</span>
                </div>
              
                <div class="item" data-value="data augmentation">
                  <span class="text">Task</span>
                  <span class="ui horizontal label topic category-task">data augmentation</span>
                </div>
              
                <div class="item" data-value="autonomous navigation">
                  <span class="text">Task</span>
                  <span class="ui horizontal label topic category-task">autonomous navigation</span>
                </div>
              
                <div class="item" data-value="bayesian inference">
                  <span class="text">Task</span>
                  <span class="ui horizontal label topic category-task">bayesian inference</span>
                </div>
              
                <div class="item" data-value="text simplification">
                  <span class="text">Task</span>
                  <span class="ui horizontal label topic category-task">text simplification</span>
                </div>
              
                <div class="item" data-value="visual question answering">
                  <span class="text">Task</span>
                  <span class="ui horizontal label topic category-task">visual question answering</span>
                </div>
              
                <div class="item" data-value="video classification">
                  <span class="text">Task</span>
                  <span class="ui horizontal label topic category-task">video classification</span>
                </div>
              
                <div class="item" data-value="community detection">
                  <span class="text">Task</span>
                  <span class="ui horizontal label topic category-task">community detection</span>
                </div>
              
                <div class="item" data-value="fine-grained visual recognition">
                  <span class="text">Task</span>
                  <span class="ui horizontal label topic category-task">fine-grained visual recognition</span>
                </div>
              
            </div>
          </div>
        </div>
        <div class="three wide field">
          <button class="ui primary button" id="submit-topics" data-url="/Omdena/HeartKinetics/src/general/task-3-modelling/1D_CNN.ipynb/topics">Submit</button>
          <button class="ui button" id="discard-topics-form">Discard</button>
        </div>
      </div>
      <p class="topics-help">New topics will be added to the General category. Only displaying topics that weren't autoscanned from topics file</p>
    </form>
    <div class="ui stackable grid container">
      <div id="repo-content" class="ui  column content">

    <div id="repo-home-menu-bar" class="ui secondary menu compare-file-menu">
  <div id="branch-and-bread">
    
    <div id="compare-branch-dropdown-container">
      <script src="/js/branch_selector.js?v=30de51cc3621464c0295db194fb481ae75e34800"></script>
<div id="base-branches" data-active-tab="#branch-list" class="ui floating filter dropdown ref-selector"
    data-no-results="No results found.">
  <div class="ui basic small button">
    <i class="octicon octicon-git-branch"></i>
    <span class="text">
      <span class="branch-selector-title">
        
          Branch:
        
      </span>
      <strong>general</strong>
    </span>
    <i class="expand-icon dropdown icon"></i>
  </div>
  <div class="menu"
    data-selected-branch="general">
    <div class="ui icon search input">
      <i class="filter icon"></i>
      <input id="base_search" name="search" placeholder="Filter branch or tag...">
    </div>
    <div class="header">
      <div class="ui grid">
        <div class="two column row">
          <a class="reference column" href="#" data-target="#branch-list">
							<span class="text black">
								Branches
							</span>
          </a>
          <a class="reference column" href="#" data-target="#tag-list">
							<span class="text ">
								Tags
							</span>
          </a>
        </div>
      </div>
    </div>
    <div id="branch-list" class="scrolling menu" >
      
        
          <div class="item selected"
               data-url="/Omdena/HeartKinetics/src/general/task-3-modelling/1D_CNN.ipynb">general</div>
        
      
        
          <div class="item "
               data-url="/Omdena/HeartKinetics/src/main/task-3-modelling/1D_CNN.ipynb">main</div>
        
      
        
          <div class="item "
               data-url="/Omdena/HeartKinetics/src/renaming_folders/task-3-modelling/1D_CNN.ipynb">renaming_folders</div>
        
      
    </div>
    <div id="tag-list" class="scrolling menu"
         style="display: none">
      
    </div>
  </div>
</div>

  <div class="splitter">...</div>

<div id="compare-branches" class="ui floating filter dropdown ref-selector"
     data-no-results="No results found.">
  <div class="ui basic small button">
    <i class="octicon octicon-git-branch"></i>
    <span class="text">
      <span >
        compare:
      </span>
      <strong>
        
      </strong>
    </span>
    <i class="expand-icon dropdown icon"></i>
  </div>
  <div class="menu">
    <div class="ui icon search input">
      <i class="filter icon"></i>
      <input id="compare_search" name="search" placeholder="Filter branch or tag...">
    </div>

    <div class="header">
      <div class="ui grid">
        <div class="two column row">
          <a class="reference column" href="#" data-target="#compare-branch-list">
							<span class="text black">
								Branches
							</span>
          </a>
          <a class="reference column" href="#" data-target="#compare-tag-list">
							<span class="text ">
								Tags
							</span>
          </a>
        </div>
      </div>
    </div>
    <div id="compare-branch-list" class="scrolling menu" >
      
        <div class=" item"
             data-url="/Omdena/HeartKinetics/diff/general?compare=general&amp;path=task-3-modelling%2F1D_CNN.ipynb">general</div>
      
        <div class=" item"
             data-url="/Omdena/HeartKinetics/diff/general?compare=main&amp;path=task-3-modelling%2F1D_CNN.ipynb">main</div>
      
        <div class=" item"
             data-url="/Omdena/HeartKinetics/diff/general?compare=renaming_folders&amp;path=task-3-modelling%2F1D_CNN.ipynb">renaming_folders</div>
      
    </div>
    <div id="compare-tag-list" class="scrolling menu" style="display: none">
      
    </div>
  </div>
</div>

<script>
  $(document).ready(function() {
    const createBranchItem = function (inputValue) {
      let nearMatch = $(`${$('#base-branches').data('activeTab')} > .item:not(.filtered)`).filter(function() {
        return this.innerHTML === inputValue
      });
      if (inputValue === "" || nearMatch.length === 1) {
        deleteCreatedItem('#base-branches > .menu');
        return;
      }

      const currentUrlPathnameArr = window.location.pathname.split('/');
      
      const [ , userName, repoName ] = currentUrlPathnameArr;
      const $menuElement = $('#base-branches > .menu')
      const classList = ['item', 'new-item']
      const attributesList = {
        'data-url': `/${userName}/${repoName}`
      };
      let innerHTML = '';

      if ($('#base-branches').data('activeTab') === '#branch-list') {
        $menuElement.find('.new-branch-item').remove();
        classList.push('new-branch-item');
        innerHTML = `<strong>Create branch: ${inputValue}</strong> from '${$menuElement.data('selectedBranch')}'`;
        attributesList['data-branch'] = inputValue;
      } else {
        $menuElement.find('.new-tag-item').remove();
        classList.push('new-tag-item');
        innerHTML = `<strong>Create tag: ${inputValue}</strong> from '${$menuElement.data('selectedBranch')}'`;
        attributesList['data-tag'] = inputValue;
      }

      const commitDiv = createNewDivElement(classList, attributesList, innerHTML)
      $menuElement.append(commitDiv);
    }

    function changeNewItemElement($divSelector) {
      let innerHTML = '';
      const inputValue = $divSelector.find('input').val();
      const menuTarget = $divSelector.find('.menu').data('selectedBranch');
      let nearMatch = $(`${$divSelector.data('activeTab')} > .item:not(.filtered)`).filter(function() {
        return this.innerHTML === inputValue
      });

      if (nearMatch.length != 1) {
        if ($divSelector.data('activeTab') === '#branch-list') {
          $divSelector.find('.new-item').addClass('new-branch-item');
          $divSelector.find('.new-item').removeClass('new-tag-item');
          innerHTML = `<strong>Create branch: ${inputValue}</strong> from '${menuTarget}'`;
          $divSelector.find('.new-item').html(innerHTML);
          $divSelector.find('.new-item').data('branch', inputValue);
          $divSelector.find('.new-item').removeData('tag');
        } else {
          $divSelector.find('.new-item').addClass('new-tag-item');
          $divSelector.find('.new-item').removeClass('new-branch-item');
          innerHTML = `<strong>Create tag: ${inputValue}</strong> from '${menuTarget}'`;
          $divSelector.find('.new-item').html(innerHTML)
          $divSelector.find('.new-item').data('tag', inputValue);
          $divSelector.find('.new-item').removeData('branch');
        }
      } else {
        deleteCreatedItem('#base-branches > .menu');
      }
    }

    $('#base_search').keyup(function(e) { createBranchItem(e.currentTarget.value) });
    $('#base-branches .reference.column').click(function() {
      if ($('#base-branches').find('.new-item').length > 0) {
        changeNewItemElement($('#base-branches'));
      } else {
        createBranchItem($('#base-branches').find('input').val());
      }
    });
  });
</script>


    </div>
    
    
      <div class="fitted item">
        
          
          
          <div class="ui breadcrumb">
            <a class="section"
               href="/Omdena/HeartKinetics/src/general">HeartKinetics</a>
            
            
            
              <div class="divider"> /</div>
              
                
                <span class="section">
                    <a href="/Omdena/HeartKinetics/src/general/task-3-modelling">
                      task-3-modelling
                    </a>
                  </span>
              
            
              <div class="divider"> /</div>
              
                <span class="active section">1D_CNN.ipynb</span>
              
            
          </div>
        
      </div>
    
  </div>

  
    <div class="right fitted item">
      <div class="flex-spread">
        
          <div id="file-buttons" class="ui small buttons">
            
            
          </div>
        

        
        
      </div>
    </div>
  
</div>

    
    
      



<div id="file-content" class="view-content tab-size-8">
  <h4 class="ui top attached header" id="repo-read-file">
    <div>
      
        <i class="octicon octicon-file-text ui left"></i>
        <strong>1D_CNN.ipynb</strong> <span class="text grey normal">655 KB</span>
      
    </div>
      
        <div class="ui file-actions">
          <div class="ui buttons">
              
                <a class="ui button"
                   href="/Omdena/HeartKinetics/src/606972b75e8848f113720c9914293c332a32fe0d/task-3-modelling/1D_CNN.ipynb">Permalink</a>
              
              
                <a class="ui button"
                   href="/Omdena/HeartKinetics/commits/general/task-3-modelling/1D_CNN.ipynb">History</a>
              
              
            <a class="ui button" 
               href="/Omdena/HeartKinetics/raw/606972b75e8848f113720c9914293c332a32fe0d/task-3-modelling/1D_CNN.ipynb">Raw</a>
              
              
          </div>
            
                
                  <a href="/Omdena/HeartKinetics/_edit/general/task-3-modelling/1D_CNN.ipynb"><i
                      class="octicon octicon-pencil btn-octicon poping up"
                      data-content="Edit this file" data-position="bottom center"
                      data-variation="tiny inverted"></i></a>
                
                
                  <a href="/Omdena/HeartKinetics/_delete/general/task-3-modelling/1D_CNN.ipynb"><i
                      class="octicon octicon-trashcan btn-octicon btn-octicon-danger poping up"
                      data-content="Delete this file" data-position="bottom center"
                      data-variation="tiny inverted"></i></a>
                
            
          <i
            class="octicon octicon-comment btn-octicon btn-comment poping up"
            data-content="Comment this file" data-position="bottom center"
            data-variation="tiny inverted"></i>
        </div>
      
  </h4>

  <div style="display:none">
  
</div>
  <input type="hidden" id="last-change-hash" value="52f5b50023018501d349d773ef7173212b3d046d"/>
  <input type="hidden" id="enable-comments" value="true"/>
  <div id="comment-box">
    <div class="ui segment">
      <div id="target">
      </div>
      
        <form class="ui form new-comment" action="/Omdena/HeartKinetics/discussion/general/task-3-modelling/1D_CNN.ipynb"
      method="post">
  <input type="hidden" name="_csrf" value="TFfGKLBat6ealDA-5PFXsC5DY246MTY4MDc2ODg5NDY3MDQ3MjE1OQ">
  <input type="hidden" name="query_params" value="?"/>
  
    
      <input type="hidden" name="cell_id" class="cell_id" value=""/>
    
  
  <div class="field">
    <textarea required name="content"></textarea>
  </div>
  <button type="submit" class="ui green labeled submit icon button">
    <i class="icon edit"></i> Add Comment
  </button>
  <div class="ui negative basic button discard" id="discard-comment">
    Discard
  </div>
</form>
      
    </div>
  </div>
  <input type="hidden" id="cellsWithComments" data-cells-with-comments="" />

    

<div class="ui stackable bottom attached table segment" style= "padding: 1px">

<div id="file-content" class="file-content">
      
          <link rel="stylesheet" href="/css/notebook.css?v=30de51cc3621464c0295db194fb481ae75e34800">
<div id="ipython-notebook-base-52f5b50023018501d349d773ef7173212b3d046d" class="file-view ipython-notebook has-emoji">
  <div class="ui active loader"></div>
  <script>
    $(function() {
      $.getJSON("\/Omdena\/HeartKinetics\/user_content\/606972b75e8848f113720c9914293c332a32fe0d\/task-3-modelling\/1D_CNN.ipynb", function(notebook_json) {
        var notebook = nb.parse(notebook_json);
        var rendered = notebook.render();
        $.ajax({
          type: 'POST',
          url: '/-/api/sanitize_ipynb',
          data: rendered.outerHTML,
          processData: false,
          contentType: false,
        }).done(function(data) {
          $("#ipython-notebook-base-52f5b50023018501d349d773ef7173212b3d046d").append(data);
          $("#ipython-notebook-base-52f5b50023018501d349d773ef7173212b3d046d code").each(function(i, block) {
            $(block).addClass('py').addClass('python');
            hljs.highlightBlock(block);
          });

          
          var renderer = new marked.Renderer();
          var context = '\/Omdena\/HeartKinetics\/raw\/606972b75e8848f113720c9914293c332a32fe0d\/task-3-modelling\/1D_CNN.ipynb';
          context = context.substring(0, context.lastIndexOf('/'));
          renderer.image = function(href, title, text) {
            if (href.indexOf('http://') === 0 || href.indexOf('https://') === 0) {
              return `<img src="${href}"`;
            }
            return `<img src="${context}/${href}"`;
          };
          $("#ipython-notebook-base-52f5b50023018501d349d773ef7173212b3d046d .nb-markdown-cell").each(function(i, markdown) {
            $(markdown).html(marked($(markdown).html(), { renderer: renderer }));
          });

          if ($("#enable-comments").val() === "true") {
            
            const notebookSupportsCellIds = notebook.raw.nbformat >= 4 && notebook.raw.nbformat_minor >= 5;

            
            $(".nb-notebook > .nb-worksheet > .nb-cell").each(function(i) {
              let id = notebook.sheet.raw.cells[i].metadata.id;
              if (notebookSupportsCellIds) {
                id = notebook.sheet.raw.cells[i].id;
              }

              if (!id) {
                id = `index-${$("#last-change-hash").val()}-${i}`;
              }

              $(this).attr("id", id);
              if ($("#cellsWithComments").data("cellsWithComments").includes(id)) {
                $(this).addClass("commented");
              }
              $(this).append('<div class="ui icon mini blue button comment-cell" data-tooltip="Comment on cell"><i class="add icon"></i></div>');
            });

            $(".nb-notebook > .nb-worksheet > .nb-cell > .comment-cell").click(function(e) {
              if ($(this).parent().next("#clone-comment").length == 0) {
                const cloneComment = $("#comment-box").clone();
                cloneComment.attr("id", "clone-comment");
                $(this).parent().after($(cloneComment));

                if ($(`#notebook-cell-${$(this).parent().attr("id")}`).length > 0) {
                  $(cloneComment).find("#target").show();
                  $(cloneComment).find("#target").html($(`#notebook-cell-${$(this).parent().attr("id")}`).html());
                } else {
                  $(cloneComment).find("#target").hide();
                }
                $("#clone-comment .cell_id").val($(this).parent().attr("id"));
              } else {
                $(this).parent().next("#clone-comment").remove()
              }
            });

            if (window.location.hash) {
              const hash = window.location.hash.substr(1);

              const result = hash.split('&').reduce(function (res, item) {
                const parts = item.split('=');
                res[parts[0]] = parts[1];
                return res;
              }, {});

              $(`#${result.cell} > .comment-cell`).trigger("click");
              $(`#${result.cell}`).get(0).scrollIntoView();
            }
          }

          const coords = { y: Infinity }
          let startHeight
          $(".nb-notebook > .nb-worksheet > .nb-cell > .nb-output").each(function(i) {
            if ($(this).has("iframe").length > 0) {
              const that = this
              const handle = document.createElement('div')
              handle.classList.add('handle')
              that.appendChild(handle)
              handle.addEventListener('mousedown', initDrag, false)

              function initDrag(event) {
                coords.y = event.clientY
                startHeight = parseInt(window.getComputedStyle(that).height, 10)
                document.addEventListener('mousemove', doDrag, false)
                document.addEventListener('mouseup', stopDrag, false)
              }

              function doDrag(event) {
                
                const iframeHeight = startHeight + event.clientY - coords.y
                that.style.height = 30 + iframeHeight + 'px'
                $(that).find("iframe").get(0).style.height = iframeHeight + 'px';
              }

              function stopDrag() {
                document.removeEventListener('mousemove', doDrag, false)
                document.removeEventListener('mouseup', stopDrag, false)
              }
            }
          });
        });
      }, null);
    });
  </script>
</div>

      
</div>

</div>


</div>
<div class="center page buttons">
  <a id="previous-file" href="" rel="nofollow" class="ui animated button disabled"
     tabindex="0">
    <div class="visible content">Prev</div>
    <div class="hidden content">
      <i class="left arrow icon"></i>
    </div>
  </a>
  <a id="next-file" href="/Omdena/HeartKinetics/src/general/task-3-modelling/DL_Classifiers.ipynb" rel="nofollow" class="ui animated button"
     tabindex="0">
    <div class="visible content">Next</div>
    <div class="hidden content">
      <i class="right arrow icon"></i>
    </div>
  </a>
</div>
<div class="center page tip">
  <strong>Tip!</strong>
  <p>Press <strong>p</strong> or <strong><i class="arrow left icon"></i></strong> to see the previous file or,
    <strong>n</strong> or <strong><i class="arrow right icon"></i></strong> to see the next file</p>
</div>

  <script src="/js/libs/hotkeys.js?v=30de51cc3621464c0295db194fb481ae75e34800"></script>

<script src="/js/nextPrev.js?v=30de51cc3621464c0295db194fb481ae75e34800"></script>

<script>
  function submitDeleteForm() {
    var message = prompt("delete_confirm_message\n\ndelete_commit_summary", "Delete ''");
    if (message != null) {
      $('#delete-message').val(message);
      $('#delete-file-form').submit();
    }
  }
</script>


    
    </div>
      
    </div>
    <link rel="stylesheet" href="/css/discussions.css?v=30de51cc3621464c0295db194fb481ae75e34800">
<script src="/js/discussions.js?v=30de51cc3621464c0295db194fb481ae75e34800"></script>
<input type="hidden" id="comment_to_submit" value=""/>
<input type="hidden" id="parent_comment_id" value=""/>

  <script src="/js/bounding_box.js?v=30de51cc3621464c0295db194fb481ae75e34800"></script>
  
  <input type="hidden" id="potential_bounding_box_left" value=""/>
  <input type="hidden" id="potential_bounding_box_top" value=""/>
  <input type="hidden" id="potential_bounding_box_width" value=""/>
  <input type="hidden" id="potential_bounding_box_height" value=""/>

<h3 class="ui dividing header">Comments</h3>
<div class="ui comments discussions-comments" id="comment-list">
  
  
  
  
</div>
<form class="ui form new-comment" action="/Omdena/HeartKinetics/discussion/general/task-3-modelling/1D_CNN.ipynb" method="post">
    <input type="hidden" name="_csrf" value="TFfGKLBat6ealDA-5PFXsC5DY246MTY4MDc2ODg5NDY3MDQ3MjE1OQ">
  
    <input type="hidden" name="line_from"/>
    <input type="hidden" name="line_to"/>
    <input type="hidden" class="top" name="top" value="" />
    <input type="hidden" class="left" name="left" value="" />
    <input type="hidden" class="width" name="width" value="" />
    <input type="hidden" class="height" name="height" value="" />
  
  <div class="field">
    <div class="two fields">
      <div class="sixteen wide field">
        <div class="ui top attached tabular menu" data-write="write" data-preview="preview">
          <a class="active item" data-tab="write">Write</a>
          <a class="item" data-tab="preview" data-url="/api/v1/markdown"
             data-context="/Omdena/HeartKinetics">Preview</a>
        </div>
        <div class="ui bottom attached active tab segment" data-tab="write">
          <textarea required id="edit_area" name="content" data-id="repo-HeartKinetics-task-3-modelling/1D_CNN.ipynb"
                    data-url="/api/v1/markdown"
                    data-context="/Omdena/HeartKinetics"
                    data-markdown-file-exts=""
                    data-line-wrap-extensions=""></textarea>
        </div>
        <div class="ui bottom attached tab segment markdown" data-tab="preview">
            Loading...
        </div>
      </div>
      <div class="four wide field" style="display: none;">
        <canvas id="bounding-box-to-comment-about"></canvas>
      </div>
    </div>
  </div>
  <button type="submit" class="ui green labeled submit icon button">
    <i class="icon edit"></i> Add Comment
  </button>
</form>

  </div>
</div>


</div>
<footer>
  <div class="ui footer">
      <div class="dagshub-footer">
          <a href="/dashboard">
            <img alt="footer DagsHub logo" id="footer-logo" class="ui centered image" aria-label="Dagshub home"
                           src="/img/footerlogo.svg">
          </a>
          <div id="footer-social" class="">
            <a aria-label="DagsHub on Twitter" class="icon-link"
               rel="nofollow" target="_blank"
               href="https://twitter.com/TheRealDAGsHub">
              <i class="twitter large icon"></i>
            </a>
            <a aria-label="DagsHub on YouTube" class="icon-link"
               rel="nofollow" target="_blank"
               href="https://youtube.com/c/dagshub">
              <i class="youtube large icon"></i>
            </a>
            <a aria-label="DagsHub on LinkedIn" class="icon-link"
               rel="nofollow" target="_blank"
               href="https://www.linkedin.com/company/dagshub">
              <i class="linkedin large icon"></i>
            </a>
            <a aria-label="join our Discord" class="icon-link"
               rel="nofollow" target="_blank"
               href="https://discord.com/invite/9gU36Y6">
              
              <svg width="24" height="19" viewBox="0 0 24 19" fill="none" xmlns="http://www.w3.org/2000/svg">
                <path d="M20.2415 2.18566C18.7257 1.49015 17.1003 0.977731 15.4007 0.684245C15.3698 0.678581 15.3389 0.692736 15.3229 0.721047C15.1139 1.09286 14.8823 1.57791 14.7202 1.95916C12.8922 1.6855 11.0736 1.6855 9.28318 1.95916C9.12099 1.56944 8.88103 1.09286 8.67104 0.721047C8.6551 0.693681 8.62418 0.679525 8.59323 0.684245C6.89465 0.976793 5.26918 1.48921 3.75245 2.18566C3.73932 2.19133 3.72807 2.20077 3.7206 2.21303C0.637438 6.8192 -0.207169 11.3122 0.207167 15.7494C0.209041 15.7711 0.221228 15.7919 0.238101 15.8051C2.27228 17.2989 4.24273 18.2058 6.17659 18.807C6.20754 18.8164 6.24034 18.8051 6.26003 18.7796C6.71749 18.1549 7.12527 17.4962 7.4749 16.8035C7.49553 16.7629 7.47584 16.7148 7.43366 16.6988C6.78686 16.4534 6.17097 16.1542 5.57852 15.8145C5.53166 15.7872 5.52791 15.7201 5.57102 15.688C5.69569 15.5946 5.8204 15.4974 5.93944 15.3993C5.96098 15.3814 5.99099 15.3776 6.01631 15.3889C9.90842 17.1659 14.1221 17.1659 17.9683 15.3889C17.9936 15.3766 18.0236 15.3804 18.0461 15.3983C18.1652 15.4965 18.2898 15.5946 18.4154 15.688C18.4585 15.7201 18.4557 15.7872 18.4089 15.8145C17.8164 16.1608 17.2005 16.4534 16.5528 16.6978C16.5106 16.7139 16.4919 16.7629 16.5125 16.8035C16.8696 17.4952 17.2774 18.1539 17.7264 18.7787C17.7452 18.8051 17.7789 18.8164 17.8099 18.807C19.7531 18.2058 21.7235 17.2989 23.7577 15.8051C23.7755 15.7919 23.7868 15.7721 23.7887 15.7503C24.2845 10.6204 22.9581 6.16429 20.2724 2.21397C20.2659 2.20077 20.2546 2.19133 20.2415 2.18566ZM8.05612 13.0476C6.88433 13.0476 5.91881 11.9718 5.91881 10.6506C5.91881 9.32943 6.86561 8.25364 8.05612 8.25364C9.25598 8.25364 10.2122 9.33887 10.1934 10.6506C10.1934 11.9718 9.2466 13.0476 8.05612 13.0476ZM15.9585 13.0476C14.7867 13.0476 13.8212 11.9718 13.8212 10.6506C13.8212 9.32943 14.768 8.25364 15.9585 8.25364C17.1584 8.25364 18.1145 9.33887 18.0958 10.6506C18.0958 11.9718 17.1584 13.0476 15.9585 13.0476Z"/>
              </svg>
            </a>
          </div>
        <div class="links">
          <a class="footer-item" rel="noopener noreferrer" href="/about">Our Story</a>
          <a class="footer-item" rel="noopener noreferrer" href="/careers">Careers</a>
              
          <a id="merch-store" class="footer-item" rel="noopener noreferrer"
             href="https://teespring.com/stores/dagshub">Merch</a>
          <a class="footer-item" id="contact-us-footer" href="javascript:">Contact Us</a>
          <script>
            (function() {
              const $contactModal = $('#contact-modal');
              const $contactForm = $contactModal.find('#contact-form');
              $contactModal.modal('attach events', '#contact-us-footer', 'show');
              $('#contact-us-footer').on('click', () => {
                $contactForm.attr('action', 'contact_form');
              });
            })();
          </script>
              
                <a class="footer-item" rel="noopener noreferrer" href="/pricing">Pricing</a>
              
        </div>
          <h2>The home for data science collaboration</h2>
          <div class="legal">
            <p>© Copyright Dagshub 2023</p>
            <div class="">
              <a class="footer-item" rel="noopener noreferrer" href="/terms">Terms of Service</a>
              <a class="footer-item" rel="noopener noreferrer" href="/privacy">Privacy Policy</a>
            </div>
          </div>

        </div>

      
      
      
      
      
      
      
      
      
      
      
      


  </div>
</footer>


</div>
</body>





  <link rel="stylesheet" href="/plugins/highlight-9.18.0/github.css">
  <script src="/plugins/highlight-9.18.0/highlight.pack.js"></script>
  <script>hljs.initHighlightingOnLoad();</script>







<script src="/js/libs/emojify-1.1.0.min.js"></script>
<script src="/js/libs/clipboard-1.5.9.min.js"></script>



<script src="/js/gogs.js?v=30de51cc3621464c0295db194fb481ae75e34800"></script>
<script src="/js/dagshub.js?v=30de51cc3621464c0295db194fb481ae75e34800"></script>


  <script src="/js/topics.js?v=30de51cc3621464c0295db194fb481ae75e34800"></script>









  <script src="/js/integrations.js?v=30de51cc3621464c0295db194fb481ae75e34800"></script>
  <script src="/js/bare.js?v=30de51cc3621464c0295db194fb481ae75e34800"></script>





</html>


