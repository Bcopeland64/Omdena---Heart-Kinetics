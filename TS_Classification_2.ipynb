{
  "cells": [
    {
      "cell_type": "code",
      "execution_count": 1,
      "metadata": {
        "id": "CU_FuVHkGU1v"
      },
      "outputs": [],
      "source": [
        "\n",
        "import numpy as np\n",
        "import pandas as pd\n"
      ]
    },
    {
      "cell_type": "code",
      "execution_count": 2,
      "metadata": {
        "id": "r32IjhH5GU1y"
      },
      "outputs": [],
      "source": [
        "records = pd.read_feather('/home/brandon/Omdena/Omdena HeartKinetics/HeartKinetics - Project/records.feather')\n",
        "signals = pd.read_feather('/home/brandon/Omdena/Omdena HeartKinetics/HeartKinetics - Project/signals.feather')"
      ]
    },
    {
      "cell_type": "code",
      "execution_count": 3,
      "metadata": {
        "colab": {
          "base_uri": "https://localhost:8080/",
          "height": 206
        },
        "id": "7NZ7QpIaQWcj",
        "outputId": "bf1d8508-0ba5-4261-b180-986f3bbb1793"
      },
      "outputs": [
        {
          "data": {
            "text/html": [
              "<div>\n",
              "<style scoped>\n",
              "    .dataframe tbody tr th:only-of-type {\n",
              "        vertical-align: middle;\n",
              "    }\n",
              "\n",
              "    .dataframe tbody tr th {\n",
              "        vertical-align: top;\n",
              "    }\n",
              "\n",
              "    .dataframe thead th {\n",
              "        text-align: right;\n",
              "    }\n",
              "</style>\n",
              "<table border=\"1\" class=\"dataframe\">\n",
              "  <thead>\n",
              "    <tr style=\"text-align: right;\">\n",
              "      <th></th>\n",
              "      <th>record_id</th>\n",
              "      <th>study_id</th>\n",
              "      <th>subject_id</th>\n",
              "      <th>sex</th>\n",
              "      <th>height</th>\n",
              "      <th>weight</th>\n",
              "      <th>age</th>\n",
              "      <th>hf_type</th>\n",
              "    </tr>\n",
              "  </thead>\n",
              "  <tbody>\n",
              "    <tr>\n",
              "      <th>0</th>\n",
              "      <td>Frontiers_CP-66_CP-66_20210716-000000</td>\n",
              "      <td>Frontiers</td>\n",
              "      <td>CP-66</td>\n",
              "      <td>Male</td>\n",
              "      <td>1.650</td>\n",
              "      <td>66.0</td>\n",
              "      <td>59.0</td>\n",
              "      <td>UNKNOWN</td>\n",
              "    </tr>\n",
              "    <tr>\n",
              "      <th>1</th>\n",
              "      <td>Frontiers_CP-59_CP-59_20210716-000000</td>\n",
              "      <td>Frontiers</td>\n",
              "      <td>CP-59</td>\n",
              "      <td>Female</td>\n",
              "      <td>1.580</td>\n",
              "      <td>56.5</td>\n",
              "      <td>57.0</td>\n",
              "      <td>UNKNOWN</td>\n",
              "    </tr>\n",
              "    <tr>\n",
              "      <th>2</th>\n",
              "      <td>Frontiers_CP-61_CP-61_20210716-000000</td>\n",
              "      <td>Frontiers</td>\n",
              "      <td>CP-61</td>\n",
              "      <td>Female</td>\n",
              "      <td>1.640</td>\n",
              "      <td>83.0</td>\n",
              "      <td>68.0</td>\n",
              "      <td>UNKNOWN</td>\n",
              "    </tr>\n",
              "    <tr>\n",
              "      <th>3</th>\n",
              "      <td>Frontiers_UP-03_UP-03_20180404-000000</td>\n",
              "      <td>Frontiers</td>\n",
              "      <td>UP-03</td>\n",
              "      <td>Male</td>\n",
              "      <td>1.625</td>\n",
              "      <td>66.0</td>\n",
              "      <td>96.0</td>\n",
              "      <td>UNKNOWN</td>\n",
              "    </tr>\n",
              "    <tr>\n",
              "      <th>4</th>\n",
              "      <td>Frontiers_CP-57_CP-57_20210716-000000</td>\n",
              "      <td>Frontiers</td>\n",
              "      <td>CP-57</td>\n",
              "      <td>Male</td>\n",
              "      <td>1.740</td>\n",
              "      <td>62.0</td>\n",
              "      <td>79.0</td>\n",
              "      <td>UNKNOWN</td>\n",
              "    </tr>\n",
              "  </tbody>\n",
              "</table>\n",
              "</div>"
            ],
            "text/plain": [
              "                               record_id   study_id subject_id     sex  \\\n",
              "0  Frontiers_CP-66_CP-66_20210716-000000  Frontiers      CP-66    Male   \n",
              "1  Frontiers_CP-59_CP-59_20210716-000000  Frontiers      CP-59  Female   \n",
              "2  Frontiers_CP-61_CP-61_20210716-000000  Frontiers      CP-61  Female   \n",
              "3  Frontiers_UP-03_UP-03_20180404-000000  Frontiers      UP-03    Male   \n",
              "4  Frontiers_CP-57_CP-57_20210716-000000  Frontiers      CP-57    Male   \n",
              "\n",
              "   height  weight   age  hf_type  \n",
              "0   1.650    66.0  59.0  UNKNOWN  \n",
              "1   1.580    56.5  57.0  UNKNOWN  \n",
              "2   1.640    83.0  68.0  UNKNOWN  \n",
              "3   1.625    66.0  96.0  UNKNOWN  \n",
              "4   1.740    62.0  79.0  UNKNOWN  "
            ]
          },
          "execution_count": 3,
          "metadata": {},
          "output_type": "execute_result"
        }
      ],
      "source": [
        "records.head()"
      ]
    },
    {
      "cell_type": "code",
      "execution_count": 4,
      "metadata": {
        "colab": {
          "base_uri": "https://localhost:8080/",
          "height": 577
        },
        "id": "UOfvDqLpQZXC",
        "outputId": "c2d1d5d9-8c78-45f6-ea08-e4d2c8b13d47"
      },
      "outputs": [
        {
          "data": {
            "text/html": [
              "<div>\n",
              "<style scoped>\n",
              "    .dataframe tbody tr th:only-of-type {\n",
              "        vertical-align: middle;\n",
              "    }\n",
              "\n",
              "    .dataframe tbody tr th {\n",
              "        vertical-align: top;\n",
              "    }\n",
              "\n",
              "    .dataframe thead th {\n",
              "        text-align: right;\n",
              "    }\n",
              "</style>\n",
              "<table border=\"1\" class=\"dataframe\">\n",
              "  <thead>\n",
              "    <tr style=\"text-align: right;\">\n",
              "      <th></th>\n",
              "      <th>record_id</th>\n",
              "      <th>channel</th>\n",
              "      <th>0 days 00:00:00</th>\n",
              "      <th>0 days 00:00:00.005000</th>\n",
              "      <th>0 days 00:00:00.010000</th>\n",
              "      <th>0 days 00:00:00.015000</th>\n",
              "      <th>0 days 00:00:00.020000</th>\n",
              "      <th>0 days 00:00:00.025000</th>\n",
              "      <th>0 days 00:00:00.030000</th>\n",
              "      <th>0 days 00:00:00.035000</th>\n",
              "      <th>...</th>\n",
              "      <th>0 days 00:00:59.955000</th>\n",
              "      <th>0 days 00:00:59.960000</th>\n",
              "      <th>0 days 00:00:59.965000</th>\n",
              "      <th>0 days 00:00:59.970000</th>\n",
              "      <th>0 days 00:00:59.975000</th>\n",
              "      <th>0 days 00:00:59.980000</th>\n",
              "      <th>0 days 00:00:59.985000</th>\n",
              "      <th>0 days 00:00:59.990000</th>\n",
              "      <th>0 days 00:00:59.995000</th>\n",
              "      <th>0 days 00:01:00</th>\n",
              "    </tr>\n",
              "  </thead>\n",
              "  <tbody>\n",
              "    <tr>\n",
              "      <th>0</th>\n",
              "      <td>Frontiers_CP-66_CP-66_20210716-000000</td>\n",
              "      <td>nrg_lin</td>\n",
              "      <td>1.279607e-10</td>\n",
              "      <td>8.848643e-10</td>\n",
              "      <td>2.081432e-09</td>\n",
              "      <td>3.121196e-09</td>\n",
              "      <td>3.971332e-09</td>\n",
              "      <td>4.824464e-09</td>\n",
              "      <td>5.844231e-09</td>\n",
              "      <td>7.626334e-09</td>\n",
              "      <td>...</td>\n",
              "      <td>3.843697e-08</td>\n",
              "      <td>4.362340e-08</td>\n",
              "      <td>4.407751e-08</td>\n",
              "      <td>4.144375e-08</td>\n",
              "      <td>3.601437e-08</td>\n",
              "      <td>2.377446e-08</td>\n",
              "      <td>1.072449e-08</td>\n",
              "      <td>4.133584e-09</td>\n",
              "      <td>1.771588e-09</td>\n",
              "      <td>2.260352e-09</td>\n",
              "    </tr>\n",
              "    <tr>\n",
              "      <th>1</th>\n",
              "      <td>Frontiers_CP-66_CP-66_20210716-000000</td>\n",
              "      <td>nrg_rot</td>\n",
              "      <td>5.556937e-11</td>\n",
              "      <td>2.217992e-10</td>\n",
              "      <td>3.255192e-10</td>\n",
              "      <td>5.954308e-10</td>\n",
              "      <td>1.205670e-09</td>\n",
              "      <td>1.569920e-09</td>\n",
              "      <td>1.437969e-09</td>\n",
              "      <td>1.264825e-09</td>\n",
              "      <td>...</td>\n",
              "      <td>7.596838e-10</td>\n",
              "      <td>1.185676e-09</td>\n",
              "      <td>1.408344e-09</td>\n",
              "      <td>9.396106e-10</td>\n",
              "      <td>3.263996e-10</td>\n",
              "      <td>8.116416e-10</td>\n",
              "      <td>8.458283e-10</td>\n",
              "      <td>1.133015e-09</td>\n",
              "      <td>1.393282e-09</td>\n",
              "      <td>5.907058e-10</td>\n",
              "    </tr>\n",
              "    <tr>\n",
              "      <th>2</th>\n",
              "      <td>Frontiers_CP-66_CP-66_20210716-000000</td>\n",
              "      <td>pwr_lin</td>\n",
              "      <td>-2.655856e-09</td>\n",
              "      <td>-1.179579e-08</td>\n",
              "      <td>-3.378029e-08</td>\n",
              "      <td>-2.047574e-08</td>\n",
              "      <td>7.866821e-08</td>\n",
              "      <td>1.499196e-07</td>\n",
              "      <td>3.369719e-07</td>\n",
              "      <td>6.925233e-07</td>\n",
              "      <td>...</td>\n",
              "      <td>1.326742e-06</td>\n",
              "      <td>4.334578e-07</td>\n",
              "      <td>-5.060552e-07</td>\n",
              "      <td>-8.149085e-07</td>\n",
              "      <td>-1.776411e-06</td>\n",
              "      <td>-2.887063e-06</td>\n",
              "      <td>-2.095681e-06</td>\n",
              "      <td>-8.204266e-07</td>\n",
              "      <td>-1.517324e-07</td>\n",
              "      <td>3.144448e-07</td>\n",
              "    </tr>\n",
              "    <tr>\n",
              "      <th>3</th>\n",
              "      <td>Frontiers_CP-66_CP-66_20210716-000000</td>\n",
              "      <td>pwr_rot</td>\n",
              "      <td>-7.878670e-08</td>\n",
              "      <td>-2.514187e-07</td>\n",
              "      <td>-1.262197e-07</td>\n",
              "      <td>-1.130888e-07</td>\n",
              "      <td>-2.835921e-07</td>\n",
              "      <td>-3.726526e-07</td>\n",
              "      <td>-3.114805e-07</td>\n",
              "      <td>-3.268763e-07</td>\n",
              "      <td>...</td>\n",
              "      <td>7.192581e-08</td>\n",
              "      <td>7.764132e-08</td>\n",
              "      <td>-1.740640e-08</td>\n",
              "      <td>-1.393403e-07</td>\n",
              "      <td>-1.414921e-08</td>\n",
              "      <td>9.265420e-08</td>\n",
              "      <td>-4.781753e-08</td>\n",
              "      <td>1.226706e-07</td>\n",
              "      <td>-8.519107e-08</td>\n",
              "      <td>-1.559372e-07</td>\n",
              "    </tr>\n",
              "    <tr>\n",
              "      <th>4</th>\n",
              "      <td>Frontiers_CP-66_CP-66_20210716-000000</td>\n",
              "      <td>rsp</td>\n",
              "      <td>-4.379060e-01</td>\n",
              "      <td>-4.374503e-01</td>\n",
              "      <td>-4.365397e-01</td>\n",
              "      <td>-4.352323e-01</td>\n",
              "      <td>-4.334734e-01</td>\n",
              "      <td>-4.313219e-01</td>\n",
              "      <td>-4.287250e-01</td>\n",
              "      <td>-4.257420e-01</td>\n",
              "      <td>...</td>\n",
              "      <td>7.997676e-01</td>\n",
              "      <td>7.925788e-01</td>\n",
              "      <td>7.853790e-01</td>\n",
              "      <td>7.781603e-01</td>\n",
              "      <td>7.709196e-01</td>\n",
              "      <td>7.636476e-01</td>\n",
              "      <td>7.563429e-01</td>\n",
              "      <td>7.489946e-01</td>\n",
              "      <td>7.416031e-01</td>\n",
              "      <td>7.341561e-01</td>\n",
              "    </tr>\n",
              "  </tbody>\n",
              "</table>\n",
              "<p>5 rows × 12003 columns</p>\n",
              "</div>"
            ],
            "text/plain": [
              "                               record_id  channel  0 days 00:00:00  \\\n",
              "0  Frontiers_CP-66_CP-66_20210716-000000  nrg_lin     1.279607e-10   \n",
              "1  Frontiers_CP-66_CP-66_20210716-000000  nrg_rot     5.556937e-11   \n",
              "2  Frontiers_CP-66_CP-66_20210716-000000  pwr_lin    -2.655856e-09   \n",
              "3  Frontiers_CP-66_CP-66_20210716-000000  pwr_rot    -7.878670e-08   \n",
              "4  Frontiers_CP-66_CP-66_20210716-000000      rsp    -4.379060e-01   \n",
              "\n",
              "   0 days 00:00:00.005000  0 days 00:00:00.010000  0 days 00:00:00.015000  \\\n",
              "0            8.848643e-10            2.081432e-09            3.121196e-09   \n",
              "1            2.217992e-10            3.255192e-10            5.954308e-10   \n",
              "2           -1.179579e-08           -3.378029e-08           -2.047574e-08   \n",
              "3           -2.514187e-07           -1.262197e-07           -1.130888e-07   \n",
              "4           -4.374503e-01           -4.365397e-01           -4.352323e-01   \n",
              "\n",
              "   0 days 00:00:00.020000  0 days 00:00:00.025000  0 days 00:00:00.030000  \\\n",
              "0            3.971332e-09            4.824464e-09            5.844231e-09   \n",
              "1            1.205670e-09            1.569920e-09            1.437969e-09   \n",
              "2            7.866821e-08            1.499196e-07            3.369719e-07   \n",
              "3           -2.835921e-07           -3.726526e-07           -3.114805e-07   \n",
              "4           -4.334734e-01           -4.313219e-01           -4.287250e-01   \n",
              "\n",
              "   0 days 00:00:00.035000  ...  0 days 00:00:59.955000  \\\n",
              "0            7.626334e-09  ...            3.843697e-08   \n",
              "1            1.264825e-09  ...            7.596838e-10   \n",
              "2            6.925233e-07  ...            1.326742e-06   \n",
              "3           -3.268763e-07  ...            7.192581e-08   \n",
              "4           -4.257420e-01  ...            7.997676e-01   \n",
              "\n",
              "   0 days 00:00:59.960000  0 days 00:00:59.965000  0 days 00:00:59.970000  \\\n",
              "0            4.362340e-08            4.407751e-08            4.144375e-08   \n",
              "1            1.185676e-09            1.408344e-09            9.396106e-10   \n",
              "2            4.334578e-07           -5.060552e-07           -8.149085e-07   \n",
              "3            7.764132e-08           -1.740640e-08           -1.393403e-07   \n",
              "4            7.925788e-01            7.853790e-01            7.781603e-01   \n",
              "\n",
              "   0 days 00:00:59.975000  0 days 00:00:59.980000  0 days 00:00:59.985000  \\\n",
              "0            3.601437e-08            2.377446e-08            1.072449e-08   \n",
              "1            3.263996e-10            8.116416e-10            8.458283e-10   \n",
              "2           -1.776411e-06           -2.887063e-06           -2.095681e-06   \n",
              "3           -1.414921e-08            9.265420e-08           -4.781753e-08   \n",
              "4            7.709196e-01            7.636476e-01            7.563429e-01   \n",
              "\n",
              "   0 days 00:00:59.990000  0 days 00:00:59.995000  0 days 00:01:00  \n",
              "0            4.133584e-09            1.771588e-09     2.260352e-09  \n",
              "1            1.133015e-09            1.393282e-09     5.907058e-10  \n",
              "2           -8.204266e-07           -1.517324e-07     3.144448e-07  \n",
              "3            1.226706e-07           -8.519107e-08    -1.559372e-07  \n",
              "4            7.489946e-01            7.416031e-01     7.341561e-01  \n",
              "\n",
              "[5 rows x 12003 columns]"
            ]
          },
          "execution_count": 4,
          "metadata": {},
          "output_type": "execute_result"
        }
      ],
      "source": [
        "signals.head()"
      ]
    },
    {
      "cell_type": "code",
      "execution_count": 5,
      "metadata": {
        "colab": {
          "base_uri": "https://localhost:8080/"
        },
        "id": "PAccG-5DQcS6",
        "outputId": "4cbb00e8-4063-4989-9796-f8bfafcc9be8"
      },
      "outputs": [
        {
          "name": "stdout",
          "output_type": "stream",
          "text": [
            "\u001b[33mWARNING: Ignoring invalid distribution -andas (/home/brandon/anaconda3/lib/python3.9/site-packages)\u001b[0m\u001b[33m\n",
            "\u001b[0m\u001b[33mWARNING: Ignoring invalid distribution -andas (/home/brandon/anaconda3/lib/python3.9/site-packages)\u001b[0m\u001b[33m\n",
            "\u001b[0m\u001b[33mWARNING: Ignoring invalid distribution -andas (/home/brandon/anaconda3/lib/python3.9/site-packages)\u001b[0m\u001b[33m\n",
            "\u001b[0m\u001b[33m    WARNING: Ignoring invalid distribution -andas (/home/brandon/anaconda3/lib/python3.9/site-packages)\u001b[0m\u001b[33m\n",
            "\u001b[0m\u001b[33mWARNING: Ignoring invalid distribution -andas (/home/brandon/anaconda3/lib/python3.9/site-packages)\u001b[0m\u001b[33m\n",
            "\u001b[0m\u001b[31mERROR: pip's dependency resolver does not currently take into account all the packages that are installed. This behaviour is the source of the following dependency conflicts.\n",
            "mitosheet3 0.3.153 requires openpyxl, which is not installed.\n",
            "mitosheet 0.1.433 requires openpyxl, which is not installed.\n",
            "mitosheet 0.1.433 requires xlsxwriter<=3.0.2,>=0.6.9, which is not installed.\n",
            "exa 0.5.26 requires sympy>=1.5, which is not installed.\n",
            "exa 0.5.26 requires tables>=3.6, which is not installed.\n",
            "scruples 0.3.0 requires autograd>=1.2, which is not installed.\n",
            "scruples 0.3.0 requires Pattern>=3.6, which is not installed.\n",
            "streamlit 1.8.1 requires click<8.1,>=7.0, but you have click 8.1.3 which is incompatible.\n",
            "scikit-survival 0.16.0 requires scikit-learn<0.25,>=0.24.0, but you have scikit-learn 1.2.2 which is incompatible.\n",
            "qpd 0.4.0 requires antlr4-python3-runtime<4.12,>=4.11.1, but you have antlr4-python3-runtime 4.9.3 which is incompatible.\n",
            "pycaret-ts-alpha 3.0.0.dev1649017462 requires joblib~=1.0.1, but you have joblib 1.2.0 which is incompatible.\n",
            "pycaret-ts-alpha 3.0.0.dev1649017462 requires numba~=0.55.0, but you have numba 0.56.4 which is incompatible.\n",
            "pycaret-ts-alpha 3.0.0.dev1649017462 requires pandas<1.5.0,>=1.3.0, but you have pandas 1.5.3 which is incompatible.\n",
            "pycaret-ts-alpha 3.0.0.dev1649017462 requires scipy~=1.7.3, but you have scipy 1.9.1 which is incompatible.\n",
            "pycaret-ts-alpha 3.0.0.dev1649017462 requires sktime==0.10.1, but you have sktime 0.16.1 which is incompatible.\n",
            "mitosheet3 0.3.153 requires plotly==5.3.0, but you have plotly 5.13.1 which is incompatible.\n",
            "fugue-sql-antlr 0.1.5 requires antlr4-python3-runtime<4.12,>=4.11.1, but you have antlr4-python3-runtime 4.9.3 which is incompatible.\n",
            "es-core-news-sm 3.2.0 requires spacy<3.3.0,>=3.2.0, but you have spacy 2.3.7 which is incompatible.\n",
            "scruples 0.3.0 requires scikit-learn<0.21,>=0.20.3, but you have scikit-learn 1.2.2 which is incompatible.\n",
            "scruples 0.3.0 requires scipy<1.3,>=1.2.1, but you have scipy 1.9.1 which is incompatible.\n",
            "scruples 0.3.0 requires spacy<2.2.0,>=2.1.3, but you have spacy 2.3.7 which is incompatible.\u001b[0m\u001b[31m\n",
            "\u001b[0m\u001b[33mWARNING: Ignoring invalid distribution -andas (/home/brandon/anaconda3/lib/python3.9/site-packages)\u001b[0m\u001b[33m\n",
            "\u001b[0m\u001b[33mWARNING: Ignoring invalid distribution -andas (/home/brandon/anaconda3/lib/python3.9/site-packages)\u001b[0m\u001b[33m\n",
            "\u001b[0m\u001b[33mWARNING: Ignoring invalid distribution -andas (/home/brandon/anaconda3/lib/python3.9/site-packages)\u001b[0m\u001b[33m\n",
            "\u001b[0m"
          ]
        }
      ],
      "source": [
        "!pip install sktime --quiet\n",
        "\n"
      ]
    },
    {
      "cell_type": "code",
      "execution_count": 6,
      "metadata": {
        "colab": {
          "base_uri": "https://localhost:8080/"
        },
        "id": "Fr4umPs1Q-ZB",
        "outputId": "c5f549b2-d5f5-41ef-ccd7-1396399fe2ab"
      },
      "outputs": [
        {
          "name": "stdout",
          "output_type": "stream",
          "text": [
            "\u001b[33mWARNING: Ignoring invalid distribution -andas (/home/brandon/anaconda3/lib/python3.9/site-packages)\u001b[0m\u001b[33m\n",
            "\u001b[0m\u001b[33mWARNING: Ignoring invalid distribution -andas (/home/brandon/anaconda3/lib/python3.9/site-packages)\u001b[0m\u001b[33m\n",
            "\u001b[0m\u001b[33mWARNING: Ignoring invalid distribution -andas (/home/brandon/anaconda3/lib/python3.9/site-packages)\u001b[0m\u001b[33m\n",
            "\u001b[0m\u001b[33m    WARNING: Ignoring invalid distribution -andas (/home/brandon/anaconda3/lib/python3.9/site-packages)\u001b[0m\u001b[33m\n",
            "\u001b[0m\u001b[33mWARNING: Ignoring invalid distribution -andas (/home/brandon/anaconda3/lib/python3.9/site-packages)\u001b[0m\u001b[33m\n",
            "\u001b[0m\u001b[31mERROR: pip's dependency resolver does not currently take into account all the packages that are installed. This behaviour is the source of the following dependency conflicts.\n",
            "mitosheet3 0.3.153 requires openpyxl, which is not installed.\n",
            "mitosheet 0.1.433 requires openpyxl, which is not installed.\n",
            "mitosheet 0.1.433 requires xlsxwriter<=3.0.2,>=0.6.9, which is not installed.\n",
            "exa 0.5.26 requires sympy>=1.5, which is not installed.\n",
            "exa 0.5.26 requires tables>=3.6, which is not installed.\n",
            "scruples 0.3.0 requires autograd>=1.2, which is not installed.\n",
            "scruples 0.3.0 requires Pattern>=3.6, which is not installed.\n",
            "ydata-profiling 4.1.0 requires numpy<1.24,>=1.16.0, but you have numpy 1.24.2 which is incompatible.\n",
            "streamlit 1.8.1 requires click<8.1,>=7.0, but you have click 8.1.3 which is incompatible.\n",
            "scikit-survival 0.16.0 requires scikit-learn<0.25,>=0.24.0, but you have scikit-learn 1.2.2 which is incompatible.\n",
            "qpd 0.4.0 requires antlr4-python3-runtime<4.12,>=4.11.1, but you have antlr4-python3-runtime 4.9.3 which is incompatible.\n",
            "pycaret-ts-alpha 3.0.0.dev1649017462 requires joblib~=1.0.1, but you have joblib 1.2.0 which is incompatible.\n",
            "pycaret-ts-alpha 3.0.0.dev1649017462 requires numba~=0.55.0, but you have numba 0.56.4 which is incompatible.\n",
            "pycaret-ts-alpha 3.0.0.dev1649017462 requires pandas<1.5.0,>=1.3.0, but you have pandas 1.5.3 which is incompatible.\n",
            "pycaret-ts-alpha 3.0.0.dev1649017462 requires scipy~=1.7.3, but you have scipy 1.9.1 which is incompatible.\n",
            "pycaret-ts-alpha 3.0.0.dev1649017462 requires sktime==0.10.1, but you have sktime 0.16.1 which is incompatible.\n",
            "numba 0.56.4 requires numpy<1.24,>=1.18, but you have numpy 1.24.2 which is incompatible.\n",
            "mitosheet3 0.3.153 requires plotly==5.3.0, but you have plotly 5.13.1 which is incompatible.\n",
            "fugue-sql-antlr 0.1.5 requires antlr4-python3-runtime<4.12,>=4.11.1, but you have antlr4-python3-runtime 4.9.3 which is incompatible.\n",
            "es-core-news-sm 3.2.0 requires spacy<3.3.0,>=3.2.0, but you have spacy 2.3.7 which is incompatible.\n",
            "scruples 0.3.0 requires scikit-learn<0.21,>=0.20.3, but you have scikit-learn 1.2.2 which is incompatible.\n",
            "scruples 0.3.0 requires scipy<1.3,>=1.2.1, but you have scipy 1.9.1 which is incompatible.\n",
            "scruples 0.3.0 requires spacy<2.2.0,>=2.1.3, but you have spacy 2.3.7 which is incompatible.\u001b[0m\u001b[31m\n",
            "\u001b[0m\u001b[33mWARNING: Ignoring invalid distribution -andas (/home/brandon/anaconda3/lib/python3.9/site-packages)\u001b[0m\u001b[33m\n",
            "\u001b[0m\u001b[33mWARNING: Ignoring invalid distribution -andas (/home/brandon/anaconda3/lib/python3.9/site-packages)\u001b[0m\u001b[33m\n",
            "\u001b[0m\u001b[33mWARNING: Ignoring invalid distribution -andas (/home/brandon/anaconda3/lib/python3.9/site-packages)\u001b[0m\u001b[33m\n",
            "\u001b[0m"
          ]
        }
      ],
      "source": [
        "!pip install -U numpy --quiet\n"
      ]
    },
    {
      "cell_type": "code",
      "execution_count": 7,
      "metadata": {
        "id": "_DnmAe14QifK"
      },
      "outputs": [],
      "source": [
        "from sktime.utils.plotting import plot_series\n",
        "from sklearn.model_selection import train_test_split"
      ]
    },
    {
      "cell_type": "code",
      "execution_count": 8,
      "metadata": {
        "colab": {
          "base_uri": "https://localhost:8080/"
        },
        "id": "eg78b_LESiAW",
        "outputId": "cfcc751d-5a34-4742-f3e3-4d5d4c2af590"
      },
      "outputs": [
        {
          "data": {
            "text/plain": [
              "Index(['record_id', 'channel', '0 days 00:00:00', '0 days 00:00:00.005000',\n",
              "       '0 days 00:00:00.010000', '0 days 00:00:00.015000',\n",
              "       '0 days 00:00:00.020000', '0 days 00:00:00.025000',\n",
              "       '0 days 00:00:00.030000', '0 days 00:00:00.035000',\n",
              "       ...\n",
              "       '0 days 00:00:59.955000', '0 days 00:00:59.960000',\n",
              "       '0 days 00:00:59.965000', '0 days 00:00:59.970000',\n",
              "       '0 days 00:00:59.975000', '0 days 00:00:59.980000',\n",
              "       '0 days 00:00:59.985000', '0 days 00:00:59.990000',\n",
              "       '0 days 00:00:59.995000', '0 days 00:01:00'],\n",
              "      dtype='object', length=12003)"
            ]
          },
          "execution_count": 8,
          "metadata": {},
          "output_type": "execute_result"
        }
      ],
      "source": [
        "signals.columns"
      ]
    },
    {
      "cell_type": "code",
      "execution_count": 9,
      "metadata": {
        "colab": {
          "base_uri": "https://localhost:8080/",
          "height": 385
        },
        "id": "z0xli0g5RtQb",
        "outputId": "2c46b87a-c692-45d2-f025-8dfd9dfe4c08"
      },
      "outputs": [
        {
          "data": {
            "text/plain": [
              "(<Figure size 1600x400 with 1 Axes>, <AxesSubplot: ylabel='0 days 00:00:00'>)"
            ]
          },
          "execution_count": 9,
          "metadata": {},
          "output_type": "execute_result"
        },
        {
          "data": {
            "image/png": "[encoded data removed]",
            "text/plain": [
              "<Figure size 1600x400 with 1 Axes>"
            ]
          },
          "metadata": {},
          "output_type": "display_data"
        }
      ],
      "source": [
        "signal_series = pd.Series(signals['0 days 00:00:00'])\n",
        "plot_series(signal_series)"
      ]
    },
    {
      "cell_type": "code",
      "execution_count": 10,
      "metadata": {
        "id": "7hRmfhh2ZwsL"
      },
      "outputs": [],
      "source": [
        "signals = signals.set_index('record_id').stack().rename('returns').to_frame()\n"
      ]
    },
    {
      "cell_type": "code",
      "execution_count": 11,
      "metadata": {
        "colab": {
          "base_uri": "https://localhost:8080/"
        },
        "id": "iOha48ZIaUtj",
        "outputId": "5cd27e4b-fc43-42cd-bccc-a931e62bea8a"
      },
      "outputs": [
        {
          "data": {
            "text/plain": [
              "<bound method DataFrame.info of                                                                       returns\n",
              "record_id                                                                    \n",
              "Frontiers_CP-66_CP-66_20210716-000000        channel                  nrg_lin\n",
              "                                             0 days 00:00:00              0.0\n",
              "                                             0 days 00:00:00.005000       0.0\n",
              "                                             0 days 00:00:00.010000       0.0\n",
              "                                             0 days 00:00:00.015000       0.0\n",
              "...                                                                       ...\n",
              "K-ICB_D_R4_20190613-114432_bBaybwGN2TYqid_6s 0 days 00:00:59.955000 -0.427326\n",
              "                                             0 days 00:00:59.960000  -0.42752\n",
              "                                             0 days 00:00:59.965000 -0.427665\n",
              "                                             0 days 00:00:59.970000 -0.427762\n",
              "                                             0 days 00:00:59.975000 -0.427811\n",
              "\n",
              "[51067305 rows x 1 columns]>"
            ]
          },
          "execution_count": 11,
          "metadata": {},
          "output_type": "execute_result"
        }
      ],
      "source": [
        "signals.info\n"
      ]
    },
    {
      "cell_type": "code",
      "execution_count": 12,
      "metadata": {
        "colab": {
          "base_uri": "https://localhost:8080/"
        },
        "id": "voVc7-bniLKT",
        "outputId": "3900bb09-7373-4c16-a3dd-c15ed47feb9c"
      },
      "outputs": [
        {
          "data": {
            "text/plain": [
              "Index(['returns'], dtype='object')"
            ]
          },
          "execution_count": 12,
          "metadata": {},
          "output_type": "execute_result"
        }
      ],
      "source": [
        "signals.columns"
      ]
    },
    {
      "cell_type": "code",
      "execution_count": 13,
      "metadata": {
        "id": "4RzSTHORkSsu"
      },
      "outputs": [],
      "source": [
        "sample_A = signals.sample(frac=0.5)\n",
        "sample_B = signals.sample(frac=0.5)"
      ]
    },
    {
      "cell_type": "code",
      "execution_count": 14,
      "metadata": {
        "colab": {
          "base_uri": "https://localhost:8080/"
        },
        "id": "83jNgIx9okQT",
        "outputId": "93f3a045-8ae7-4897-9b8a-64f081224d0e"
      },
      "outputs": [
        {
          "name": "stdout",
          "output_type": "stream",
          "text": [
            "TimeSeriesSplit(gap=0, max_train_size=None, n_splits=5, test_size=None)\n",
            "Fold 0:\n",
            "  Train: index=[      0       1       2 ... 4255609 4255610 4255611]\n",
            "  Test:  index=[4255612 4255613 4255614 ... 8511217 8511218 8511219]\n",
            "Fold 1:\n",
            "  Train: index=[      0       1       2 ... 8511217 8511218 8511219]\n",
            "  Test:  index=[ 8511220  8511221  8511222 ... 12766825 12766826 12766827]\n",
            "Fold 2:\n",
            "  Train: index=[       0        1        2 ... 12766825 12766826 12766827]\n",
            "  Test:  index=[12766828 12766829 12766830 ... 17022433 17022434 17022435]\n",
            "Fold 3:\n",
            "  Train: index=[       0        1        2 ... 17022433 17022434 17022435]\n",
            "  Test:  index=[17022436 17022437 17022438 ... 21278041 21278042 21278043]\n",
            "Fold 4:\n",
            "  Train: index=[       0        1        2 ... 21278041 21278042 21278043]\n",
            "  Test:  index=[21278044 21278045 21278046 ... 25533649 25533650 25533651]\n"
          ]
        }
      ],
      "source": [
        "from sklearn.model_selection import TimeSeriesSplit\n",
        "X = np.array(sample_A)\n",
        "y = np.array(sample_B)\n",
        "tscv = TimeSeriesSplit()\n",
        "print(tscv)\n",
        "TimeSeriesSplit(gap=0, max_train_size=None, n_splits=5, test_size=None)\n",
        "for i, (train_index, test_index) in enumerate(tscv.split(X)):\n",
        "  print(f\"Fold {i}:\")\n",
        "  print(f\"  Train: index={train_index}\")\n",
        "  print(f\"  Test:  index={test_index}\")"
      ]
    },
    {
      "attachments": {},
      "cell_type": "markdown",
      "metadata": {
        "id": "5r_V-ldHC3vT"
      },
      "source": [
        "<h1>Assorted Classifiers</h1>\n"
      ]
    },
    {
      "cell_type": "code",
      "execution_count": 15,
      "metadata": {
        "colab": {
          "base_uri": "https://localhost:8080/"
        },
        "id": "IRDBiVsaXNib",
        "outputId": "bd41e2b9-eeb9-4f9a-b9f7-616a2555afbd"
      },
      "outputs": [
        {
          "data": {
            "text/plain": [
              "array([21278044, 21278045, 21278046, ..., 25533649, 25533650, 25533651])"
            ]
          },
          "execution_count": 15,
          "metadata": {},
          "output_type": "execute_result"
        }
      ],
      "source": [
        "train_index\n",
        "test_index"
      ]
    },
    {
      "cell_type": "code",
      "execution_count": 16,
      "metadata": {
        "colab": {
          "base_uri": "https://localhost:8080/",
          "height": 238
        },
        "id": "_wunc35zXoVI",
        "outputId": "9254729c-849b-4727-be04-a9e402a9ecc1"
      },
      "outputs": [
        {
          "data": {
            "text/html": [
              "<div>\n",
              "<style scoped>\n",
              "    .dataframe tbody tr th:only-of-type {\n",
              "        vertical-align: middle;\n",
              "    }\n",
              "\n",
              "    .dataframe tbody tr th {\n",
              "        vertical-align: top;\n",
              "    }\n",
              "\n",
              "    .dataframe thead th {\n",
              "        text-align: right;\n",
              "    }\n",
              "</style>\n",
              "<table border=\"1\" class=\"dataframe\">\n",
              "  <thead>\n",
              "    <tr style=\"text-align: right;\">\n",
              "      <th></th>\n",
              "      <th></th>\n",
              "      <th>returns</th>\n",
              "    </tr>\n",
              "    <tr>\n",
              "      <th>record_id</th>\n",
              "      <th></th>\n",
              "      <th></th>\n",
              "    </tr>\n",
              "  </thead>\n",
              "  <tbody>\n",
              "    <tr>\n",
              "      <th rowspan=\"5\" valign=\"top\">Frontiers_CP-66_CP-66_20210716-000000</th>\n",
              "      <th>channel</th>\n",
              "      <td>nrg_lin</td>\n",
              "    </tr>\n",
              "    <tr>\n",
              "      <th>0 days 00:00:00</th>\n",
              "      <td>0.0</td>\n",
              "    </tr>\n",
              "    <tr>\n",
              "      <th>0 days 00:00:00.005000</th>\n",
              "      <td>0.0</td>\n",
              "    </tr>\n",
              "    <tr>\n",
              "      <th>0 days 00:00:00.010000</th>\n",
              "      <td>0.0</td>\n",
              "    </tr>\n",
              "    <tr>\n",
              "      <th>0 days 00:00:00.015000</th>\n",
              "      <td>0.0</td>\n",
              "    </tr>\n",
              "  </tbody>\n",
              "</table>\n",
              "</div>"
            ],
            "text/plain": [
              "                                                              returns\n",
              "record_id                                                            \n",
              "Frontiers_CP-66_CP-66_20210716-000000 channel                 nrg_lin\n",
              "                                      0 days 00:00:00             0.0\n",
              "                                      0 days 00:00:00.005000      0.0\n",
              "                                      0 days 00:00:00.010000      0.0\n",
              "                                      0 days 00:00:00.015000      0.0"
            ]
          },
          "execution_count": 16,
          "metadata": {},
          "output_type": "execute_result"
        }
      ],
      "source": [
        "signals.head()"
      ]
    },
    {
      "attachments": {},
      "cell_type": "markdown",
      "metadata": {},
      "source": [
        "<h1>Random Forest Classifier</h1>"
      ]
    },
    {
      "cell_type": "code",
      "execution_count": 22,
      "metadata": {
        "colab": {
          "base_uri": "https://localhost:8080/",
          "height": 380
        },
        "id": "DE_hLr_VLw9m",
        "outputId": "c847cb06-7155-48ab-f0b6-c48cc991f50c"
      },
      "outputs": [
        {
          "name": "stderr",
          "output_type": "stream",
          "text": [
            "/tmp/ipykernel_59724/2481652403.py:22: DataConversionWarning: A column-vector y was passed when a 1d array was expected. Please change the shape of y to (n_samples,), for example using ravel().\n",
            "  classifier.fit(X_train, y_train)\n"
          ]
        }
      ],
      "source": [
        "from sktime.datasets import load_tsf_to_dataframe\n",
        "from sklearn.model_selection import train_test_split\n",
        "from sklearn.ensemble import RandomForestClassifier\n",
        "from sklearn.metrics import accuracy_score\n",
        "\n",
        "X = train_index\n",
        "y = test_index\n",
        "\n",
        "#Reshape the data to be of the same length  \n",
        "X = X.reshape(-1, 1)\n",
        "y = y.reshape(-1, 1)\n",
        "\n",
        "#Make sure data is of the same length\n",
        "X = X[:y.shape[0]]\n",
        "y = y[:X.shape[0]]\n",
        "\n",
        "# Split data into training and testing sets\n",
        "X_train, X_test, y_train, y_test = train_test_split(X, y, test_size=0.3, random_state=0)\n",
        "\n",
        "# Train a RandomForestClassifier on the training set\n",
        "classifier = RandomForestClassifier(n_estimators=100)\n",
        "classifier.fit(X_train, y_train)\n",
        "\n",
        "# Evaluate the classifier on the test set\n",
        "y_pred = classifier.predict(X_test)\n",
        "accuracy = accuracy_score(y_test, y_pred)\n",
        "print(f\"Test accuracy: {accuracy:.2f}\")\n",
        "\n",
        "\n",
        "\n",
        "\n"
      ]
    },
    {
      "attachments": {},
      "cell_type": "markdown",
      "metadata": {},
      "source": [
        "<h1>Rocket Classifier</h1>"
      ]
    },
    {
      "cell_type": "code",
      "execution_count": null,
      "metadata": {},
      "outputs": [],
      "source": [
        "from sktime.classification.kernel_based import RocketClassifier\n",
        "\n",
        "rocket = RocketClassifier(num_kernels=2000)\n",
        "rocket.fit(X_train, y_train)\n",
        "y_pred = rocket.predict(X_test)\n",
        "\n",
        "accuracy_score(y_test, y_pred)"
      ]
    },
    {
      "attachments": {},
      "cell_type": "markdown",
      "metadata": {},
      "source": [
        "<h1>HIVECOTEV2 Classifier</h1>"
      ]
    },
    {
      "cell_type": "code",
      "execution_count": null,
      "metadata": {},
      "outputs": [],
      "source": [
        "from sktime.classification.hybrid import HIVECOTEV2\n",
        "\n",
        "hc2 = HIVECOTEV2(time_limit_in_minutes=0.2)\n",
        "hc2.fit(X_train, y_train)\n",
        "y_pred = hc2.predict(X_test)\n",
        "\n",
        "accuracy_score(y_test, y_pred)"
      ]
    },
    {
      "attachments": {},
      "cell_type": "markdown",
      "metadata": {},
      "source": [
        "<h1>DrCIF Classifier</h1>"
      ]
    },
    {
      "cell_type": "code",
      "execution_count": null,
      "metadata": {},
      "outputs": [],
      "source": [
        "from sktime.classification.interval_based import DrCIF\n",
        "from sktime.transformations.panel.compose import ColumnConcatenator\n",
        "\n",
        "clf = ColumnConcatenator() * DrCIF(n_estimators=10, n_intervals=5)\n",
        "clf.fit(X_train, y_train)\n",
        "y_pred = clf.predict(X_test)\n",
        "\n",
        "accuracy_score(y_test, y_pred)"
      ]
    },
    {
      "attachments": {},
      "cell_type": "markdown",
      "metadata": {},
      "source": [
        "<h1>Random Interval Classifier</h1>"
      ]
    },
    {
      "cell_type": "code",
      "execution_count": null,
      "metadata": {},
      "outputs": [],
      "source": [
        "from sktime.classification.feature_based import RandomIntervalClassifier\n",
        "from sktime.transformations.panel.padder import PaddingTransformer\n",
        "\n",
        "padded_clf = PaddingTransformer() * RandomIntervalClassifier(n_intervals=5)\n",
        "padded_clf.fit(X_train, y_train)\n",
        "y_pred = padded_clf.predict(X_test)\n",
        "\n",
        "accuracy_score(y_test, y_pred)"
      ]
    },
    {
      "cell_type": "code",
      "execution_count": null,
      "metadata": {},
      "outputs": [],
      "source": [
        "from sktime.registry import all_estimators\n",
        "\n",
        "# search for all classifiers which can handle unequal length data. This may give some\n",
        "# UserWarnings if soft dependencies are not installed.\n",
        "all_estimators(\n",
        "    filter_tags={\"capability:unequal_length\": True}, estimator_types=\"classifier\"\n",
        ")"
      ]
    }
  ],
  "metadata": {
    "accelerator": "TPU",
    "colab": {
      "provenance": []
    },
    "gpuClass": "standard",
    "kernelspec": {
      "display_name": "base",
      "language": "python",
      "name": "python3"
    },
    "language_info": {
      "codemirror_mode": {
        "name": "ipython",
        "version": 3
      },
      "file_extension": ".py",
      "mimetype": "text/x-python",
      "name": "python",
      "nbconvert_exporter": "python",
      "pygments_lexer": "ipython3",
      "version": "3.9.16"
    },
    "orig_nbformat": 4
  },
  "nbformat": 4,
  "nbformat_minor": 0
}
