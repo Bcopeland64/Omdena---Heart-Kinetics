{
 "cells": [
  {
   "cell_type": "code",
   "execution_count": null,
   "metadata": {},
   "outputs": [
    {
     "ename": "",
     "evalue": "",
     "output_type": "error",
     "traceback": [
      "\u001b[1;31mFailed to start the Kernel. \n",
      "\u001b[1;31mUnable to start Kernel 'base (Python 3.9.16)' due to connection timeout. \n",
      "\u001b[1;31mView Jupyter <a href='command:jupyter.viewOutput'>log</a> for further details."
     ]
    }
   ],
   "source": [
    "import xarray as xr\n",
    "import zarr\n",
    "import json\n",
    "from typing import Union\n",
    "from pathlib import Path\n",
    "import glob\n",
    "import pandas as pd\n",
    "\n",
    "\n",
    "def to_path(p: Union[str, Path]) -> Path:\n",
    "    return p if isinstance(p, Path) else Path(p)\n",
    "\n",
    "def find_records(path: str):\n",
    "    search_path: str = f\"{path}/**/signals/\"\n",
    "    all_paths = list(map(lambda x: str(to_path(x).parent), glob.glob(search_path, recursive=True)))\n",
    "    return all_paths\n",
    "\n",
    "class RecordReader():\n",
    "    def __init__(self, path: Union[str, Path]):\n",
    "        self.path = to_path(path)\n",
    "\n",
    "    def load_signal(self, sig_name):\n",
    "        return xr.open_zarr(self.path / \"signals\" / sig_name / \"dataset\")\n",
    "\n",
    "    def load_metadata(self):\n",
    "        with open(self.path / \"meta.json\", \"r\") as meta:\n",
    "            return json.load(meta)\n",
    "                \n",
    "                \n",
    "\n",
    "                "
   ]
  },
  {
   "cell_type": "code",
   "execution_count": 110,
   "metadata": {},
   "outputs": [],
   "source": []
  },
  {
   "cell_type": "code",
   "execution_count": null,
   "metadata": {},
   "outputs": [],
   "source": []
  }
 ],
 "metadata": {
  "kernelspec": {
   "display_name": "base",
   "language": "python",
   "name": "python3"
  },
  "language_info": {
   "codemirror_mode": {
    "name": "ipython",
    "version": 3
   },
   "file_extension": ".py",
   "mimetype": "text/x-python",
   "name": "python",
   "nbconvert_exporter": "python",
   "pygments_lexer": "ipython3",
   "version": "3.9.16"
  },
  "orig_nbformat": 4
 },
 "nbformat": 4,
 "nbformat_minor": 2
}
